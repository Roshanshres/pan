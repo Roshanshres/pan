{
  "nbformat": 4,
  "nbformat_minor": 0,
  "metadata": {
    "colab": {
      "provenance": [],
      "authorship_tag": "ABX9TyMCIOwLlY3yuZIcVjyiVY7q",
      "include_colab_link": true
    },
    "kernelspec": {
      "name": "python3",
      "display_name": "Python 3"
    },
    "language_info": {
      "name": "python"
    }
  },
  "cells": [
    {
      "cell_type": "markdown",
      "metadata": {
        "id": "view-in-github",
        "colab_type": "text"
      },
      "source": [
        "<a href=\"https://colab.research.google.com/github/Roshanshres/pandas/blob/main/15_Pandas.ipynb\" target=\"_parent\"><img src=\"https://colab.research.google.com/assets/colab-badge.svg\" alt=\"Open In Colab\"/></a>"
      ]
    },
    {
      "cell_type": "code",
      "execution_count": 46,
      "metadata": {
        "id": "t835vPl-2mXw"
      },
      "outputs": [],
      "source": []
    },
    {
      "cell_type": "markdown",
      "source": [
        "Pandas is fast powwerful flexible, and easy to use open source data analysis and manipulation tool, built on the top of the python programming language."
      ],
      "metadata": {
        "id": "X0LUMpGN2sed"
      }
    },
    {
      "cell_type": "markdown",
      "source": [
        "PANDA series are like column in table 1-D array holding data of any type."
      ],
      "metadata": {
        "id": "Q3HMR0_52_lA"
      }
    },
    {
      "cell_type": "markdown",
      "source": [
        "Types of objects\n",
        "\n",
        "\n",
        "1.   Series\n",
        "2.   Dataframe\n",
        "\n"
      ],
      "metadata": {
        "id": "SNPN_bAKONYJ"
      }
    },
    {
      "cell_type": "code",
      "source": [
        "#importing pandas\n",
        "import numpy as np\n",
        "import pandas as pd\n",
        "#series\n",
        "# create array\n",
        "country = ['India', 'Nepal', 'USA', 'SriLanka', 'UK']\n",
        "pd.Series(country)"
      ],
      "metadata": {
        "id": "PfiaHrSl2_Bh",
        "colab": {
          "base_uri": "https://localhost:8080/"
        },
        "outputId": "20d8212a-3c62-4f66-f829-f2d905b0367b"
      },
      "execution_count": 47,
      "outputs": [
        {
          "output_type": "execute_result",
          "data": {
            "text/plain": [
              "0       India\n",
              "1       Nepal\n",
              "2         USA\n",
              "3    SriLanka\n",
              "4          UK\n",
              "dtype: object"
            ]
          },
          "metadata": {},
          "execution_count": 47
        }
      ]
    },
    {
      "cell_type": "code",
      "source": [
        "runs = [13,24,56,78,99,123,124]\n",
        "pd.Series(runs)"
      ],
      "metadata": {
        "colab": {
          "base_uri": "https://localhost:8080/"
        },
        "id": "S50N4qKHPjiq",
        "outputId": "5fb2d500-5499-40a2-b9c4-1da1e843f350"
      },
      "execution_count": 48,
      "outputs": [
        {
          "output_type": "execute_result",
          "data": {
            "text/plain": [
              "0     13\n",
              "1     24\n",
              "2     56\n",
              "3     78\n",
              "4     99\n",
              "5    123\n",
              "6    124\n",
              "dtype: int64"
            ]
          },
          "metadata": {},
          "execution_count": 48
        }
      ]
    },
    {
      "cell_type": "code",
      "source": [
        "#custom index\n",
        "marks = [90,80,30,40]\n",
        "subject =   ['Physics','math', 'Biology', 'Nepal']\n",
        "pd.Series(marks, index= subject)"
      ],
      "metadata": {
        "colab": {
          "base_uri": "https://localhost:8080/"
        },
        "id": "pKt5FTcARb-b",
        "outputId": "5a9bb440-e033-4368-d560-eabad49f0f67"
      },
      "execution_count": 49,
      "outputs": [
        {
          "output_type": "execute_result",
          "data": {
            "text/plain": [
              "Physics    90\n",
              "math       80\n",
              "Biology    30\n",
              "Nepal      40\n",
              "dtype: int64"
            ]
          },
          "metadata": {},
          "execution_count": 49
        }
      ]
    },
    {
      "cell_type": "code",
      "source": [
        "#to give names\n",
        "pd.Series(marks,index = subject, name ='Roshan')\n",
        "#marks = pd.Series(index = subject, name = 'Roshan')"
      ],
      "metadata": {
        "colab": {
          "base_uri": "https://localhost:8080/"
        },
        "id": "aPGpkHI4R7GM",
        "outputId": "951e7b8a-351c-451b-900a-0640f05a20dd"
      },
      "execution_count": 50,
      "outputs": [
        {
          "output_type": "execute_result",
          "data": {
            "text/plain": [
              "Physics    90\n",
              "math       80\n",
              "Biology    30\n",
              "Nepal      40\n",
              "Name: Roshan, dtype: int64"
            ]
          },
          "metadata": {},
          "execution_count": 50
        }
      ]
    },
    {
      "cell_type": "code",
      "source": [
        "marks = pd.Series(index = subject, name = 'Roshan')\n",
        "marks"
      ],
      "metadata": {
        "colab": {
          "base_uri": "https://localhost:8080/"
        },
        "id": "Ccb2Lzm3UHmT",
        "outputId": "93832b05-f48e-4ba3-c4cb-02432fbea0b4"
      },
      "execution_count": 51,
      "outputs": [
        {
          "output_type": "stream",
          "name": "stderr",
          "text": [
            "<ipython-input-51-9c2fa23c53ef>:1: FutureWarning: The default dtype for empty Series will be 'object' instead of 'float64' in a future version. Specify a dtype explicitly to silence this warning.\n",
            "  marks = pd.Series(index = subject, name = 'Roshan')\n"
          ]
        },
        {
          "output_type": "execute_result",
          "data": {
            "text/plain": [
              "Physics   NaN\n",
              "math      NaN\n",
              "Biology   NaN\n",
              "Nepal     NaN\n",
              "Name: Roshan, dtype: float64"
            ]
          },
          "metadata": {},
          "execution_count": 51
        }
      ]
    },
    {
      "cell_type": "code",
      "source": [
        "#series from dict\n",
        "marks = {\n",
        "    'math':70,\n",
        "    'nepali':90,\n",
        "    'physics':80,\n",
        "    'chemistry': 60\n",
        "}\n",
        "marks_series = pd.Series(marks)\n",
        "marks"
      ],
      "metadata": {
        "colab": {
          "base_uri": "https://localhost:8080/"
        },
        "id": "Jdum_TUTUgRf",
        "outputId": "fd8b287a-a7f9-488d-8b17-5e507ee3cea3"
      },
      "execution_count": 52,
      "outputs": [
        {
          "output_type": "execute_result",
          "data": {
            "text/plain": [
              "{'math': 70, 'nepali': 90, 'physics': 80, 'chemistry': 60}"
            ]
          },
          "metadata": {},
          "execution_count": 52
        }
      ]
    },
    {
      "cell_type": "code",
      "source": [
        "pd.Series(marks, name = 'roshan')"
      ],
      "metadata": {
        "colab": {
          "base_uri": "https://localhost:8080/"
        },
        "id": "kipX9GGDVYqk",
        "outputId": "6d5d430a-6554-42df-9c9b-018564c788a0"
      },
      "execution_count": 53,
      "outputs": [
        {
          "output_type": "execute_result",
          "data": {
            "text/plain": [
              "math         70\n",
              "nepali       90\n",
              "physics      80\n",
              "chemistry    60\n",
              "Name: roshan, dtype: int64"
            ]
          },
          "metadata": {},
          "execution_count": 53
        }
      ]
    },
    {
      "cell_type": "code",
      "source": [],
      "metadata": {
        "id": "27_u6MIfjJcI"
      },
      "execution_count": 53,
      "outputs": []
    },
    {
      "cell_type": "code",
      "source": [],
      "metadata": {
        "id": "Rq8z1VNpnrZv"
      },
      "execution_count": 53,
      "outputs": []
    },
    {
      "cell_type": "markdown",
      "source": [
        "SERIESE USING READ_CSV\n"
      ],
      "metadata": {
        "id": "PeHpsKitntSh"
      }
    },
    {
      "cell_type": "code",
      "source": [
        "# pd.read_csv('/content/subs.csv')\n",
        "#this is not in series to see type we do\n",
        "type(pd.read_csv('/content/subs.csv'))"
      ],
      "metadata": {
        "colab": {
          "base_uri": "https://localhost:8080/"
        },
        "id": "UyzGLmVXn1Cf",
        "outputId": "8a5d2872-097e-4c04-82a9-a5c932eff4e1"
      },
      "execution_count": 54,
      "outputs": [
        {
          "output_type": "execute_result",
          "data": {
            "text/plain": [
              "pandas.core.frame.DataFrame"
            ]
          },
          "metadata": {},
          "execution_count": 54
        }
      ]
    },
    {
      "cell_type": "code",
      "source": [
        "#to convert into serires\n",
        "pd.read_csv('/content/subs.csv', squeeze =True)"
      ],
      "metadata": {
        "colab": {
          "base_uri": "https://localhost:8080/"
        },
        "id": "dQqQETCroZlT",
        "outputId": "a51b4acd-79c2-426c-e302-a947b8509c9f"
      },
      "execution_count": 55,
      "outputs": [
        {
          "output_type": "stream",
          "name": "stderr",
          "text": [
            "<ipython-input-55-a23808ec79f0>:2: FutureWarning: The squeeze argument has been deprecated and will be removed in a future version. Append .squeeze(\"columns\") to the call to squeeze.\n",
            "\n",
            "\n",
            "  pd.read_csv('/content/subs.csv', squeeze =True)\n"
          ]
        },
        {
          "output_type": "execute_result",
          "data": {
            "text/plain": [
              "0       48\n",
              "1       57\n",
              "2       40\n",
              "3       43\n",
              "4       44\n",
              "      ... \n",
              "360    231\n",
              "361    226\n",
              "362    155\n",
              "363    144\n",
              "364    172\n",
              "Name: Subscribers gained, Length: 365, dtype: int64"
            ]
          },
          "metadata": {},
          "execution_count": 55
        }
      ]
    },
    {
      "cell_type": "code",
      "source": [
        "#insert into variable\n",
        "subs = pd.read_csv('/content/subs.csv', squeeze = True)\n",
        "subs"
      ],
      "metadata": {
        "colab": {
          "base_uri": "https://localhost:8080/"
        },
        "id": "65ydETdopCGj",
        "outputId": "3e4e4d74-c610-412b-e569-8bbbb6d10347"
      },
      "execution_count": 56,
      "outputs": [
        {
          "output_type": "stream",
          "name": "stderr",
          "text": [
            "<ipython-input-56-65ae27aa4615>:2: FutureWarning: The squeeze argument has been deprecated and will be removed in a future version. Append .squeeze(\"columns\") to the call to squeeze.\n",
            "\n",
            "\n",
            "  subs = pd.read_csv('/content/subs.csv', squeeze = True)\n"
          ]
        },
        {
          "output_type": "execute_result",
          "data": {
            "text/plain": [
              "0       48\n",
              "1       57\n",
              "2       40\n",
              "3       43\n",
              "4       44\n",
              "      ... \n",
              "360    231\n",
              "361    226\n",
              "362    155\n",
              "363    144\n",
              "364    172\n",
              "Name: Subscribers gained, Length: 365, dtype: int64"
            ]
          },
          "metadata": {},
          "execution_count": 56
        }
      ]
    },
    {
      "cell_type": "code",
      "source": [
        "#with 2 column\n",
        "vk = pd.read_csv('/content/kohli_ipl.csv', index_col = 'match_no', squeeze = True)\n",
        "vk"
      ],
      "metadata": {
        "colab": {
          "base_uri": "https://localhost:8080/"
        },
        "id": "I7pLG40CqdU7",
        "outputId": "ca8cd49c-6d13-4b3f-b1cc-353480247786"
      },
      "execution_count": 57,
      "outputs": [
        {
          "output_type": "stream",
          "name": "stderr",
          "text": [
            "<ipython-input-57-fa9ec3401079>:2: FutureWarning: The squeeze argument has been deprecated and will be removed in a future version. Append .squeeze(\"columns\") to the call to squeeze.\n",
            "\n",
            "\n",
            "  vk = pd.read_csv('/content/kohli_ipl.csv', index_col = 'match_no', squeeze = True)\n"
          ]
        },
        {
          "output_type": "execute_result",
          "data": {
            "text/plain": [
              "match_no\n",
              "1       1\n",
              "2      23\n",
              "3      13\n",
              "4      12\n",
              "5       1\n",
              "       ..\n",
              "211     0\n",
              "212    20\n",
              "213    73\n",
              "214    25\n",
              "215     7\n",
              "Name: runs, Length: 215, dtype: int64"
            ]
          },
          "metadata": {},
          "execution_count": 57
        }
      ]
    },
    {
      "cell_type": "code",
      "source": [
        "#with 2 column --- bollyhood\n",
        "bolly = pd.read_csv('/content/bollywood.csv', index_col = 'movie', squeeze = True)\n",
        "bolly"
      ],
      "metadata": {
        "colab": {
          "base_uri": "https://localhost:8080/"
        },
        "id": "6g4VOeE-rcaB",
        "outputId": "1fc5a792-7bfd-4fb4-86e5-810684953bff"
      },
      "execution_count": 58,
      "outputs": [
        {
          "output_type": "stream",
          "name": "stderr",
          "text": [
            "<ipython-input-58-b2dabc78fed1>:2: FutureWarning: The squeeze argument has been deprecated and will be removed in a future version. Append .squeeze(\"columns\") to the call to squeeze.\n",
            "\n",
            "\n",
            "  bolly = pd.read_csv('/content/bollywood.csv', index_col = 'movie', squeeze = True)\n"
          ]
        },
        {
          "output_type": "execute_result",
          "data": {
            "text/plain": [
              "movie\n",
              "Uri: The Surgical Strike                   Vicky Kaushal\n",
              "Battalion 609                                Vicky Ahuja\n",
              "The Accidental Prime Minister (film)         Anupam Kher\n",
              "Why Cheat India                            Emraan Hashmi\n",
              "Evening Shadows                         Mona Ambegaonkar\n",
              "                                              ...       \n",
              "Hum Tumhare Hain Sanam                    Shah Rukh Khan\n",
              "Aankhen (2002 film)                     Amitabh Bachchan\n",
              "Saathiya (film)                             Vivek Oberoi\n",
              "Company (film)                                Ajay Devgn\n",
              "Awara Paagal Deewana                        Akshay Kumar\n",
              "Name: lead, Length: 1500, dtype: object"
            ]
          },
          "metadata": {},
          "execution_count": 58
        }
      ]
    },
    {
      "cell_type": "code",
      "source": [
        "#head and tail\n",
        "subs.head()"
      ],
      "metadata": {
        "id": "wzVzuagisW-k",
        "colab": {
          "base_uri": "https://localhost:8080/"
        },
        "outputId": "4a21bbe8-4be8-4996-cee8-6a54fcee6720"
      },
      "execution_count": 59,
      "outputs": [
        {
          "output_type": "execute_result",
          "data": {
            "text/plain": [
              "0    48\n",
              "1    57\n",
              "2    40\n",
              "3    43\n",
              "4    44\n",
              "Name: Subscribers gained, dtype: int64"
            ]
          },
          "metadata": {},
          "execution_count": 59
        }
      ]
    },
    {
      "cell_type": "code",
      "source": [
        "#for rows-- 1st 5 rows\n",
        "vk.head()"
      ],
      "metadata": {
        "colab": {
          "base_uri": "https://localhost:8080/"
        },
        "id": "pp8UA2kEs-XG",
        "outputId": "ae0c1931-081a-4f39-9b12-6a696efcfb15"
      },
      "execution_count": 60,
      "outputs": [
        {
          "output_type": "execute_result",
          "data": {
            "text/plain": [
              "match_no\n",
              "1     1\n",
              "2    23\n",
              "3    13\n",
              "4    12\n",
              "5     1\n",
              "Name: runs, dtype: int64"
            ]
          },
          "metadata": {},
          "execution_count": 60
        }
      ]
    },
    {
      "cell_type": "code",
      "source": [
        "#last 5 rows\n",
        "bolly.tail()"
      ],
      "metadata": {
        "colab": {
          "base_uri": "https://localhost:8080/"
        },
        "id": "qsHxnTmDtNSr",
        "outputId": "681bf100-9b68-4693-c3ad-d502bf4ac68a"
      },
      "execution_count": 61,
      "outputs": [
        {
          "output_type": "execute_result",
          "data": {
            "text/plain": [
              "movie\n",
              "Hum Tumhare Hain Sanam      Shah Rukh Khan\n",
              "Aankhen (2002 film)       Amitabh Bachchan\n",
              "Saathiya (film)               Vivek Oberoi\n",
              "Company (film)                  Ajay Devgn\n",
              "Awara Paagal Deewana          Akshay Kumar\n",
              "Name: lead, dtype: object"
            ]
          },
          "metadata": {},
          "execution_count": 61
        }
      ]
    },
    {
      "cell_type": "code",
      "source": [
        "#randomly takes\n",
        "bolly.sample()"
      ],
      "metadata": {
        "colab": {
          "base_uri": "https://localhost:8080/"
        },
        "id": "yvgAYPl0tIS0",
        "outputId": "1e5959c8-87a0-4f11-fd7b-e4240747f190"
      },
      "execution_count": 62,
      "outputs": [
        {
          "output_type": "execute_result",
          "data": {
            "text/plain": [
              "movie\n",
              "Fuddu    Shubham\n",
              "Name: lead, dtype: object"
            ]
          },
          "metadata": {},
          "execution_count": 62
        }
      ]
    },
    {
      "cell_type": "code",
      "source": [
        "#value _- counts\n",
        "bolly.value_counts()"
      ],
      "metadata": {
        "colab": {
          "base_uri": "https://localhost:8080/"
        },
        "id": "Pt-crEBTtkCz",
        "outputId": "24fcf05e-f0d2-463d-f07c-924ec9a2e127"
      },
      "execution_count": 63,
      "outputs": [
        {
          "output_type": "execute_result",
          "data": {
            "text/plain": [
              "Akshay Kumar        48\n",
              "Amitabh Bachchan    45\n",
              "Ajay Devgn          38\n",
              "Salman Khan         31\n",
              "Sanjay Dutt         26\n",
              "                    ..\n",
              "Diganth              1\n",
              "Parveen Kaur         1\n",
              "Seema Azmi           1\n",
              "Akanksha Puri        1\n",
              "Edwin Fernandes      1\n",
              "Name: lead, Length: 566, dtype: int64"
            ]
          },
          "metadata": {},
          "execution_count": 63
        }
      ]
    },
    {
      "cell_type": "code",
      "source": [
        "vk.value_counts()"
      ],
      "metadata": {
        "colab": {
          "base_uri": "https://localhost:8080/"
        },
        "id": "yltMaNc8t3H0",
        "outputId": "328b0f31-853a-4717-cc0d-cb6d0195361b"
      },
      "execution_count": 64,
      "outputs": [
        {
          "output_type": "execute_result",
          "data": {
            "text/plain": [
              "0     9\n",
              "1     8\n",
              "12    8\n",
              "9     7\n",
              "35    6\n",
              "     ..\n",
              "36    1\n",
              "45    1\n",
              "71    1\n",
              "37    1\n",
              "53    1\n",
              "Name: runs, Length: 78, dtype: int64"
            ]
          },
          "metadata": {},
          "execution_count": 64
        }
      ]
    },
    {
      "cell_type": "code",
      "source": [
        "#sort_values---inplace\n",
        "vk.sort_values()"
      ],
      "metadata": {
        "colab": {
          "base_uri": "https://localhost:8080/"
        },
        "id": "MYvxZxPFuXtD",
        "outputId": "82f1e412-7f78-4b81-a30e-6dafa854cef0"
      },
      "execution_count": 65,
      "outputs": [
        {
          "output_type": "execute_result",
          "data": {
            "text/plain": [
              "match_no\n",
              "87       0\n",
              "211      0\n",
              "207      0\n",
              "206      0\n",
              "91       0\n",
              "      ... \n",
              "164    100\n",
              "120    100\n",
              "123    108\n",
              "126    109\n",
              "128    113\n",
              "Name: runs, Length: 215, dtype: int64"
            ]
          },
          "metadata": {},
          "execution_count": 65
        }
      ]
    },
    {
      "cell_type": "code",
      "source": [
        "vk.sort_values(ascending = False)"
      ],
      "metadata": {
        "id": "AewV0MFKultw",
        "colab": {
          "base_uri": "https://localhost:8080/"
        },
        "outputId": "e011e40b-947e-4d73-a821-c49013215508"
      },
      "execution_count": 66,
      "outputs": [
        {
          "output_type": "execute_result",
          "data": {
            "text/plain": [
              "match_no\n",
              "128    113\n",
              "126    109\n",
              "123    108\n",
              "164    100\n",
              "120    100\n",
              "      ... \n",
              "93       0\n",
              "211      0\n",
              "130      0\n",
              "8        0\n",
              "135      0\n",
              "Name: runs, Length: 215, dtype: int64"
            ]
          },
          "metadata": {},
          "execution_count": 66
        }
      ]
    },
    {
      "cell_type": "code",
      "source": [
        "#sort index\n",
        "bolly.sort_index()"
      ],
      "metadata": {
        "colab": {
          "base_uri": "https://localhost:8080/"
        },
        "id": "T7PD1Wudv4mV",
        "outputId": "291f8da8-c88c-47d6-e2d3-914326fcfb06"
      },
      "execution_count": 67,
      "outputs": [
        {
          "output_type": "execute_result",
          "data": {
            "text/plain": [
              "movie\n",
              "1920 (film)                   Rajniesh Duggall\n",
              "1920: London                     Sharman Joshi\n",
              "1920: The Evil Returns             Vicky Ahuja\n",
              "1971 (2007 film)                Manoj Bajpayee\n",
              "2 States (2014 film)              Arjun Kapoor\n",
              "                                   ...        \n",
              "Zindagi 50-50                      Veena Malik\n",
              "Zindagi Na Milegi Dobara        Hrithik Roshan\n",
              "Zindagi Tere Naam           Mithun Chakraborty\n",
              "Zokkomon                       Darsheel Safary\n",
              "Zor Lagaa Ke...Haiya!            Meghan Jadhav\n",
              "Name: lead, Length: 1500, dtype: object"
            ]
          },
          "metadata": {},
          "execution_count": 67
        }
      ]
    },
    {
      "cell_type": "code",
      "source": [
        "bolly.sort_index(inplace = True)"
      ],
      "metadata": {
        "id": "9844Ee7SwDh0"
      },
      "execution_count": 68,
      "outputs": []
    },
    {
      "cell_type": "code",
      "source": [
        "bolly"
      ],
      "metadata": {
        "colab": {
          "base_uri": "https://localhost:8080/"
        },
        "id": "F1ub8HycwMLo",
        "outputId": "11342b33-843f-4834-c9e1-23e69697a8a0"
      },
      "execution_count": 69,
      "outputs": [
        {
          "output_type": "execute_result",
          "data": {
            "text/plain": [
              "movie\n",
              "1920 (film)                   Rajniesh Duggall\n",
              "1920: London                     Sharman Joshi\n",
              "1920: The Evil Returns             Vicky Ahuja\n",
              "1971 (2007 film)                Manoj Bajpayee\n",
              "2 States (2014 film)              Arjun Kapoor\n",
              "                                   ...        \n",
              "Zindagi 50-50                      Veena Malik\n",
              "Zindagi Na Milegi Dobara        Hrithik Roshan\n",
              "Zindagi Tere Naam           Mithun Chakraborty\n",
              "Zokkomon                       Darsheel Safary\n",
              "Zor Lagaa Ke...Haiya!            Meghan Jadhav\n",
              "Name: lead, Length: 1500, dtype: object"
            ]
          },
          "metadata": {},
          "execution_count": 69
        }
      ]
    },
    {
      "cell_type": "markdown",
      "source": [
        "#series maths methods\n",
        "#count\n",
        "count no.of items but not missing value[Gives total no,of rows given in series only if not missing]\n",
        "\n"
      ],
      "metadata": {
        "id": "TpH7FrL7BG6h"
      }
    },
    {
      "cell_type": "code",
      "source": [
        "#count\n",
        "vk.count()"
      ],
      "metadata": {
        "colab": {
          "base_uri": "https://localhost:8080/"
        },
        "id": "GUzyUb_bBB8t",
        "outputId": "074f1643-111a-41a4-880e-8ab50301f3ca"
      },
      "execution_count": 70,
      "outputs": [
        {
          "output_type": "execute_result",
          "data": {
            "text/plain": [
              "215"
            ]
          },
          "metadata": {},
          "execution_count": 70
        }
      ]
    },
    {
      "cell_type": "code",
      "source": [
        "bolly.count()"
      ],
      "metadata": {
        "colab": {
          "base_uri": "https://localhost:8080/"
        },
        "id": "VDG46tjPBzJl",
        "outputId": "ea68d1c3-4daa-46ff-ab73-13ccb1182787"
      },
      "execution_count": 71,
      "outputs": [
        {
          "output_type": "execute_result",
          "data": {
            "text/plain": [
              "1500"
            ]
          },
          "metadata": {},
          "execution_count": 71
        }
      ]
    },
    {
      "cell_type": "code",
      "source": [
        "#sum\n",
        "subs.sum()"
      ],
      "metadata": {
        "colab": {
          "base_uri": "https://localhost:8080/"
        },
        "id": "sCIKyudDB1HM",
        "outputId": "7893328b-6cf9-4be6-d25b-40d6103002a8"
      },
      "execution_count": 72,
      "outputs": [
        {
          "output_type": "execute_result",
          "data": {
            "text/plain": [
              "49510"
            ]
          },
          "metadata": {},
          "execution_count": 72
        }
      ]
    },
    {
      "cell_type": "code",
      "source": [
        "vk.product()"
      ],
      "metadata": {
        "colab": {
          "base_uri": "https://localhost:8080/"
        },
        "id": "ukuxX3VLCFnM",
        "outputId": "13dc78d7-5e26-49ac-fa09-ccb7cd5130b7"
      },
      "execution_count": 73,
      "outputs": [
        {
          "output_type": "execute_result",
          "data": {
            "text/plain": [
              "0"
            ]
          },
          "metadata": {},
          "execution_count": 73
        }
      ]
    },
    {
      "cell_type": "code",
      "source": [
        "#mean\n",
        "# subs.mean()\n",
        "subs"
      ],
      "metadata": {
        "colab": {
          "base_uri": "https://localhost:8080/"
        },
        "id": "BMPxEGtnDwOM",
        "outputId": "b74b9472-7f26-4f4e-8924-bcd927094cb9"
      },
      "execution_count": 74,
      "outputs": [
        {
          "output_type": "execute_result",
          "data": {
            "text/plain": [
              "0       48\n",
              "1       57\n",
              "2       40\n",
              "3       43\n",
              "4       44\n",
              "      ... \n",
              "360    231\n",
              "361    226\n",
              "362    155\n",
              "363    144\n",
              "364    172\n",
              "Name: Subscribers gained, Length: 365, dtype: int64"
            ]
          },
          "metadata": {},
          "execution_count": 74
        }
      ]
    },
    {
      "cell_type": "code",
      "source": [
        "\n",
        "print(subs.median())"
      ],
      "metadata": {
        "colab": {
          "base_uri": "https://localhost:8080/"
        },
        "id": "EjLvRn9WD2SB",
        "outputId": "74b802eb-7623-4450-de87-dcaedfcba254"
      },
      "execution_count": 75,
      "outputs": [
        {
          "output_type": "stream",
          "name": "stdout",
          "text": [
            "123.0\n"
          ]
        }
      ]
    },
    {
      "cell_type": "code",
      "source": [
        "#mode\n",
        "print(bolly.mode())\n"
      ],
      "metadata": {
        "colab": {
          "base_uri": "https://localhost:8080/"
        },
        "id": "37XAPJR0EH-I",
        "outputId": "cbb7bf7c-acae-4ec4-c488-bbc783b0fde5"
      },
      "execution_count": 76,
      "outputs": [
        {
          "output_type": "stream",
          "name": "stdout",
          "text": [
            "0    Akshay Kumar\n",
            "Name: lead, dtype: object\n"
          ]
        }
      ]
    },
    {
      "cell_type": "code",
      "source": [
        "#standard deviation\n",
        "print(subs.std())"
      ],
      "metadata": {
        "colab": {
          "base_uri": "https://localhost:8080/"
        },
        "id": "6RrRl4Q7ESWN",
        "outputId": "b1295fdd-11ad-41cd-cbc0-7fb160914346"
      },
      "execution_count": 77,
      "outputs": [
        {
          "output_type": "stream",
          "name": "stdout",
          "text": [
            "62.6750230372527\n"
          ]
        }
      ]
    },
    {
      "cell_type": "code",
      "source": [
        "print(vk.var())"
      ],
      "metadata": {
        "colab": {
          "base_uri": "https://localhost:8080/"
        },
        "id": "WP_8e8bcEkrh",
        "outputId": "6f1c8da2-3ae0-429a-95b2-4af38e20faab"
      },
      "execution_count": 78,
      "outputs": [
        {
          "output_type": "stream",
          "name": "stdout",
          "text": [
            "688.0024777222343\n"
          ]
        }
      ]
    },
    {
      "cell_type": "code",
      "source": [
        "#min/max\n",
        "subs.min()"
      ],
      "metadata": {
        "colab": {
          "base_uri": "https://localhost:8080/"
        },
        "id": "0KZrNj2_EocS",
        "outputId": "462752ef-da25-42ee-c4bc-15d3296dcd9f"
      },
      "execution_count": 79,
      "outputs": [
        {
          "output_type": "execute_result",
          "data": {
            "text/plain": [
              "33"
            ]
          },
          "metadata": {},
          "execution_count": 79
        }
      ]
    },
    {
      "cell_type": "code",
      "source": [
        "subs.max()"
      ],
      "metadata": {
        "colab": {
          "base_uri": "https://localhost:8080/"
        },
        "id": "i-DGfBY3EuyK",
        "outputId": "b493411c-faf0-4f77-c9b4-a0abb6dc0262"
      },
      "execution_count": 80,
      "outputs": [
        {
          "output_type": "execute_result",
          "data": {
            "text/plain": [
              "396"
            ]
          },
          "metadata": {},
          "execution_count": 80
        }
      ]
    },
    {
      "cell_type": "code",
      "source": [
        "vk.describe()"
      ],
      "metadata": {
        "colab": {
          "base_uri": "https://localhost:8080/"
        },
        "id": "jfQ4NQsSExzX",
        "outputId": "6ff148f1-a2f9-48f8-ee32-27567eaa9663"
      },
      "execution_count": 84,
      "outputs": [
        {
          "output_type": "execute_result",
          "data": {
            "text/plain": [
              "count    215.000000\n",
              "mean      30.855814\n",
              "std       26.229801\n",
              "min        0.000000\n",
              "25%        9.000000\n",
              "50%       24.000000\n",
              "75%       48.000000\n",
              "max      113.000000\n",
              "Name: runs, dtype: float64"
            ]
          },
          "metadata": {},
          "execution_count": 84
        }
      ]
    },
    {
      "cell_type": "markdown",
      "source": [
        "series indexing\n",
        "given series inside takes items using index\n"
      ],
      "metadata": {
        "id": "qI9CAEWmE68P"
      }
    },
    {
      "cell_type": "code",
      "source": [
        "#integer indexing\n",
        "x  = pd.Series([10,22,31,24,33,23,11,44,56])\n",
        "x"
      ],
      "metadata": {
        "colab": {
          "base_uri": "https://localhost:8080/"
        },
        "id": "R2k_asPYFDbd",
        "outputId": "5c52cca6-af87-4335-a578-08c9bd974947"
      },
      "execution_count": 82,
      "outputs": [
        {
          "output_type": "execute_result",
          "data": {
            "text/plain": [
              "0    10\n",
              "1    22\n",
              "2    31\n",
              "3    24\n",
              "4    33\n",
              "5    23\n",
              "6    11\n",
              "7    44\n",
              "8    56\n",
              "dtype: int64"
            ]
          },
          "metadata": {},
          "execution_count": 82
        }
      ]
    },
    {
      "cell_type": "code",
      "source": [
        "#series +ve ma use hunxa negativve ma hudaina\n",
        "#tara custom index ma (string) kaam gardaina"
      ],
      "metadata": {
        "id": "iaG2OFH4PlTU"
      },
      "execution_count": null,
      "outputs": []
    },
    {
      "cell_type": "code",
      "source": [
        "#slicing\n",
        "#ekaichoti multiple item fetch garni\n",
        "#5-15 match\n",
        "vk[5-16]"
      ],
      "metadata": {
        "colab": {
          "base_uri": "https://localhost:8080/",
          "height": 528
        },
        "id": "X4nKAJhmW4nF",
        "outputId": "8f905884-b607-4e90-8832-085eb2ef5c00"
      },
      "execution_count": 85,
      "outputs": [
        {
          "output_type": "error",
          "ename": "KeyError",
          "evalue": "ignored",
          "traceback": [
            "\u001b[0;31m---------------------------------------------------------------------------\u001b[0m",
            "\u001b[0;31mKeyError\u001b[0m                                  Traceback (most recent call last)",
            "\u001b[0;32m/usr/local/lib/python3.10/dist-packages/pandas/core/indexes/base.py\u001b[0m in \u001b[0;36mget_loc\u001b[0;34m(self, key, method, tolerance)\u001b[0m\n\u001b[1;32m   3801\u001b[0m             \u001b[0;32mtry\u001b[0m\u001b[0;34m:\u001b[0m\u001b[0;34m\u001b[0m\u001b[0;34m\u001b[0m\u001b[0m\n\u001b[0;32m-> 3802\u001b[0;31m                 \u001b[0;32mreturn\u001b[0m \u001b[0mself\u001b[0m\u001b[0;34m.\u001b[0m\u001b[0m_engine\u001b[0m\u001b[0;34m.\u001b[0m\u001b[0mget_loc\u001b[0m\u001b[0;34m(\u001b[0m\u001b[0mcasted_key\u001b[0m\u001b[0;34m)\u001b[0m\u001b[0;34m\u001b[0m\u001b[0;34m\u001b[0m\u001b[0m\n\u001b[0m\u001b[1;32m   3803\u001b[0m             \u001b[0;32mexcept\u001b[0m \u001b[0mKeyError\u001b[0m \u001b[0;32mas\u001b[0m \u001b[0merr\u001b[0m\u001b[0;34m:\u001b[0m\u001b[0;34m\u001b[0m\u001b[0;34m\u001b[0m\u001b[0m\n",
            "\u001b[0;32m/usr/local/lib/python3.10/dist-packages/pandas/_libs/index.pyx\u001b[0m in \u001b[0;36mpandas._libs.index.IndexEngine.get_loc\u001b[0;34m()\u001b[0m\n",
            "\u001b[0;32m/usr/local/lib/python3.10/dist-packages/pandas/_libs/index.pyx\u001b[0m in \u001b[0;36mpandas._libs.index.IndexEngine.get_loc\u001b[0;34m()\u001b[0m\n",
            "\u001b[0;32mpandas/_libs/hashtable_class_helper.pxi\u001b[0m in \u001b[0;36mpandas._libs.hashtable.Int64HashTable.get_item\u001b[0;34m()\u001b[0m\n",
            "\u001b[0;32mpandas/_libs/hashtable_class_helper.pxi\u001b[0m in \u001b[0;36mpandas._libs.hashtable.Int64HashTable.get_item\u001b[0;34m()\u001b[0m\n",
            "\u001b[0;31mKeyError\u001b[0m: -11",
            "\nThe above exception was the direct cause of the following exception:\n",
            "\u001b[0;31mKeyError\u001b[0m                                  Traceback (most recent call last)",
            "\u001b[0;32m<ipython-input-85-5ac02095fe92>\u001b[0m in \u001b[0;36m<cell line: 4>\u001b[0;34m()\u001b[0m\n\u001b[1;32m      2\u001b[0m \u001b[0;31m#ekaichoti multiple item fetch garni\u001b[0m\u001b[0;34m\u001b[0m\u001b[0;34m\u001b[0m\u001b[0m\n\u001b[1;32m      3\u001b[0m \u001b[0;31m#5-15 match\u001b[0m\u001b[0;34m\u001b[0m\u001b[0;34m\u001b[0m\u001b[0m\n\u001b[0;32m----> 4\u001b[0;31m \u001b[0mvk\u001b[0m\u001b[0;34m[\u001b[0m\u001b[0;36m5\u001b[0m\u001b[0;34m-\u001b[0m\u001b[0;36m16\u001b[0m\u001b[0;34m]\u001b[0m\u001b[0;34m\u001b[0m\u001b[0;34m\u001b[0m\u001b[0m\n\u001b[0m",
            "\u001b[0;32m/usr/local/lib/python3.10/dist-packages/pandas/core/series.py\u001b[0m in \u001b[0;36m__getitem__\u001b[0;34m(self, key)\u001b[0m\n\u001b[1;32m    979\u001b[0m \u001b[0;34m\u001b[0m\u001b[0m\n\u001b[1;32m    980\u001b[0m         \u001b[0;32melif\u001b[0m \u001b[0mkey_is_scalar\u001b[0m\u001b[0;34m:\u001b[0m\u001b[0;34m\u001b[0m\u001b[0;34m\u001b[0m\u001b[0m\n\u001b[0;32m--> 981\u001b[0;31m             \u001b[0;32mreturn\u001b[0m \u001b[0mself\u001b[0m\u001b[0;34m.\u001b[0m\u001b[0m_get_value\u001b[0m\u001b[0;34m(\u001b[0m\u001b[0mkey\u001b[0m\u001b[0;34m)\u001b[0m\u001b[0;34m\u001b[0m\u001b[0;34m\u001b[0m\u001b[0m\n\u001b[0m\u001b[1;32m    982\u001b[0m \u001b[0;34m\u001b[0m\u001b[0m\n\u001b[1;32m    983\u001b[0m         \u001b[0;32mif\u001b[0m \u001b[0mis_hashable\u001b[0m\u001b[0;34m(\u001b[0m\u001b[0mkey\u001b[0m\u001b[0;34m)\u001b[0m\u001b[0;34m:\u001b[0m\u001b[0;34m\u001b[0m\u001b[0;34m\u001b[0m\u001b[0m\n",
            "\u001b[0;32m/usr/local/lib/python3.10/dist-packages/pandas/core/series.py\u001b[0m in \u001b[0;36m_get_value\u001b[0;34m(self, label, takeable)\u001b[0m\n\u001b[1;32m   1087\u001b[0m \u001b[0;34m\u001b[0m\u001b[0m\n\u001b[1;32m   1088\u001b[0m         \u001b[0;31m# Similar to Index.get_value, but we do not fall back to positional\u001b[0m\u001b[0;34m\u001b[0m\u001b[0;34m\u001b[0m\u001b[0m\n\u001b[0;32m-> 1089\u001b[0;31m         \u001b[0mloc\u001b[0m \u001b[0;34m=\u001b[0m \u001b[0mself\u001b[0m\u001b[0;34m.\u001b[0m\u001b[0mindex\u001b[0m\u001b[0;34m.\u001b[0m\u001b[0mget_loc\u001b[0m\u001b[0;34m(\u001b[0m\u001b[0mlabel\u001b[0m\u001b[0;34m)\u001b[0m\u001b[0;34m\u001b[0m\u001b[0;34m\u001b[0m\u001b[0m\n\u001b[0m\u001b[1;32m   1090\u001b[0m         \u001b[0;32mreturn\u001b[0m \u001b[0mself\u001b[0m\u001b[0;34m.\u001b[0m\u001b[0mindex\u001b[0m\u001b[0;34m.\u001b[0m\u001b[0m_get_values_for_loc\u001b[0m\u001b[0;34m(\u001b[0m\u001b[0mself\u001b[0m\u001b[0;34m,\u001b[0m \u001b[0mloc\u001b[0m\u001b[0;34m,\u001b[0m \u001b[0mlabel\u001b[0m\u001b[0;34m)\u001b[0m\u001b[0;34m\u001b[0m\u001b[0;34m\u001b[0m\u001b[0m\n\u001b[1;32m   1091\u001b[0m \u001b[0;34m\u001b[0m\u001b[0m\n",
            "\u001b[0;32m/usr/local/lib/python3.10/dist-packages/pandas/core/indexes/base.py\u001b[0m in \u001b[0;36mget_loc\u001b[0;34m(self, key, method, tolerance)\u001b[0m\n\u001b[1;32m   3802\u001b[0m                 \u001b[0;32mreturn\u001b[0m \u001b[0mself\u001b[0m\u001b[0;34m.\u001b[0m\u001b[0m_engine\u001b[0m\u001b[0;34m.\u001b[0m\u001b[0mget_loc\u001b[0m\u001b[0;34m(\u001b[0m\u001b[0mcasted_key\u001b[0m\u001b[0;34m)\u001b[0m\u001b[0;34m\u001b[0m\u001b[0;34m\u001b[0m\u001b[0m\n\u001b[1;32m   3803\u001b[0m             \u001b[0;32mexcept\u001b[0m \u001b[0mKeyError\u001b[0m \u001b[0;32mas\u001b[0m \u001b[0merr\u001b[0m\u001b[0;34m:\u001b[0m\u001b[0;34m\u001b[0m\u001b[0;34m\u001b[0m\u001b[0m\n\u001b[0;32m-> 3804\u001b[0;31m                 \u001b[0;32mraise\u001b[0m \u001b[0mKeyError\u001b[0m\u001b[0;34m(\u001b[0m\u001b[0mkey\u001b[0m\u001b[0;34m)\u001b[0m \u001b[0;32mfrom\u001b[0m \u001b[0merr\u001b[0m\u001b[0;34m\u001b[0m\u001b[0;34m\u001b[0m\u001b[0m\n\u001b[0m\u001b[1;32m   3805\u001b[0m             \u001b[0;32mexcept\u001b[0m \u001b[0mTypeError\u001b[0m\u001b[0;34m:\u001b[0m\u001b[0;34m\u001b[0m\u001b[0;34m\u001b[0m\u001b[0m\n\u001b[1;32m   3806\u001b[0m                 \u001b[0;31m# If we have a listlike key, _check_indexing_error will raise\u001b[0m\u001b[0;34m\u001b[0m\u001b[0;34m\u001b[0m\u001b[0m\n",
            "\u001b[0;31mKeyError\u001b[0m: -11"
          ]
        }
      ]
    },
    {
      "cell_type": "code",
      "source": [
        "#negative slicing\n",
        "vk[-5:]"
      ],
      "metadata": {
        "colab": {
          "base_uri": "https://localhost:8080/"
        },
        "id": "S8CSOuLOXcC_",
        "outputId": "c0fa38d8-3854-4136-ab2e-45cdf65855f5"
      },
      "execution_count": 86,
      "outputs": [
        {
          "output_type": "execute_result",
          "data": {
            "text/plain": [
              "match_no\n",
              "211     0\n",
              "212    20\n",
              "213    73\n",
              "214    25\n",
              "215     7\n",
              "Name: runs, dtype: int64"
            ]
          },
          "metadata": {},
          "execution_count": 86
        }
      ]
    },
    {
      "cell_type": "code",
      "source": [
        "#alternate\n",
        "bolly[::]"
      ],
      "metadata": {
        "colab": {
          "base_uri": "https://localhost:8080/"
        },
        "id": "WthjtF16Xj6Y",
        "outputId": "cb163d0c-9d21-45d7-ac79-9043593a6fe0"
      },
      "execution_count": 87,
      "outputs": [
        {
          "output_type": "execute_result",
          "data": {
            "text/plain": [
              "movie\n",
              "1920 (film)                   Rajniesh Duggall\n",
              "1920: London                     Sharman Joshi\n",
              "1920: The Evil Returns             Vicky Ahuja\n",
              "1971 (2007 film)                Manoj Bajpayee\n",
              "2 States (2014 film)              Arjun Kapoor\n",
              "                                   ...        \n",
              "Zindagi 50-50                      Veena Malik\n",
              "Zindagi Na Milegi Dobara        Hrithik Roshan\n",
              "Zindagi Tere Naam           Mithun Chakraborty\n",
              "Zokkomon                       Darsheel Safary\n",
              "Zor Lagaa Ke...Haiya!            Meghan Jadhav\n",
              "Name: lead, Length: 1500, dtype: object"
            ]
          },
          "metadata": {},
          "execution_count": 87
        }
      ]
    },
    {
      "cell_type": "code",
      "source": [
        "#fancing indexing\n",
        "#1,3,4,6\n",
        "vk[[1,3,4,5]]"
      ],
      "metadata": {
        "colab": {
          "base_uri": "https://localhost:8080/"
        },
        "id": "-oUw-l9oXtAh",
        "outputId": "df33d88d-4245-4f81-b709-71e2a0350b71"
      },
      "execution_count": 88,
      "outputs": [
        {
          "output_type": "execute_result",
          "data": {
            "text/plain": [
              "match_no\n",
              "1     1\n",
              "3    13\n",
              "4    12\n",
              "5     1\n",
              "Name: runs, dtype: int64"
            ]
          },
          "metadata": {},
          "execution_count": 88
        }
      ]
    },
    {
      "cell_type": "code",
      "source": [
        "#indexing with labels\n",
        "bolly['2 states (2014 film)']"
      ],
      "metadata": {
        "colab": {
          "base_uri": "https://localhost:8080/",
          "height": 456
        },
        "id": "LYC323-1X4Zw",
        "outputId": "571acbb5-53d1-4a4c-a34e-ea6b41304f53"
      },
      "execution_count": 91,
      "outputs": [
        {
          "output_type": "error",
          "ename": "KeyError",
          "evalue": "ignored",
          "traceback": [
            "\u001b[0;31m---------------------------------------------------------------------------\u001b[0m",
            "\u001b[0;31mKeyError\u001b[0m                                  Traceback (most recent call last)",
            "\u001b[0;32m/usr/local/lib/python3.10/dist-packages/pandas/core/indexes/base.py\u001b[0m in \u001b[0;36mget_loc\u001b[0;34m(self, key, method, tolerance)\u001b[0m\n\u001b[1;32m   3801\u001b[0m             \u001b[0;32mtry\u001b[0m\u001b[0;34m:\u001b[0m\u001b[0;34m\u001b[0m\u001b[0;34m\u001b[0m\u001b[0m\n\u001b[0;32m-> 3802\u001b[0;31m                 \u001b[0;32mreturn\u001b[0m \u001b[0mself\u001b[0m\u001b[0;34m.\u001b[0m\u001b[0m_engine\u001b[0m\u001b[0;34m.\u001b[0m\u001b[0mget_loc\u001b[0m\u001b[0;34m(\u001b[0m\u001b[0mcasted_key\u001b[0m\u001b[0;34m)\u001b[0m\u001b[0;34m\u001b[0m\u001b[0;34m\u001b[0m\u001b[0m\n\u001b[0m\u001b[1;32m   3803\u001b[0m             \u001b[0;32mexcept\u001b[0m \u001b[0mKeyError\u001b[0m \u001b[0;32mas\u001b[0m \u001b[0merr\u001b[0m\u001b[0;34m:\u001b[0m\u001b[0;34m\u001b[0m\u001b[0;34m\u001b[0m\u001b[0m\n",
            "\u001b[0;32m/usr/local/lib/python3.10/dist-packages/pandas/_libs/index.pyx\u001b[0m in \u001b[0;36mpandas._libs.index.IndexEngine.get_loc\u001b[0;34m()\u001b[0m\n",
            "\u001b[0;32m/usr/local/lib/python3.10/dist-packages/pandas/_libs/index.pyx\u001b[0m in \u001b[0;36mpandas._libs.index.IndexEngine.get_loc\u001b[0;34m()\u001b[0m\n",
            "\u001b[0;32m/usr/local/lib/python3.10/dist-packages/pandas/_libs/index.pyx\u001b[0m in \u001b[0;36mpandas._libs.index.IndexEngine._get_loc_duplicates\u001b[0;34m()\u001b[0m\n",
            "\u001b[0;31mKeyError\u001b[0m: '2 states (2014 film)'",
            "\nThe above exception was the direct cause of the following exception:\n",
            "\u001b[0;31mKeyError\u001b[0m                                  Traceback (most recent call last)",
            "\u001b[0;32m<ipython-input-91-b1de30b72eda>\u001b[0m in \u001b[0;36m<cell line: 2>\u001b[0;34m()\u001b[0m\n\u001b[1;32m      1\u001b[0m \u001b[0;31m#indexing with labels\u001b[0m\u001b[0;34m\u001b[0m\u001b[0;34m\u001b[0m\u001b[0m\n\u001b[0;32m----> 2\u001b[0;31m \u001b[0mbolly\u001b[0m\u001b[0;34m[\u001b[0m\u001b[0;34m'2 states (2014 film)'\u001b[0m\u001b[0;34m]\u001b[0m\u001b[0;34m\u001b[0m\u001b[0;34m\u001b[0m\u001b[0m\n\u001b[0m",
            "\u001b[0;32m/usr/local/lib/python3.10/dist-packages/pandas/core/series.py\u001b[0m in \u001b[0;36m__getitem__\u001b[0;34m(self, key)\u001b[0m\n\u001b[1;32m    979\u001b[0m \u001b[0;34m\u001b[0m\u001b[0m\n\u001b[1;32m    980\u001b[0m         \u001b[0;32melif\u001b[0m \u001b[0mkey_is_scalar\u001b[0m\u001b[0;34m:\u001b[0m\u001b[0;34m\u001b[0m\u001b[0;34m\u001b[0m\u001b[0m\n\u001b[0;32m--> 981\u001b[0;31m             \u001b[0;32mreturn\u001b[0m \u001b[0mself\u001b[0m\u001b[0;34m.\u001b[0m\u001b[0m_get_value\u001b[0m\u001b[0;34m(\u001b[0m\u001b[0mkey\u001b[0m\u001b[0;34m)\u001b[0m\u001b[0;34m\u001b[0m\u001b[0;34m\u001b[0m\u001b[0m\n\u001b[0m\u001b[1;32m    982\u001b[0m \u001b[0;34m\u001b[0m\u001b[0m\n\u001b[1;32m    983\u001b[0m         \u001b[0;32mif\u001b[0m \u001b[0mis_hashable\u001b[0m\u001b[0;34m(\u001b[0m\u001b[0mkey\u001b[0m\u001b[0;34m)\u001b[0m\u001b[0;34m:\u001b[0m\u001b[0;34m\u001b[0m\u001b[0;34m\u001b[0m\u001b[0m\n",
            "\u001b[0;32m/usr/local/lib/python3.10/dist-packages/pandas/core/series.py\u001b[0m in \u001b[0;36m_get_value\u001b[0;34m(self, label, takeable)\u001b[0m\n\u001b[1;32m   1087\u001b[0m \u001b[0;34m\u001b[0m\u001b[0m\n\u001b[1;32m   1088\u001b[0m         \u001b[0;31m# Similar to Index.get_value, but we do not fall back to positional\u001b[0m\u001b[0;34m\u001b[0m\u001b[0;34m\u001b[0m\u001b[0m\n\u001b[0;32m-> 1089\u001b[0;31m         \u001b[0mloc\u001b[0m \u001b[0;34m=\u001b[0m \u001b[0mself\u001b[0m\u001b[0;34m.\u001b[0m\u001b[0mindex\u001b[0m\u001b[0;34m.\u001b[0m\u001b[0mget_loc\u001b[0m\u001b[0;34m(\u001b[0m\u001b[0mlabel\u001b[0m\u001b[0;34m)\u001b[0m\u001b[0;34m\u001b[0m\u001b[0;34m\u001b[0m\u001b[0m\n\u001b[0m\u001b[1;32m   1090\u001b[0m         \u001b[0;32mreturn\u001b[0m \u001b[0mself\u001b[0m\u001b[0;34m.\u001b[0m\u001b[0mindex\u001b[0m\u001b[0;34m.\u001b[0m\u001b[0m_get_values_for_loc\u001b[0m\u001b[0;34m(\u001b[0m\u001b[0mself\u001b[0m\u001b[0;34m,\u001b[0m \u001b[0mloc\u001b[0m\u001b[0;34m,\u001b[0m \u001b[0mlabel\u001b[0m\u001b[0;34m)\u001b[0m\u001b[0;34m\u001b[0m\u001b[0;34m\u001b[0m\u001b[0m\n\u001b[1;32m   1091\u001b[0m \u001b[0;34m\u001b[0m\u001b[0m\n",
            "\u001b[0;32m/usr/local/lib/python3.10/dist-packages/pandas/core/indexes/base.py\u001b[0m in \u001b[0;36mget_loc\u001b[0;34m(self, key, method, tolerance)\u001b[0m\n\u001b[1;32m   3802\u001b[0m                 \u001b[0;32mreturn\u001b[0m \u001b[0mself\u001b[0m\u001b[0;34m.\u001b[0m\u001b[0m_engine\u001b[0m\u001b[0;34m.\u001b[0m\u001b[0mget_loc\u001b[0m\u001b[0;34m(\u001b[0m\u001b[0mcasted_key\u001b[0m\u001b[0;34m)\u001b[0m\u001b[0;34m\u001b[0m\u001b[0;34m\u001b[0m\u001b[0m\n\u001b[1;32m   3803\u001b[0m             \u001b[0;32mexcept\u001b[0m \u001b[0mKeyError\u001b[0m \u001b[0;32mas\u001b[0m \u001b[0merr\u001b[0m\u001b[0;34m:\u001b[0m\u001b[0;34m\u001b[0m\u001b[0;34m\u001b[0m\u001b[0m\n\u001b[0;32m-> 3804\u001b[0;31m                 \u001b[0;32mraise\u001b[0m \u001b[0mKeyError\u001b[0m\u001b[0;34m(\u001b[0m\u001b[0mkey\u001b[0m\u001b[0;34m)\u001b[0m \u001b[0;32mfrom\u001b[0m \u001b[0merr\u001b[0m\u001b[0;34m\u001b[0m\u001b[0;34m\u001b[0m\u001b[0m\n\u001b[0m\u001b[1;32m   3805\u001b[0m             \u001b[0;32mexcept\u001b[0m \u001b[0mTypeError\u001b[0m\u001b[0;34m:\u001b[0m\u001b[0;34m\u001b[0m\u001b[0;34m\u001b[0m\u001b[0m\n\u001b[1;32m   3806\u001b[0m                 \u001b[0;31m# If we have a listlike key, _check_indexing_error will raise\u001b[0m\u001b[0;34m\u001b[0m\u001b[0;34m\u001b[0m\u001b[0m\n",
            "\u001b[0;31mKeyError\u001b[0m: '2 states (2014 film)'"
          ]
        }
      ]
    },
    {
      "cell_type": "markdown",
      "source": [
        "Editing series\n"
      ],
      "metadata": {
        "id": "QFyEdBb1YTkJ"
      }
    },
    {
      "cell_type": "code",
      "source": [
        "#using indexing\n",
        "marks_series"
      ],
      "metadata": {
        "colab": {
          "base_uri": "https://localhost:8080/"
        },
        "id": "IQypFHgtYROe",
        "outputId": "95a01fc9-2a0d-4ab3-e9a0-4d6fb40f6e14"
      },
      "execution_count": 93,
      "outputs": [
        {
          "output_type": "execute_result",
          "data": {
            "text/plain": [
              "math         70\n",
              "nepali       90\n",
              "physics      80\n",
              "chemistry    60\n",
              "dtype: int64"
            ]
          },
          "metadata": {},
          "execution_count": 93
        }
      ]
    },
    {
      "cell_type": "code",
      "source": [
        "#to change subjects\n",
        "marks_series [1] = 100\n"
      ],
      "metadata": {
        "id": "DZkWgRTSYcDr"
      },
      "execution_count": 96,
      "outputs": []
    },
    {
      "cell_type": "code",
      "source": [
        "marks_series"
      ],
      "metadata": {
        "colab": {
          "base_uri": "https://localhost:8080/"
        },
        "id": "mBcuyaX1YpcW",
        "outputId": "c730ffe0-0bae-4d2b-c2d9-a0d7f605cab7"
      },
      "execution_count": 97,
      "outputs": [
        {
          "output_type": "execute_result",
          "data": {
            "text/plain": [
              "math          70\n",
              "nepali       100\n",
              "physics       80\n",
              "chemistry     60\n",
              "dtype: int64"
            ]
          },
          "metadata": {},
          "execution_count": 97
        }
      ]
    },
    {
      "cell_type": "code",
      "source": [
        "#if items is not exist\n",
        "marks_series['sst'] = 90\n"
      ],
      "metadata": {
        "id": "JSbIJdFAYzl-"
      },
      "execution_count": 98,
      "outputs": []
    },
    {
      "cell_type": "code",
      "source": [
        "marks_series"
      ],
      "metadata": {
        "colab": {
          "base_uri": "https://localhost:8080/"
        },
        "id": "0xSnrQFzY_DE",
        "outputId": "ef827aab-7f42-407a-b10b-ba9eb2b82740"
      },
      "execution_count": 99,
      "outputs": [
        {
          "output_type": "execute_result",
          "data": {
            "text/plain": [
              "math          70\n",
              "nepali       100\n",
              "physics       80\n",
              "chemistry     60\n",
              "sst           90\n",
              "dtype: int64"
            ]
          },
          "metadata": {},
          "execution_count": 99
        }
      ]
    },
    {
      "cell_type": "code",
      "source": [
        "#slicing\n",
        "runs_Series\n"
      ],
      "metadata": {
        "colab": {
          "base_uri": "https://localhost:8080/",
          "height": 200
        },
        "id": "C2VOwLi7ZC3j",
        "outputId": "6dd297b8-c722-4eb2-8b14-6e7ff94f2dc9"
      },
      "execution_count": 107,
      "outputs": [
        {
          "output_type": "error",
          "ename": "NameError",
          "evalue": "ignored",
          "traceback": [
            "\u001b[0;31m---------------------------------------------------------------------------\u001b[0m",
            "\u001b[0;31mNameError\u001b[0m                                 Traceback (most recent call last)",
            "\u001b[0;32m<ipython-input-107-e2eab4388db9>\u001b[0m in \u001b[0;36m<cell line: 2>\u001b[0;34m()\u001b[0m\n\u001b[1;32m      1\u001b[0m \u001b[0;31m#slicing\u001b[0m\u001b[0;34m\u001b[0m\u001b[0;34m\u001b[0m\u001b[0m\n\u001b[0;32m----> 2\u001b[0;31m \u001b[0mruns_Series\u001b[0m\u001b[0;34m\u001b[0m\u001b[0;34m\u001b[0m\u001b[0m\n\u001b[0m",
            "\u001b[0;31mNameError\u001b[0m: name 'runs_Series' is not defined"
          ]
        }
      ]
    },
    {
      "cell_type": "code",
      "source": [
        "#fancy indexing\n",
        "runs_series[[0,3,4]] = [0,0,0]\n"
      ],
      "metadata": {
        "colab": {
          "base_uri": "https://localhost:8080/",
          "height": 200
        },
        "id": "ieu9KNu0ZVhj",
        "outputId": "7cb9e807-6152-4767-92e5-5495182fe09b"
      },
      "execution_count": 104,
      "outputs": [
        {
          "output_type": "error",
          "ename": "NameError",
          "evalue": "ignored",
          "traceback": [
            "\u001b[0;31m---------------------------------------------------------------------------\u001b[0m",
            "\u001b[0;31mNameError\u001b[0m                                 Traceback (most recent call last)",
            "\u001b[0;32m<ipython-input-104-b6346b405217>\u001b[0m in \u001b[0;36m<cell line: 2>\u001b[0;34m()\u001b[0m\n\u001b[1;32m      1\u001b[0m \u001b[0;31m#fancy indexing\u001b[0m\u001b[0;34m\u001b[0m\u001b[0;34m\u001b[0m\u001b[0m\n\u001b[0;32m----> 2\u001b[0;31m \u001b[0mruns_series\u001b[0m\u001b[0;34m[\u001b[0m\u001b[0;34m[\u001b[0m\u001b[0;36m0\u001b[0m\u001b[0;34m,\u001b[0m\u001b[0;36m3\u001b[0m\u001b[0;34m,\u001b[0m\u001b[0;36m4\u001b[0m\u001b[0;34m]\u001b[0m\u001b[0;34m]\u001b[0m \u001b[0;34m=\u001b[0m \u001b[0;34m[\u001b[0m\u001b[0;36m0\u001b[0m\u001b[0;34m,\u001b[0m\u001b[0;36m0\u001b[0m\u001b[0;34m,\u001b[0m\u001b[0;36m0\u001b[0m\u001b[0;34m]\u001b[0m\u001b[0;34m\u001b[0m\u001b[0;34m\u001b[0m\u001b[0m\n\u001b[0m",
            "\u001b[0;31mNameError\u001b[0m: name 'runs_series' is not defined"
          ]
        }
      ]
    },
    {
      "cell_type": "code",
      "source": [
        "#using label\n",
        "bolly['2 states(2014 film)]'] = 'Alia Bhatt'"
      ],
      "metadata": {
        "id": "InsfklXMZh8b"
      },
      "execution_count": 109,
      "outputs": []
    },
    {
      "cell_type": "code",
      "source": [
        "bolly"
      ],
      "metadata": {
        "colab": {
          "base_uri": "https://localhost:8080/"
        },
        "id": "nxA2-Z8fZ-DI",
        "outputId": "6bb18b0f-ef74-491d-8d3e-48977d66324c"
      },
      "execution_count": 110,
      "outputs": [
        {
          "output_type": "execute_result",
          "data": {
            "text/plain": [
              "movie\n",
              "1920 (film)                   Rajniesh Duggall\n",
              "1920: London                     Sharman Joshi\n",
              "1920: The Evil Returns             Vicky Ahuja\n",
              "1971 (2007 film)                Manoj Bajpayee\n",
              "2 States (2014 film)              Arjun Kapoor\n",
              "                                   ...        \n",
              "Zindagi Na Milegi Dobara        Hrithik Roshan\n",
              "Zindagi Tere Naam           Mithun Chakraborty\n",
              "Zokkomon                       Darsheel Safary\n",
              "Zor Lagaa Ke...Haiya!            Meghan Jadhav\n",
              "2 states(2014 film)]                Alia Bhatt\n",
              "Name: lead, Length: 1501, dtype: object"
            ]
          },
          "metadata": {},
          "execution_count": 110
        }
      ]
    },
    {
      "cell_type": "markdown",
      "source": [
        "COPY ADN READ\n",
        "Series with python functionalities\n",
        "libraries= python bilt-in use garxa\n"
      ],
      "metadata": {
        "id": "FtRDmWqaayu1"
      }
    },
    {
      "cell_type": "code",
      "source": [
        "#COPY AND READ\n",
        "#type/len/dir'/sorted/max/ min\n",
        "print(len(subs))"
      ],
      "metadata": {
        "colab": {
          "base_uri": "https://localhost:8080/"
        },
        "id": "CIj4UFpAaD5T",
        "outputId": "8df80a1b-5d9f-4e71-c11b-663cff57db8a"
      },
      "execution_count": 111,
      "outputs": [
        {
          "output_type": "stream",
          "name": "stdout",
          "text": [
            "365\n"
          ]
        }
      ]
    },
    {
      "cell_type": "code",
      "source": [
        "print(type(subs))"
      ],
      "metadata": {
        "colab": {
          "base_uri": "https://localhost:8080/"
        },
        "id": "piITzoLtbOTZ",
        "outputId": "1e578492-cfb1-44dc-f854-30c52267cd38"
      },
      "execution_count": 112,
      "outputs": [
        {
          "output_type": "stream",
          "name": "stdout",
          "text": [
            "<class 'pandas.core.series.Series'>\n"
          ]
        }
      ]
    },
    {
      "cell_type": "code",
      "source": [
        "print(dir(subs))"
      ],
      "metadata": {
        "colab": {
          "base_uri": "https://localhost:8080/"
        },
        "id": "xQHjBRgHbSGd",
        "outputId": "e37b6eec-038d-4b50-93ee-c9d0c3721344"
      },
      "execution_count": 113,
      "outputs": [
        {
          "output_type": "stream",
          "name": "stdout",
          "text": [
            "['T', '_AXIS_LEN', '_AXIS_ORDERS', '_AXIS_TO_AXIS_NUMBER', '_HANDLED_TYPES', '__abs__', '__add__', '__and__', '__annotations__', '__array__', '__array_priority__', '__array_ufunc__', '__array_wrap__', '__bool__', '__class__', '__contains__', '__copy__', '__deepcopy__', '__delattr__', '__delitem__', '__dict__', '__dir__', '__divmod__', '__doc__', '__eq__', '__finalize__', '__float__', '__floordiv__', '__format__', '__ge__', '__getattr__', '__getattribute__', '__getitem__', '__getstate__', '__gt__', '__hash__', '__iadd__', '__iand__', '__ifloordiv__', '__imod__', '__imul__', '__init__', '__init_subclass__', '__int__', '__invert__', '__ior__', '__ipow__', '__isub__', '__iter__', '__itruediv__', '__ixor__', '__le__', '__len__', '__long__', '__lt__', '__matmul__', '__mod__', '__module__', '__mul__', '__ne__', '__neg__', '__new__', '__nonzero__', '__or__', '__pos__', '__pow__', '__radd__', '__rand__', '__rdivmod__', '__reduce__', '__reduce_ex__', '__repr__', '__rfloordiv__', '__rmatmul__', '__rmod__', '__rmul__', '__ror__', '__round__', '__rpow__', '__rsub__', '__rtruediv__', '__rxor__', '__setattr__', '__setitem__', '__setstate__', '__sizeof__', '__str__', '__sub__', '__subclasshook__', '__truediv__', '__weakref__', '__xor__', '_accessors', '_accum_func', '_add_numeric_operations', '_agg_by_level', '_agg_examples_doc', '_agg_see_also_doc', '_align_frame', '_align_series', '_append', '_arith_method', '_as_manager', '_attrs', '_binop', '_can_hold_na', '_check_inplace_and_allows_duplicate_labels', '_check_inplace_setting', '_check_is_chained_assignment_possible', '_check_label_or_level_ambiguity', '_check_setitem_copy', '_clear_item_cache', '_clip_with_one_bound', '_clip_with_scalar', '_cmp_method', '_consolidate', '_consolidate_inplace', '_construct_axes_dict', '_construct_axes_from_arguments', '_construct_result', '_constructor', '_constructor_expanddim', '_convert', '_convert_dtypes', '_data', '_dir_additions', '_dir_deletions', '_drop_axis', '_drop_labels_or_levels', '_duplicated', '_find_valid_index', '_flags', '_get_axis', '_get_axis_name', '_get_axis_number', '_get_axis_resolvers', '_get_block_manager_axis', '_get_bool_data', '_get_cacher', '_get_cleaned_column_resolvers', '_get_index_resolvers', '_get_label_or_level_values', '_get_numeric_data', '_get_value', '_get_values', '_get_values_tuple', '_get_with', '_gotitem', '_hidden_attrs', '_indexed_same', '_info_axis', '_info_axis_name', '_info_axis_number', '_init_dict', '_init_mgr', '_inplace_method', '_internal_names', '_internal_names_set', '_is_cached', '_is_copy', '_is_label_or_level_reference', '_is_label_reference', '_is_level_reference', '_is_mixed_type', '_is_view', '_item_cache', '_ixs', '_logical_func', '_logical_method', '_map_values', '_maybe_update_cacher', '_memory_usage', '_metadata', '_mgr', '_min_count_stat_function', '_name', '_needs_reindex_multi', '_protect_consolidate', '_reduce', '_reindex_axes', '_reindex_indexer', '_reindex_multi', '_reindex_with_indexers', '_rename', '_replace_single', '_repr_data_resource_', '_repr_latex_', '_reset_cache', '_reset_cacher', '_set_as_cached', '_set_axis', '_set_axis_name', '_set_axis_nocheck', '_set_is_copy', '_set_labels', '_set_name', '_set_value', '_set_values', '_set_with', '_set_with_engine', '_slice', '_stat_axis', '_stat_axis_name', '_stat_axis_number', '_stat_function', '_stat_function_ddof', '_take', '_take_with_is_copy', '_typ', '_update_inplace', '_validate_dtype', '_values', '_where', 'abs', 'add', 'add_prefix', 'add_suffix', 'agg', 'aggregate', 'align', 'all', 'any', 'append', 'apply', 'argmax', 'argmin', 'argsort', 'array', 'asfreq', 'asof', 'astype', 'at', 'at_time', 'attrs', 'autocorr', 'axes', 'backfill', 'between', 'between_time', 'bfill', 'bool', 'clip', 'combine', 'combine_first', 'compare', 'convert_dtypes', 'copy', 'corr', 'count', 'cov', 'cummax', 'cummin', 'cumprod', 'cumsum', 'describe', 'diff', 'div', 'divide', 'divmod', 'dot', 'drop', 'drop_duplicates', 'droplevel', 'dropna', 'dtype', 'dtypes', 'duplicated', 'empty', 'eq', 'equals', 'ewm', 'expanding', 'explode', 'factorize', 'ffill', 'fillna', 'filter', 'first', 'first_valid_index', 'flags', 'floordiv', 'ge', 'get', 'groupby', 'gt', 'hasnans', 'head', 'hist', 'iat', 'idxmax', 'idxmin', 'iloc', 'index', 'infer_objects', 'info', 'interpolate', 'is_monotonic', 'is_monotonic_decreasing', 'is_monotonic_increasing', 'is_unique', 'isin', 'isna', 'isnull', 'item', 'items', 'iteritems', 'keys', 'kurt', 'kurtosis', 'last', 'last_valid_index', 'le', 'loc', 'lt', 'mad', 'map', 'mask', 'max', 'mean', 'median', 'memory_usage', 'min', 'mod', 'mode', 'mul', 'multiply', 'name', 'nbytes', 'ndim', 'ne', 'nlargest', 'notna', 'notnull', 'nsmallest', 'nunique', 'pad', 'pct_change', 'pipe', 'plot', 'pop', 'pow', 'prod', 'product', 'quantile', 'radd', 'rank', 'ravel', 'rdiv', 'rdivmod', 'reindex', 'reindex_like', 'rename', 'rename_axis', 'reorder_levels', 'repeat', 'replace', 'resample', 'reset_index', 'rfloordiv', 'rmod', 'rmul', 'rolling', 'round', 'rpow', 'rsub', 'rtruediv', 'sample', 'searchsorted', 'sem', 'set_axis', 'set_flags', 'shape', 'shift', 'size', 'skew', 'slice_shift', 'sort_index', 'sort_values', 'squeeze', 'std', 'sub', 'subtract', 'sum', 'swapaxes', 'swaplevel', 'tail', 'take', 'to_clipboard', 'to_csv', 'to_dict', 'to_excel', 'to_frame', 'to_hdf', 'to_json', 'to_latex', 'to_list', 'to_markdown', 'to_numpy', 'to_period', 'to_pickle', 'to_sql', 'to_string', 'to_timestamp', 'to_xarray', 'transform', 'transpose', 'truediv', 'truncate', 'tz_convert', 'tz_localize', 'unique', 'unstack', 'update', 'value_counts', 'values', 'var', 'view', 'where', 'xs']\n"
          ]
        }
      ]
    },
    {
      "cell_type": "code",
      "source": [
        "print(sort(subs))"
      ],
      "metadata": {
        "colab": {
          "base_uri": "https://localhost:8080/",
          "height": 182
        },
        "id": "OEtqpClZbVdN",
        "outputId": "9871c138-2198-47dc-9bf5-4576f5e699b9"
      },
      "execution_count": 114,
      "outputs": [
        {
          "output_type": "error",
          "ename": "NameError",
          "evalue": "ignored",
          "traceback": [
            "\u001b[0;31m---------------------------------------------------------------------------\u001b[0m",
            "\u001b[0;31mNameError\u001b[0m                                 Traceback (most recent call last)",
            "\u001b[0;32m<ipython-input-114-49773233a365>\u001b[0m in \u001b[0;36m<cell line: 1>\u001b[0;34m()\u001b[0m\n\u001b[0;32m----> 1\u001b[0;31m \u001b[0mprint\u001b[0m\u001b[0;34m(\u001b[0m\u001b[0msort\u001b[0m\u001b[0;34m(\u001b[0m\u001b[0msubs\u001b[0m\u001b[0;34m)\u001b[0m\u001b[0;34m)\u001b[0m\u001b[0;34m\u001b[0m\u001b[0;34m\u001b[0m\u001b[0m\n\u001b[0m",
            "\u001b[0;31mNameError\u001b[0m: name 'sort' is not defined"
          ]
        }
      ]
    },
    {
      "cell_type": "code",
      "source": [
        "print(min(subs))"
      ],
      "metadata": {
        "colab": {
          "base_uri": "https://localhost:8080/"
        },
        "id": "qjRSjhBMbZOd",
        "outputId": "f121e2b6-5491-42a5-aebe-333eb78302d9"
      },
      "execution_count": 115,
      "outputs": [
        {
          "output_type": "stream",
          "name": "stdout",
          "text": [
            "33\n"
          ]
        }
      ]
    },
    {
      "cell_type": "code",
      "source": [
        "print(max(subs))"
      ],
      "metadata": {
        "colab": {
          "base_uri": "https://localhost:8080/"
        },
        "id": "770DwYh6bdo6",
        "outputId": "ef15ebe2-6026-478a-f9d7-dd5cc56e9c5f"
      },
      "execution_count": 116,
      "outputs": [
        {
          "output_type": "stream",
          "name": "stdout",
          "text": [
            "396\n"
          ]
        }
      ]
    },
    {
      "cell_type": "code",
      "source": [
        "#type conversion\n",
        "list(marks_series)"
      ],
      "metadata": {
        "colab": {
          "base_uri": "https://localhost:8080/"
        },
        "id": "krPrdxd5bjco",
        "outputId": "d679d65d-dfaa-4ba0-e583-db14131f0688"
      },
      "execution_count": 118,
      "outputs": [
        {
          "output_type": "execute_result",
          "data": {
            "text/plain": [
              "[70, 100, 80, 60, 90]"
            ]
          },
          "metadata": {},
          "execution_count": 118
        }
      ]
    },
    {
      "cell_type": "code",
      "source": [
        "dict(marks_series)"
      ],
      "metadata": {
        "colab": {
          "base_uri": "https://localhost:8080/"
        },
        "id": "MctE4I4EbnyL",
        "outputId": "3759be35-3365-48fa-fbe1-5a83dc7f3c07"
      },
      "execution_count": 120,
      "outputs": [
        {
          "output_type": "execute_result",
          "data": {
            "text/plain": [
              "{'math': 70, 'nepali': 100, 'physics': 80, 'chemistry': 60, 'sst': 90}"
            ]
          },
          "metadata": {},
          "execution_count": 120
        }
      ]
    },
    {
      "cell_type": "code",
      "source": [
        "#membership operation\n",
        "#and/or/in not operation'\n",
        "'2 state (2014 film)' in bolly"
      ],
      "metadata": {
        "colab": {
          "base_uri": "https://localhost:8080/"
        },
        "id": "ma9EqziDbxTu",
        "outputId": "891a168e-9dde-4bba-898b-d9669b5a5cdb"
      },
      "execution_count": 124,
      "outputs": [
        {
          "output_type": "execute_result",
          "data": {
            "text/plain": [
              "False"
            ]
          },
          "metadata": {},
          "execution_count": 124
        }
      ]
    },
    {
      "cell_type": "code",
      "source": [
        "#values check\n",
        "'Alia Bhatt ' in bolly.values\n"
      ],
      "metadata": {
        "colab": {
          "base_uri": "https://localhost:8080/"
        },
        "id": "ulFPWdCVcHC0",
        "outputId": "bd605c9c-ae15-4bd7-dbae-fe2edbac9d61"
      },
      "execution_count": 125,
      "outputs": [
        {
          "output_type": "execute_result",
          "data": {
            "text/plain": [
              "False"
            ]
          },
          "metadata": {},
          "execution_count": 125
        }
      ]
    },
    {
      "cell_type": "code",
      "source": [
        "#looping\n",
        "for i in bolly:\n",
        "  print(i)"
      ],
      "metadata": {
        "colab": {
          "base_uri": "https://localhost:8080/"
        },
        "id": "0EtuMhEZceDi",
        "outputId": "fef0487c-d638-49d0-bfc1-320f3b9c74f8"
      },
      "execution_count": 126,
      "outputs": [
        {
          "output_type": "stream",
          "name": "stdout",
          "text": [
            "Rajniesh Duggall\n",
            "Sharman Joshi\n",
            "Vicky Ahuja\n",
            "Manoj Bajpayee\n",
            "Arjun Kapoor\n",
            "Barun Sobti\n",
            "Salil Acharya\n",
            "Naseeruddin Shah\n",
            "Aamir Khan\n",
            "Aisha Ahmed\n",
            "Soha Ali Khan\n",
            "Akshaye Khanna\n",
            "Neil Nitin Mukesh\n",
            "Sara Arjun\n",
            "Nargis Fakhri\n",
            "Mouli Ganguly\n",
            "Vipin Sharma\n",
            "Priyanka Chopra\n",
            "Juhi Chawla\n",
            "Atul Kulkarni\n",
            "Kunal Khemu\n",
            "Shawar Ali\n",
            "Kiran Bhatia\n",
            "Shabana Azmi\n",
            "Jimmy Sheirgill\n",
            "Tiger Shroff\n",
            "Sidharth Malhotra\n",
            "Prabhu Deva\n",
            "Neil Nitin Mukesh\n",
            "Govinda\n",
            "Naveen Bawa\n",
            "Amitabh Bachchan\n",
            "Shreyas Talpade\n",
            "Sudesh Berry\n",
            "Madhuri Dixit\n",
            "Paul Sidhu\n",
            "Ajay Devgn\n",
            "Omkar Das Manikpuri\n",
            "Shatrughan Sinha\n",
            "Arun Bakshi\n",
            "Amitabh Bachchan\n",
            "Himesh Reshammiya\n",
            "Akshaye Khanna\n",
            "Priyanshu Chatterjee\n",
            "Amitabh Bachchan\n",
            "John Abraham\n",
            "Emraan Hashmi\n",
            "Aditya Roy Kapoor\n",
            "Ishaan Manhaas\n",
            "Hrishitaa Bhatt\n",
            "Sachiin Joshi\n",
            "Nana Patekar\n",
            "Amitabh Bachchan\n",
            "Farooq Shaikh\n",
            "Fardeen Khan\n",
            "Prabhas\n",
            "Akshay Kumar\n",
            "Rahul Dev\n",
            "Ranbir Kapoor\n",
            "Amitabh Bachchan\n",
            "Kareena Kapoor\n",
            "Tusshar Kapoor\n",
            "Hrithik Roshan\n",
            "Jimmy Sheirgill\n",
            "Abhay Deol\n",
            "Akshay Kumar\n",
            "Rati Agnihotri\n",
            "Yashpal Sharma\n",
            "Akshay Kumar\n",
            "Sidharth Malhotra\n",
            "Rani Mukerji\n",
            "Jackky Bhagnani\n",
            "Ranbir Kapoor\n",
            "Sushama Deshpande\n",
            "Kartik Aaryan\n",
            "Emraan Hashmi\n",
            "Zareen Khan\n",
            "Amitabh Bachchan\n",
            "Akshay Kapoor\n",
            "Manav Kaul\n",
            "Sukhesh Arora\n",
            "Rishi Kapoor\n",
            "Sanjay Dutt\n",
            "Varun Bhagwat\n",
            "Bipasha Basu\n",
            "Aftab Shivdasani\n",
            "Lillete Dubey\n",
            "Ali Asgar\n",
            "Vir Das\n",
            "Pankaj Tripathi\n",
            "Dino Morea\n",
            "Akshay Kumar\n",
            "Akshay Kumar\n",
            "Ayushmann Khurrana\n",
            "Sumit Arora\n",
            "Priyanka Chopra\n",
            "Manisha Koirala\n",
            "Aftab Shivdasani\n",
            "Sanjay Mishra\n",
            "Kay Kay Menon\n",
            "Shashank Udapurkar\n",
            "Raj Singh Chaudhary\n",
            "Sanjay Dutt\n",
            "Sachin Khedekar\n",
            "Nauheed Cyrusi\n",
            "Ajay Devgn\n",
            "Rohit Roy\n",
            "Irrfan Khan\n",
            "Bobby Darling\n",
            "Dharmendra\n",
            "Diljit Dosanjh\n",
            "Yudhveer Bakoliya\n",
            "Amitabh Bachchan\n",
            "Ayushmann Khurrana\n",
            "Sohail Khan\n",
            "Arjun Rampal\n",
            "Asrani\n",
            "Krishna Abhishek\n",
            "Arjun Kapoor\n",
            "Prakash Belawadi\n",
            "Akshay Kumar\n",
            "Emraan Hashmi\n",
            "Emraan Hashmi\n",
            "Shadab Kamal\n",
            "Mithun Chakraborty\n",
            "Amitabh Bachchan\n",
            "Shraddha Kapoor\n",
            "Tiger Shroff\n",
            "Sidharth Malhotra\n",
            "Anisa Butt\n",
            "Jackie Shroff\n",
            "Radhika Apte\n",
            "Sahil Anand\n",
            "Sudha Chandran\n",
            "Nawazuddin Siddiqui\n",
            "Akshay Kumar\n",
            "Manoj Babani\n",
            "Rekha\n",
            "Ranbir Kapoor\n",
            "Ayushmann Khurrana\n",
            "Amitabh Bachchan\n",
            "Varun Dhawan\n",
            "Annu Kapoor\n",
            "Sidhant Gupta\n",
            "Varun Dhawan\n",
            "Amitabh Bachchan\n",
            "Tusshar Kapoor\n",
            "Ranveer Singh\n",
            "Salman Khan\n",
            "Ayushmann Khurrana\n",
            "Asrani\n",
            "Urmila Matondkar\n",
            "Ranveer Singh\n",
            "Manisha Kelkar\n",
            "Hrithik Roshan\n",
            "Jacqueline Fernandez\n",
            "Riteish Deshmukh\n",
            "Riteish Deshmukh\n",
            "Naseeruddin Shah\n",
            "Bobby Deol\n",
            "Ayushmann Khurrana\n",
            "Ranbir Kapoor\n",
            "Sara Loren\n",
            "Bobby Deol\n",
            "Juhi Chawla\n",
            "Sadashiv Amrapurkar\n",
            "John Abraham\n",
            "Vicky Ahuja\n",
            "Shahid Kapoor\n",
            "Reshmi Ghosh\n",
            "Amitabh Bachchan\n",
            "Vaani Kapoor\n",
            "Amitabh Bachchan\n",
            "Rajkummar Rao\n",
            "Sunny Leone\n",
            "Naseeruddin Shah\n",
            "Anil Kapoor\n",
            "Ayushmann Khurrana\n",
            "Ishaan Khattar\n",
            "Mugdha Godse\n",
            "Kunal Khemu\n",
            "Farhan Akhtar\n",
            "Akshay Kumar\n",
            "Tabu\n",
            "Sunny Deol\n",
            "Shaurya Singh\n",
            "Harshvardhan Kapoor\n",
            "Vinay Pathak\n",
            "Vinay Pathak\n",
            "Ali Asgar\n",
            "Akshay Kumar\n",
            "Sunny Leone\n",
            "Ajay Devgn\n",
            "J.D. Chakravarthi\n",
            "Jackie Shroff\n",
            "Amitabh Bachchan\n",
            "Amitabh Bachchan\n",
            "Mischa Barton\n",
            "Dino Morea\n",
            "Sunny Deol\n",
            "Irrfan Khan\n",
            "Naushaad Abbas\n",
            "Danny Denzongpa\n",
            "Pulkit Samrat\n",
            "Amitabh Bachchan\n",
            "Kay Kay Menon\n",
            "Ajay Devgn\n",
            "Jazzy Doe\n",
            "Manish Chaudhary\n",
            "Akash\n",
            "Akshay Kumar\n",
            "Abhishek Bachchan\n",
            "Vidya Balan\n",
            "Salman Khan\n",
            "Amitabh Bachchan\n",
            "Raima Sen\n",
            "Radhika Apte\n",
            "Rani Mukerji\n",
            "Ranbir Kapoor\n",
            "Shreyas Talpade\n",
            "Sunil Pal\n",
            "Amitabh Bachchan\n",
            "Sanjay Dutt\n",
            "Akshay Kumar\n",
            "Shashank Arora\n",
            "Deepika Padukone\n",
            "Vinay Virmani\n",
            "Arjun Mathur\n",
            "Akshay Kumar\n",
            "Apoorva Arora\n",
            "Mona Ambegaonkar\n",
            "Aanchal Dwivedi\n",
            "Saayli Buva\n",
            "Saif Ali Khan\n",
            "Kavin Dave\n",
            "Atul Kulkarni\n",
            "Seema Azmi\n",
            "Abhishek Bachchan\n",
            "Neil Nitin Mukesh\n",
            "Tusshar Kapoor\n",
            "Hemant Gopal\n",
            "Anil Kapoor\n",
            "Akanksha Puri\n",
            "Ajay Devgn\n",
            "Aryan Vaid\n",
            "Naseeruddin Shah\n",
            "Tusshar Kapoor\n",
            "Soha Ali Khan\n",
            "Shah Rukh Khan\n",
            "Arjun Rampal\n",
            "Asrani\n",
            "Sagar Bhangade\n",
            "Richa Chadha\n",
            "Vickrant Mahajan\n",
            "Vinay Pathak\n",
            "Shah Rukh Khan\n",
            "Kareena Kapoor\n",
            "Bobby Deol\n",
            "Shahid Kapoor\n",
            "Somesh Agarwal\n",
            "Samir Aftab\n",
            "Mithun Chakraborty\n",
            "Jimmy Sheirgill\n",
            "Dev Anand\n",
            "Anuj Saxena\n",
            "Ali Zafar\n",
            "Sanjay Dutt\n",
            "Amitabh Bachchan\n",
            "Saif Ali Khan\n",
            "Bipasha Basu\n",
            "Deepika Padukone\n",
            "Jatin Grewal\n",
            "Jimmy Sheirgill\n",
            "Rupa Bhimani\n",
            "Natalia Janoszek\n",
            "Mohammad Amir Naji\n",
            "Farooq Shaikh\n",
            "Aarav Khanna\n",
            "Parveen Kaur\n",
            "Sushmita Sen\n",
            "Rishi Kapoor\n",
            "Manoj Bajpayee\n",
            "Anil Kapoor\n",
            "Deepak Dobriyal\n",
            "Ajay Devgn\n",
            "Kareena Kapoor\n",
            "Zayed Khan\n",
            "Ashok Banthia\n",
            "Sachin Khedekar\n",
            "Rajkummar Rao\n",
            "Mithun Chakraborty\n",
            "Shreyas Talpade\n",
            "Saif Ali Khan\n",
            "Arjun Mathur\n",
            "Sunil Grover\n",
            "Vidyut Jammwal\n",
            "Vidyut Jammwal\n",
            "Ajay Devgn\n",
            "Adhvik Mahajan\n",
            "Bipasha Basu\n",
            "Vira Sathidar\n",
            "Swanand Kirkire\n",
            "Bipasha Basu\n",
            "Emraan Hashmi\n",
            "Randeep Hooda\n",
            "Rishi Kapoor\n",
            "Yogesh Raj Mishra\n",
            "Aditya Roy Kapoor\n",
            "Salman Khan\n",
            "Salman Khan\n",
            "Salman Khan\n",
            "Arjun Rampal\n",
            "Sunil Shetty\n",
            "Himesh Reshammiya\n",
            "Aamir Khan\n",
            "Karisma Kapoor\n",
            "Fardeen Khan\n",
            "Sameera Reddy\n",
            "Amitabh Bachchan\n",
            "Jimmy Sheirgill\n",
            "Ishrat Ali\n",
            "Neil Nitin Mukesh\n",
            "Vinay Pathak\n",
            "Yash Soni\n",
            "Akshay Kumar\n",
            "Ajay Devgn\n",
            "Aftab Shivdasani\n",
            "Rajit Kapoor\n",
            "Arvind Swamy\n",
            "Raghuvir Yadav\n",
            "Manisha Koirala\n",
            "Alia Bhatt\n",
            "Madhuri Dixit\n",
            "Amitabh Bachchan\n",
            "Akshay Kumar\n",
            "Adhyayan Suman\n",
            "Satish Kaushik\n",
            "Imran Khan\n",
            "Cary Elwes\n",
            "Waheeda Rehman\n",
            "Sanjay Dutt\n",
            "Kamal Rashid Khan\n",
            "Akshay Kumar\n",
            "Sasha Aagha\n",
            "Sushant Singh Rajput\n",
            "Amitabh Bachchan\n",
            "Ram Kapoor\n",
            "Shah Rukh Khan\n",
            "RJ Balaji\n",
            "Ishaan Khattar\n",
            "Sanjay Dutt\n",
            "Krrish Chhabria\n",
            "Naseeruddin Shah\n",
            "Pankaj Kapur\n",
            "Ajay Devgn\n",
            "Prateik\n",
            "Muzamil Ibrahim\n",
            "Sharman Joshi\n",
            "Abhishek Bachchan\n",
            "Hrithik Roshan\n",
            "Aamir Khan\n",
            "Paresh Rawal\n",
            "Om Puri\n",
            "Amar Upadhyaya\n",
            "Sushant Singh Rajput\n",
            "Vikaas Kalantari\n",
            "Shahid Kapoor\n",
            "Anil Kapoor\n",
            "Emraan Hashmi\n",
            "Imaaduddin Shah\n",
            "Amitabh Bachchan\n",
            "Himansh Kohli\n",
            "Taapsee Pannu\n",
            "Arjun Rampal\n",
            "Irrfan Khan\n",
            "Shahid Kapoor\n",
            "Salman Khan\n",
            "Kapil Jhaveri\n",
            "Ajay Devgn\n",
            "Zeenat Aman\n",
            "Ira Dubey\n",
            "Shah Rukh Khan\n",
            "Rajniesh Duggall\n",
            "Anupam Kher\n",
            "Harman Baweja\n",
            "John Abraham\n",
            "Rishi Kapoor\n",
            "Kajal Aggarwal\n",
            "Adil Hussain\n",
            "Jackie Shroff\n",
            "Malaika Arora\n",
            "Shah Rukh Khan\n",
            "Shah Rukh Khan\n",
            "Mithun Chakraborty\n",
            "Rishi Kapoor\n",
            "Ronit Roy\n",
            "Ayesha Takia\n",
            "Abhishek Bachchan\n",
            "Akshay Kumar\n",
            "Ayesha Jhulka\n",
            "Sanjay Dutt\n",
            "Ayushmann Khurrana\n",
            "Aseel Adel\n",
            "Ajay Devgn\n",
            "Jayshree Arora\n",
            "Diwakar Pathak\n",
            "Sushmita Sen\n",
            "Vivek Oberoi\n",
            "Ayushmann Khurrana\n",
            "Abhishek Bachchan\n",
            "Zeenat Aman\n",
            "Sanjay Dutt\n",
            "Arbaaz Khan\n",
            "Raj Tara\n",
            "Amitabh Bachchan\n",
            "Nandita Das\n",
            "Sanjay Dutt\n",
            "Abhay Deol\n",
            "Rahul Bose\n",
            "Shiv Darshan\n",
            "Saif Ali Khan\n",
            "Jimmy Sharma\n",
            "Fardeen Khan\n",
            "Kareena Kapoor\n",
            "Sunny Leone\n",
            "Sunil Shetty\n",
            "Anita\n",
            "Bhushan Agarwal\n",
            "Salman Khan\n",
            "Emraan Hashmi\n",
            "Hema Malini\n",
            "Sidharth Malhotra\n",
            "Isha Koppikar\n",
            "Bobby Deol\n",
            "Prateik\n",
            "Anupam Kher\n",
            "Amitabh Bachchan\n",
            "Arjun Rampal\n",
            "Sunil Shetty\n",
            "Sridevi\n",
            "Akshay Kumar\n",
            "Manisha Koirala\n",
            "Mona Ambegaonkar\n",
            "Arshad Warsi\n",
            "Amitabh Bachchan\n",
            "Jimmy Sheirgill\n",
            "Arjun Rampal\n",
            "Shah Rukh Khan\n",
            "Aamir Khan\n",
            "Shilpa Shetty Kundra\n",
            "Priyanka Chopra\n",
            "Gul Panag\n",
            "Sharman Joshi\n",
            "Rajeev Khandelwal\n",
            "Kareena Kapoor\n",
            "Sunil Shetty\n",
            "Sharib Hashmi\n",
            "Deepika Padukone\n",
            "Inaamulhaq\n",
            "Kapil Sharma\n",
            "Aditya Roy Kapoor\n",
            "Jayesh Raj\n",
            "Reef Karim\n",
            "Shahid Kapoor\n",
            "Aftab Shivdasani\n",
            "John Abraham\n",
            "John Abraham\n",
            "Arjun Rampal\n",
            "Arshad Warsi\n",
            "Nawazuddin Siddiqui\n",
            "Avinash Dhyani\n",
            "Bidita Bag\n",
            "Atmaram Bhende\n",
            "Govinda\n",
            "Shubham\n",
            "Jimmy Sheirgill\n",
            "Pulkit Samrat\n",
            "Pulkit Samrat\n",
            "Siddharth Koirala\n",
            "Rushali Arora\n",
            "Rajveer Ankur Singh\n",
            "Akshay Kumar\n",
            "Akshay Kumar\n",
            "Manoj Bajpayee\n",
            "Abhishek Bachchan\n",
            "Akshaye Khanna\n",
            "Sharman Joshi\n",
            "Ajay Devgn\n",
            "Sarita Joshi\n",
            "Manoj Bajpayee\n",
            "Manoj Bajpayee\n",
            "Kangana Ranaut\n",
            "Akshay Kumar\n",
            "Salman Khan\n",
            "Naresh Sharma\n",
            "Mohan Azaad\n",
            "Tusshar Kapoor\n",
            "Utkarsh Sharma\n",
            "Aamir Khan\n",
            "Vidya Balan\n",
            "Sunny Deol\n",
            "Shiney Ahuja\n",
            "Sanaya Irani\n",
            "Riya Vij\n",
            "Isha Koppikar\n",
            "Pankaj Tripathi\n",
            "Gautam Gupta\n",
            "Saif Ali Khan\n",
            "John Abraham\n",
            "Amitabh Bachchan\n",
            "Akshay Kumar\n",
            "Ranveer Singh\n",
            "Dimple Kapadia\n",
            "Ajay Devgn\n",
            "Ajay Devgn\n",
            "Ajay Devgn\n",
            "Deepika Amin\n",
            "Tusshar Kapoor\n",
            "Akshay Kumar\n",
            "Imran Khan\n",
            "Vinay Pathak\n",
            "Vivek Oberoi\n",
            "Urvashi Rautela\n",
            "Vikram Dasu\n",
            "Kunal Khemu\n",
            "Arshad Warsi\n",
            "Kartik Aaryan\n",
            "Madhuri Dixit\n",
            "Kay Kay Menon\n",
            "Sampat Pal Devi\n",
            "Ranveer Singh\n",
            "Dino Morea\n",
            "Ranveer Singh\n",
            "Mithun Chakraborty\n",
            "Hrithik Roshan\n",
            "Amita Pathak\n",
            "Jimmy Sheirgill\n",
            "Sahil Anand\n",
            "Tabu\n",
            "Shraddha Kapoor\n",
            "Paoli Dam\n",
            "Ajay Devgn\n",
            "Rajkummar Rao\n",
            "Talha Arshad Reshi\n",
            "Mukesh Khanna\n",
            "Diana Penty\n",
            "Saif Ali Khan\n",
            "Anay\n",
            "Shah Rukh Khan\n",
            "Sonakshi Sinha\n",
            "Nawazuddin Siddiqui\n",
            "Jackie Shroff\n",
            "Sidharth Malhotra\n",
            "Shraddha Kapoor\n",
            "Jimmy Sheirgill\n",
            "Nikhil Dwivedi\n",
            "Jay Bhanushali\n",
            "Lee Byford\n",
            "Nana Patekar\n",
            "Akshay Kumar\n",
            "Mimoh Chakraborty\n",
            "Aniket Vishwasrao\n",
            "Tabu\n",
            "Makrand Deshpande\n",
            "Naman Jain\n",
            "Shawar Ali\n",
            "Babbu Mann\n",
            "Kay Kay Menon\n",
            "Adhyayan Suman\n",
            "Kajol\n",
            "Sharman Joshi\n",
            "Gul Panag\n",
            "Bobby Deol\n",
            "Suraj Pancholi\n",
            "Sohail Khan\n",
            "Kareena Kapoor\n",
            "Tiger Shroff\n",
            "Ganesh Acharya\n",
            "Juanna Sanghvi\n",
            "Rani Mukerji\n",
            "Sumeet Vyas\n",
            "Alia Bhatt\n",
            "Ajay Devgn\n",
            "Gurmeet Ram Rahim Singh\n",
            "Irrfan Khan\n",
            "Mallika Sherawat\n",
            "Onjolee Nair\n",
            "Akshay Kumar\n",
            "Vivek Oberoi\n",
            "Ranvir Shorey\n",
            "Zara Sheikh\n",
            "Naseeruddin Shah\n",
            "Karan Kundrra\n",
            "Vatsal Sheth\n",
            "Adil Hussain\n",
            "Akshay Kumar\n",
            "Akshay Kumar\n",
            "Akshay Kumar\n",
            "Akshaye Khanna\n",
            "Prit Kamani\n",
            "Anupam Kher\n",
            "Saif Ali Khan\n",
            "Arshad Warsi\n",
            "Tusshar Kapoor\n",
            "Shah Rukh Khan\n",
            "Karanvir Bohra\n",
            "Akshay Kumar\n",
            "Arjun Rampal\n",
            "Omkar Bhatkar\n",
            "Varun Dhawan\n",
            "Saif Ali Khan\n",
            "Akshaye Khanna\n",
            "Gulshan Devaiah\n",
            "Tisca Chopra\n",
            "Juhi Chawla\n",
            "Gulshan Grover\n",
            "Imran Khan\n",
            "Shakti Anand\n",
            "Sunny Deol\n",
            "Sohail Khan\n",
            "Arjun Rampal\n",
            "Vivek Sudershan\n",
            "Arjun Kapoor\n",
            "Jaz Pandher\n",
            "Kirti Kulhari\n",
            "Arjun Rampal\n",
            "Dino Morea\n",
            "Akshay Kumar\n",
            "Ashmit Patel\n",
            "Manoj Bajpayee\n",
            "Shreyas Talpade\n",
            "Amarjeet\n",
            "Naseeruddin Shah\n",
            "Madhavan\n",
            "Arjun Kapoor\n",
            "Preity Zinta\n",
            "Sara Loren\n",
            "Krishna Chaturvedi\n",
            "Dino Morea\n",
            "Rishi Verma\n",
            "Shahid Kapoor\n",
            "Mimoh Chakraborty\n",
            "Manish Anand\n",
            "Vidya Balan\n",
            "Akshay Oberoi\n",
            "Vinay Pathak\n",
            "Prateik\n",
            "Sanjeev Bhaskar\n",
            "Rina Charaniya\n",
            "Sunny Deol\n",
            "Salman Khan\n",
            "Aftab Shivdasani\n",
            "Priyanka Chopra\n",
            "Akshay Anand\n",
            "Shah Rukh Khan\n",
            "Shah Rukh Khan\n",
            "Shahid Kapoor\n",
            "Sidharth Malhotra\n",
            "Amit Sadh\n",
            "Naseeruddin Shah\n",
            "Ranbir Kapoor\n",
            "Govinda\n",
            "Chiranjeevi\n",
            "Priyanka Chopra\n",
            "Salman Khan\n",
            "Rati Agnihotri\n",
            "Fardeen Khan\n",
            "Manoj Bajpayee\n",
            "Javed Jaffrey\n",
            "Purab Kohli\n",
            "Rhea Chakraborty\n",
            "Harish Chabbra\n",
            "Mohit Ahlawat\n",
            "Feroz Khan\n",
            "Emraan Hashmi\n",
            "Amardeep Insan\n",
            "Emraan Hashmi\n",
            "Vivek Oberoi\n",
            "Aishwarya Rai Bachchan\n",
            "Ravi Kishan\n",
            "Arbaaz Khan\n",
            "Boman Irani\n",
            "Sanjay Suri\n",
            "Abhishek Bachchan\n",
            "John Abraham\n",
            "Rishi Kapoor\n",
            "Richa Chadha\n",
            "Harshvardhan Deo\n",
            "Nassar Abdulla\n",
            "Mimoh Chakraborty\n",
            "Bipasha Basu\n",
            "Sunny Deol\n",
            "Sunny Gill\n",
            "Hrithik Roshan\n",
            "Bipasha Basu\n",
            "Victor Banerjee\n",
            "Naseeruddin Shah\n",
            "Dharmendra\n",
            "Akshay Kumar\n",
            "Arshad Warsi\n",
            "Kangana Ranaut\n",
            "Varun Dhawan\n",
            "Sadhana Singh\n",
            "Neha Dhupia\n",
            "Nishikant Kamat\n",
            "Vidyut Jammwal\n",
            "Pulkit Samrat\n",
            "Kamal Adib\n",
            "Fardeen Khan\n",
            "Hrithik Roshan\n",
            "Vinay Pathak\n",
            "Ajay Devgn\n",
            "Saif Ali Khan\n",
            "Aditya Srivastava\n",
            "Kartik Aaryan\n",
            "Amitabh Bachchan\n",
            "Aishwarya Devan\n",
            "Amitabh Bachchan\n",
            "Shahid Kapoor\n",
            "John Abraham\n",
            "Sanjay Mishra\n",
            "Om Puri\n",
            "Vidya Balan\n",
            "Eesha Agarwal\n",
            "Rajkummar Rao\n",
            "Amit Hingorani\n",
            "Shah Rukh Khan\n",
            "Varun Dhawan\n",
            "Kunal Khemu\n",
            "Shahid Kapoor\n",
            "Sidharth Malhotra\n",
            "John Abraham\n",
            "Mahek Chahal\n",
            "Shiv Darshan\n",
            "Rati Agnihotri\n",
            "Siddhartha Gupta\n",
            "Irrfan Khan\n",
            "Himesh Reshammiya\n",
            "Lucky Ali\n",
            "Juhi Babbar\n",
            "Suhaas Ahuja\n",
            "Raqesh Bapat\n",
            "Kunal Kapoor\n",
            "Shahbaaz Khan\n",
            "Akshay Kumar\n",
            "Vinay Pathak\n",
            "Amitabh Bachchan\n",
            "Kiron Kher\n",
            "Shilpa Shetty Kundra\n",
            "Prabhu Deva\n",
            "Gurmeet Choudhary\n",
            "Rahul Jaiswal\n",
            "Akshay Kumar\n",
            "Hazel Croney\n",
            "Sunny Deol\n",
            "Supriya Pathak\n",
            "Sonam Kapoor\n",
            "Anupam Kher\n",
            "Shiney Ahuja\n",
            "Sunny Deol\n",
            "Fardeen Khan\n",
            "Simer Motiani\n",
            "Himanshu Malik\n",
            "Amitabh Bachchan\n",
            "Salman Khan\n",
            "Ranveer Singh\n",
            "Mallika Sherawat\n",
            "Kapil Sharma\n",
            "Jackie Shroff\n",
            "Bobby Deol\n",
            "Shahid Kapoor\n",
            "Vivek Oberoi\n",
            "Vivek Oberoi\n",
            "Arshad Warsi\n",
            "Hrithik Roshan\n",
            "Sanjay Dutt\n",
            "Aftab Shivdasani\n",
            "Dia Mirza\n",
            "Rekha\n",
            "Kannan Arunachalam\n",
            "Juhi Chawla\n",
            "Manoj Bajpayee\n",
            "Sohail Khan\n",
            "Rekha\n",
            "Shefali Shah\n",
            "Tusshar Kapoor\n",
            "Ram Kapoor\n",
            "Aishwarya Rai Bachchan\n",
            "Geetanjali Thapa\n",
            "Arshad Warsi\n",
            "Rekha\n",
            "Siddharth Gupta\n",
            "Lewis Tan\n",
            "Rajpal Yadav\n",
            "Vijay Raaz\n",
            "Tusshar Kapoor\n",
            "Tusshar Kapoor\n",
            "Tusshar Kapoor\n",
            "Riteish Deshmukh\n",
            "Salman Khan\n",
            "Amitabh Bachchan\n",
            "Sanjay Dutt\n",
            "Rani Mukerji\n",
            "Randeep Hooda\n",
            "Ranveer Singh\n",
            "Neil Nitin Mukesh\n",
            "Sanjay Dutt\n",
            "Farooq Shaikh\n",
            "Avinash Tiwary\n",
            "Sunny Deol\n",
            "Monali Thakur\n",
            "Hrithik Roshan\n",
            "Sanjay Dutt\n",
            "Armaan Jain\n",
            "Rituparna Sengupta\n",
            "Manoj Amarnani\n",
            "Kay Kay Menon\n",
            "Aftab Shivdasani\n",
            "Govinda\n",
            "Dharmendra\n",
            "Aahana Kumra\n",
            "Farooq Shaikh\n",
            "John Abraham\n",
            "Himanshu Bhatt\n",
            "Shabana Azmi\n",
            "Salman Khan\n",
            "Ranveer Singh\n",
            "Saif Ali Khan\n",
            "Zayed Khan\n",
            "Patralekhaa Paul\n",
            "Rishi Kapoor\n",
            "Nushrat Bharucha\n",
            "Anuj Sachdeva\n",
            "Abhishek Bharate\n",
            "Harman Baweja\n",
            "Tusshar Kapoor\n",
            "Joy Mukherjee\n",
            "Vicky Kaushal\n",
            "Girish Taurani\n",
            "Mithun Chakraborty\n",
            "Farhan Akhtar\n",
            "Adhyayan Suman\n",
            "Farhan Akhtar\n",
            "Arvinder Bhatti\n",
            "Salman Khan\n",
            "V. Ravichandran\n",
            "Tanuj Virwani\n",
            "Tom Alter\n",
            "Sushant Singh Rajput\n",
            "Menekka Arora\n",
            "Charanpreet Insan\n",
            "Gurmeet Ram Rahim Singh\n",
            "Ashok Insan\n",
            "Mallika Sherawat\n",
            "Raveena Tandon\n",
            "Sumit Nijhawan\n",
            "Swara Bhaskar\n",
            "Kiara Advani\n",
            "Saahil Prem\n",
            "Irrfan Khan\n",
            "Rajkummar Rao\n",
            "Bipasha Basu\n",
            "John Abraham\n",
            "Sooraj Balaji\n",
            "Asha Bhosle\n",
            "Ajay Devgn\n",
            "Barun Sobti\n",
            "Salman Khan\n",
            "Shah Rukh Khan\n",
            "Smitha Gondkar\n",
            "Juhi Chawla\n",
            "Antara Mali\n",
            "Rajpal Yadav\n",
            "Hrithik Roshan\n",
            "Varun Dhawan\n",
            "Anupam Kher\n",
            "Salman Khan\n",
            "Paresh Rawal\n",
            "Akanksha\n",
            "Aamir Khan\n",
            "Kangana Ranaut\n",
            "Nawazuddin Siddiqui\n",
            "Anjori Alagh\n",
            "Taapsee Pannu\n",
            "Abhay Deol\n",
            "Nawazuddin Siddiqui\n",
            "Rajat Kapoor\n",
            "Irrfan Khan\n",
            "Abhimanyu Dasani\n",
            "Rani Mukerji\n",
            "Rani Mukerji\n",
            "Kalki Koechlin\n",
            "Salman Khan\n",
            "Riteish Deshmukh\n",
            "Manisha Koirala\n",
            "Archana Joglekar\n",
            "Priyanka Chopra\n",
            "Richa Chadha\n",
            "Aftab Shivdasani\n",
            "Tusshar Kapoor\n",
            "Rahul Bagga\n",
            "Imran Khan\n",
            "Tulip Joshi\n",
            "Shahid Kapoor\n",
            "Sonu Sood\n",
            "Tabu\n",
            "Anupam Kher\n",
            "Jaideep Ahlawat\n",
            "Puru Chibber\n",
            "Deepti Naval\n",
            "Prabhu Deva\n",
            "Paresh Rawal\n",
            "Imran Khan\n",
            "Saqib Saleem\n",
            "Sunil Shetty\n",
            "Yash Acharya\n",
            "Akshay Kumar\n",
            "Rasika Agashe\n",
            "Akshay Kumar\n",
            "Ayushmann Khurrana\n",
            "Manish Paul\n",
            "Kareena Kapoor\n",
            "Chirag Paswan\n",
            "Arunoday Singh\n",
            "Harshvardhan Kapoor\n",
            "Rahul Bagga\n",
            "Manoj Bajpayee\n",
            "Vivek Oberoi\n",
            "Akshay Kumar\n",
            "Jackky Bhagnani\n",
            "Hazel Croney\n",
            "Neha Dhupia\n",
            "Sunny Deol\n",
            "Hrithik Roshan\n",
            "Sridevi\n",
            "Govinda\n",
            "Ashutosh Rana\n",
            "Vijay Varma\n",
            "Shabana Azmi\n",
            "Nawazuddin Siddiqui\n",
            "Saurav Chakraborty\n",
            "Dev Anand\n",
            "Anupam Kher\n",
            "Prashant Narayanan\n",
            "Emraan Hashmi\n",
            "Anil Kapoor\n",
            "Prithviraj Kapoor\n",
            "Saqib Saleem\n",
            "Salman Khan\n",
            "Sammir Dattani\n",
            "Viineet Kumar\n",
            "Taapsee Pannu\n",
            "Karanvir Bohra\n",
            "Shakti Kapoor\n",
            "Shiv Panditt\n",
            "Mohsin\n",
            "Rahul Bose\n",
            "Paresh Rawal\n",
            "Linda Arsenio\n",
            "Abhishek Bachchan\n",
            "Alieesa P Badresia\n",
            "Kiron Kher\n",
            "Sanjay Dutt\n",
            "Tiger Shroff\n",
            "Sanjay Singh\n",
            "Mallika Sherawat\n",
            "Emraan Hashmi\n",
            "Randeep Hooda\n",
            "Anil Kapoor\n",
            "Aftab Shivdasani\n",
            "Nora Fatehi\n",
            "Jason Lewis\n",
            "Sanjay Suri\n",
            "Prateik\n",
            "Shah Rukh Khan\n",
            "Anil Kapoor\n",
            "Auroshika Dey\n",
            "Anushka Sharma\n",
            "Om Puri\n",
            "Antara Mali\n",
            "Taapsee Pannu\n",
            "Urmila Matondkar\n",
            "Sunny Deol\n",
            "Arjun Kapoor\n",
            "Akshay Kumar\n",
            "Dwij Yadav\n",
            "Abhay Deol\n",
            "Bobby Deol\n",
            "Poonam Pandey\n",
            "Govinda\n",
            "Ayushmann Khurrana\n",
            "Dharmesh Yelande\n",
            "Vikas Kalantri\n",
            "Uday Chopra\n",
            "Sonam Kapoor\n",
            "Sanjay Dutt\n",
            "Vinay Anand\n",
            "John Abraham\n",
            "Rajkummar Rao\n",
            "Swara Bhaskar\n",
            "Ashmit Patel\n",
            "Amitabh Bachchan\n",
            "Anil Kapoor\n",
            "Rani Mukerji\n",
            "Sanjay Dutt\n",
            "John Abraham\n",
            "Sunny Leone\n",
            "Deepak Dobriyal\n",
            "Zaheer Iqbal\n",
            "Madhavan\n",
            "Pulkit Samrat\n",
            "Paresh Rawal\n",
            "Varun Dhawan\n",
            "Vinay Pathak\n",
            "Shraddha Kapoor\n",
            "Attin Bhalla\n",
            "Shah Rukh Khan\n",
            "Gopi Desai\n",
            "Rajkummar Rao\n",
            "Ajay Devgn\n",
            "Ajay Devgn\n",
            "Akshay Kumar\n",
            "Anupam Kher\n",
            "Tusshar Kapoor\n",
            "Abhay Deol\n",
            "Riteish Deshmukh\n",
            "Abhay Deol\n",
            "Meenakshi Dixit\n",
            "Bhavesh Kumar\n",
            "Aamir Khan\n",
            "Boman Irani\n",
            "Amitabh Bachchan\n",
            "Irrfan Khan\n",
            "Nassar Abdulla\n",
            "John Abraham\n",
            "Nana Patekar\n",
            "Deepika Padukone\n",
            "Sunil Shetty\n",
            "Kriti Kharbanda\n",
            "Konkona Sen Sharma\n",
            "Shah Rukh Khan\n",
            "Manisha Koirala\n",
            "Karan Deol\n",
            "Jackie Shroff\n",
            "Nayna Bandhopadhyay\n",
            "Bipasha Basu\n",
            "Mohinder Gujral\n",
            "Tannishtha Chatterjee\n",
            "Saif Ali Khan\n",
            "John Abraham\n",
            "Salman Khan\n",
            "Ajay Devgn\n",
            "Sanya Malhotra\n",
            "Rishi Kapoor\n",
            "Kartik Aaryan\n",
            "Rishi Kapoor\n",
            "Shreyas Talpade\n",
            "Omkar Das Manikpuri\n",
            "Vinod Khanna\n",
            "Jimmy Sheirgill\n",
            "Saif Ali Khan\n",
            "Rajat Kapoor\n",
            "Shahid Kapoor\n",
            "Rajniesh Duggall\n",
            "Anushka Sharma\n",
            "Akshay Kumar\n",
            "Mithun Chakraborty\n",
            "Salman Khan\n",
            "Radhika Apte\n",
            "Sudeep\n",
            "Nawazuddin Siddiqui\n",
            "Rahul Bagga\n",
            "Deepika Padukone\n",
            "Urmila Matondkar\n",
            "Taapsee Pannu\n",
            "Akshay Oberoi\n",
            "Sanjay Dutt\n",
            "Vinod Khanna\n",
            "Akshay Kumar\n",
            "Sanjay Dutt\n",
            "Akshay Kapoor\n",
            "Sunny Deol\n",
            "Raveena Tandon\n",
            "Chandan Roy Sanyal\n",
            "Rajeev Khandelwal\n",
            "Sanjay Dutt\n",
            "Jeetendra\n",
            "Arbaaz Khan\n",
            "Salman Khan\n",
            "Vivek Oberoi\n",
            "Tanuj Virwani\n",
            "Priyanka Chopra\n",
            "Kartik Aaryan\n",
            "Kartik Aaryan\n",
            "Rahul Bose\n",
            "Rishi Kapoor\n",
            "Fardeen Khan\n",
            "Aadar Jain\n",
            "Irrfan Khan\n",
            "Ajay Devgn\n",
            "Irrfan Khan\n",
            "Kangana Ranaut\n",
            "Rajendra Prasad\n",
            "Shah Rukh Khan\n",
            "Deepika Padukone\n",
            "Kunal Kapoor\n",
            "Dhanush\n",
            "Aamir Bashir\n",
            "Abhishek Bachchan\n",
            "Dino Morea\n",
            "Emraan Hashmi\n",
            "Kangana Ranaut\n",
            "Alia Bhatt\n",
            "Shah Rukh Khan\n",
            "Saif Ali Khan\n",
            "Saif Ali Khan\n",
            "Anil Kapoor\n",
            "Raj Arjun\n",
            "Vijay Raaz\n",
            "Kainaz Motivala\n",
            "Sunny Leone\n",
            "Kay Kay Menon\n",
            "Ajay Devgn\n",
            "Ajay Devgn\n",
            "Sadashiv Amrapurkar\n",
            "Emraan Hashmi\n",
            "Kangana Ranaut\n",
            "Amyra Dastur\n",
            "Sanjay Dutt\n",
            "Julia Datt\n",
            "Sahil Khan\n",
            "Shruti Haasan\n",
            "Nawazuddin Siddiqui\n",
            "Manoj Bajpayee\n",
            "Madhavan\n",
            "Naseeruddin Shah\n",
            "Manish Paul\n",
            "Soundarya Sharma\n",
            "Aamir Khan\n",
            "Randeep Hooda\n",
            "Kangana Ranaut\n",
            "Jackky Bhagnani\n",
            "Amitabh Bachchan\n",
            "Rahul Khanna\n",
            "Ajay Devgn\n",
            "Prince Shah\n",
            "Sunil Shetty\n",
            "Sherlyn Chopra\n",
            "Aftab Shivdasani\n",
            "Kashmira Shah\n",
            "Kangana Ranaut\n",
            "Kalki Koechlin\n",
            "Ankit\n",
            "Sunny Deol\n",
            "Vinod Khanna\n",
            "Garima Agarwal\n",
            "Rajesh Khanna\n",
            "Paresh Rawal\n",
            "Saif Ali Khan\n",
            "Aadil Chahal\n",
            "Farhan Akhtar\n",
            "Arjun Rampal\n",
            "Ranbir Kapoor\n",
            "Ranbir Kapoor\n",
            "John Abraham\n",
            "Irrfan Khan\n",
            "Sunny Deol\n",
            "Tanushree Dutta\n",
            "Tannishtha Chatterjee\n",
            "Arjun Rampal\n",
            "Sanjay Dutt\n",
            "Manoj Bajpayee\n",
            "Tanuja\n",
            "Abhishek Bachchan\n",
            "Arsh Bajwa\n",
            "Emraan Hashmi\n",
            "Ileana D'Cruz\n",
            "Jacqueline Fernandez\n",
            "Taapsee Pannu\n",
            "Tanima Bhattacharya\n",
            "Sonarika Bhadoria\n",
            "Vishwa Mohan Badola\n",
            "Kiron Kher\n",
            "Manoj Bajpayee\n",
            "Vivek Oberoi\n",
            "Salman Khan\n",
            "Rani Mukerji\n",
            "John Abraham\n",
            "Swara Bhaskar\n",
            "Sachin Tendulkar\n",
            "Sarika\n",
            "Karan Sharma\n",
            "Rekha\n",
            "Jimmy Sheirgill\n",
            "Sanjay Dutt\n",
            "Jimmy Sheirgill\n",
            "Anupam Kher\n",
            "Saif Ali Khan\n",
            "Salman Khan\n",
            "Zeenat Aman\n",
            "Sushmita Sen\n",
            "Rajeev Khandelwal\n",
            "Rishi Kapoor\n",
            "Govinda\n",
            "Ranbir Kapoor\n",
            "Kay Kay Menon\n",
            "Boman Irani\n",
            "Randeep Hooda\n",
            "Mahima Chaudhry\n",
            "Amitabh Bachchan\n",
            "Amitabh Bachchan\n",
            "Amitabh Bachchan\n",
            "Suraj Pancholi\n",
            "Sanjay Mishra\n",
            "Raveena Tandon\n",
            "Puneet Singh Ratn\n",
            "Amitabh Bachchan\n",
            "John Abraham\n",
            "Mandar Jadhav\n",
            "Dharmendra\n",
            "Zaira Wasim\n",
            "Akshaye Khanna\n",
            "Arshad Warsi\n",
            "Shreyas Talpade\n",
            "Sanjay Suri\n",
            "Salman Khan\n",
            "Farhan Akhtar\n",
            "Rajkummar Rao\n",
            "Fardeen Khan\n",
            "Akshaye Khanna\n",
            "Shahid Kapoor\n",
            "Aditya Narayan\n",
            "Ashish Bisht\n",
            "Sanjay Dutt\n",
            "Ashutosh Rana\n",
            "Isha Koppikar\n",
            "Nana Patekar\n",
            "Rajkummar Rao\n",
            "Kalki Koechlin\n",
            "Bobby Deol\n",
            "Amitabh Bachchan\n",
            "Emraan Hashmi\n",
            "Zayed Khan\n",
            "Tusshar Kapoor\n",
            "Tarun Arora\n",
            "Neha Dhupia\n",
            "Ajay Devgn\n",
            "Aida Elkashef\n",
            "Freny Bhagat\n",
            "Mohit Ahlawat\n",
            "Ajay Devgn\n",
            "Sanjeev Kumar\n",
            "Amitabh Bachchan\n",
            "Sendhil Ramamurthy\n",
            "Jimmy Sheirgill\n",
            "Neil Nitin Mukesh\n",
            "Jimmy Sheirgill\n",
            "Sanjay Dutt\n",
            "Tushar Jalota\n",
            "Ayushmann Khurrana\n",
            "Sushant Singh Rajput\n",
            "Anupam Kher\n",
            "Rajesh Tailang\n",
            "Parzaan Dastur\n",
            "Tabu\n",
            "Ranveer Singh\n",
            "Kangana Ranaut\n",
            "Akshay Kumar\n",
            "Akshay Kumar\n",
            "Sunny Deol\n",
            "Ajay Devgn\n",
            "Anupam Kher\n",
            "Kay Kay Menon\n",
            "Wamiqa Gabbi\n",
            "Barkha Madan\n",
            "Abhay Deol\n",
            "Ajay Devgn\n",
            "Rhea Chakraborty\n",
            "Sushant Singh Rajput\n",
            "Geetika Vidya Ohlyan\n",
            "Sunidhi Chauhan\n",
            "Kartik Aaryan\n",
            "Tinnu Anand\n",
            "Shabana Azmi\n",
            "Shamim Khan\n",
            "Mahima Chaudhry\n",
            "Rati Agnihotri\n",
            "Akshay Kumar\n",
            "Urmila Matondkar\n",
            "Tanishaa Mukerji\n",
            "Aarti Chhabria\n",
            "Partho A. Gupte\n",
            "Kanika Batra\n",
            "Jahangir Khan\n",
            "Jimmy Sheirgill\n",
            "Rajkummar Rao\n",
            "Siddharth\n",
            "Zeenat Aman\n",
            "Alia Bhatt\n",
            "Tiger Shroff\n",
            "Raveena Tandon\n",
            "Anushka Sharma\n",
            "Gurdas Maan\n",
            "Naveen Kasturia\n",
            "Salman Khan\n",
            "Ahraz Ahmed\n",
            "Ajay Devgn\n",
            "Jaya Bachchan\n",
            "Aftab Shivdasani\n",
            "Hrithik Roshan\n",
            "Ashmit Patel\n",
            "Rekha\n",
            "Shah Rukh Khan\n",
            "Manoj Bajpayee\n",
            "Himansh Kohli\n",
            "Saif Ali Khan\n",
            "Darsheel Safary\n",
            "Vatsal Sheth\n",
            "Paresh Rawal\n",
            "Victor Banerjee\n",
            "Zulfi Sayed\n",
            "Sulabha Arya\n",
            "Aamir Khan\n",
            "Rakhee Gulzar\n",
            "Irrfan Khan\n",
            "Nikhil Dwivedi\n",
            "Ajay Devgn\n",
            "Madhavan\n",
            "Kangana Ranaut\n",
            "Kangana Ranaut\n",
            "Akshay Kumar\n",
            "Sanjay Dutt\n",
            "Nana Patekar\n",
            "Amitabh Bachchan\n",
            "Amitabh Bachchan\n",
            "Om Puri\n",
            "Akshay Kumar\n",
            "Sunny Deol\n",
            "Shabana Azmi\n",
            "Dharmendra\n",
            "Neil Nitin Mukesh\n",
            "Ali Zafar\n",
            "Parthaa Akerkar\n",
            "Vinay Pathak\n",
            "Riteish Deshmukh\n",
            "Salman Khan\n",
            "Shahid Kapoor\n",
            "Arjun Kapoor\n",
            "Anil Kapoor\n",
            "Nawazuddin Siddiqui\n",
            "Akshay Kumar\n",
            "Master Shams\n",
            "Anupam Kher\n",
            "Pankaj Kapur\n",
            "Kartik Elangovan\n",
            "Nawazuddin Siddiqui\n",
            "Vidya Balan\n",
            "Nassar Abdulla\n",
            "Ranvir Shorey\n",
            "Kunaal Roy Kapur\n",
            "Rana Daggubati\n",
            "Sunny Deol\n",
            "Rahul Bose\n",
            "Shakti Kapoor\n",
            "Irrfan Khan\n",
            "Amitabh Bachchan\n",
            "Irrfan Khan\n",
            "Kal Penn\n",
            "Edwin Fernandes\n",
            "Akshay Kumar\n",
            "Mann Bagga\n",
            "Zaira Wasim\n",
            "Kay Kay Menon\n",
            "Naseeruddin Shah\n",
            "Emraan Hashmi\n",
            "Himesh Reshammiya\n",
            "Sonam Kapoor\n",
            "Bhavita Anand\n",
            "Saif Ali Khan\n",
            "Arya Babbar\n",
            "Saahil Chadha\n",
            "Aamir Khan\n",
            "Salman Khan\n",
            "Nawazuddin Siddiqui\n",
            "Nishant Dahiya\n",
            "Tabu\n",
            "Akshay Kumar\n",
            "Rakesh Bedi\n",
            "Ajay Devgn\n",
            "Ajay Devgn\n",
            "Ali Zafar\n",
            "Manoj Bajpayee\n",
            "Kunal Khemu\n",
            "Rajkummar Rao\n",
            "Vikrum Kumar\n",
            "Salman Khan\n",
            "Riteish Deshmukh\n",
            "Manisha Koirala\n",
            "Neha Sharma\n",
            "Emraan Hashmi\n",
            "Nana Patekar\n",
            "Sohum Shah\n",
            "Vidya Balan\n",
            "Emraan Hashmi\n",
            "Gul Panag\n",
            "Ajay Devgn\n",
            "Mikaal\n",
            "Rajat Barmecha\n",
            "Shahid Kapoor\n",
            "Rahul Bhat\n",
            "Sunny Singh Nijjar\n",
            "Jimmy Sheirgill\n",
            "Aishwarya Rai Bachchan\n",
            "Aashish Bhatt\n",
            "Emraan Hashmi\n",
            "Rahul Bhat\n",
            "Russell Geoffrey Banks\n",
            "Vicky Kaushal\n",
            "Vinay Pathak\n",
            "Priyanshu Chatterjee\n",
            "Mohit Baghel\n",
            "Arjun Rampal\n",
            "Bobby Deol\n",
            "Shahid Kapoor\n",
            "Vicky Ahuja\n",
            "Shikhi Gupta\n",
            "Salman Khan\n",
            "Shah Rukh Khan\n",
            "Sachiin Joshi\n",
            "Pulkit Samrat\n",
            "Kay Kay Menon\n",
            "Hugh Bonneville\n",
            "Ayushmann Khurrana\n",
            "Harman Baweja\n",
            "Vikram Aditya\n",
            "Amitabh Bachchan\n",
            "Kamal Haasan\n",
            "Shahid Kapoor\n",
            "Kay Kay Menon\n",
            "Leeza Mangaldas\n",
            "Niharica Raizada\n",
            "Rajesh Khanna\n",
            "Shreyas Talpade\n",
            "Arshad Warsi\n",
            "Naseeruddin Shah\n",
            "Sharman Joshi\n",
            "Elisha Kriis\n",
            "Ranbir Kapoor\n",
            "Salman Khan\n",
            "Amitabh Bachchan\n",
            "Sharman Joshi\n",
            "Gurdas Maan\n",
            "Nana Patekar\n",
            "Diganth\n",
            "Akshay Kumar\n",
            "Arshad Warsi\n",
            "Anil Kapoor\n",
            "Shreyas Talpade\n",
            "Boman Irani\n",
            "Manu Rishi Chadha\n",
            "Harman Baweja\n",
            "Emraan Hashmi\n",
            "Kangana Ranaut\n",
            "Sikander Kher\n",
            "Sharman Joshi\n",
            "Indrapal Ahuja\n",
            "Siddhanth Kapoor\n",
            "Prisha Aneja\n",
            "Arjun Rampal\n",
            "Nafisa Ali\n",
            "Dharmendra\n",
            "Rekha\n",
            "Tusshar Kapoor\n",
            "Deepshika Nagpal\n",
            "Anshuman Jha\n",
            "Gavie Chahal\n",
            "Ranbir Kapoor\n",
            "Anya Anand\n",
            "Shah Rukh Khan\n",
            "Anupam Kher\n",
            "Vardhan Puri\n",
            "Jackky Bhagnani\n",
            "Paresh Rawal\n",
            "Ajay Devgn\n",
            "Salman Khan\n",
            "Jeetendra\n",
            "Ajay Devgn\n",
            "Ajay Devgn\n",
            "Vinod Acharya\n",
            "Emraan Hashmi\n",
            "Shah Rukh Khan\n",
            "Mannara Chopra\n",
            "Vivek Oberoi\n",
            "Sanjay Dutt\n",
            "Sushmita Sen\n",
            "Veena Malik\n",
            "Hrithik Roshan\n",
            "Mithun Chakraborty\n",
            "Darsheel Safary\n",
            "Meghan Jadhav\n",
            "Alia Bhatt\n"
          ]
        }
      ]
    },
    {
      "cell_type": "code",
      "source": [
        "#index bhitra loop\n",
        "for i in bolly.index:\n",
        "  print(i)"
      ],
      "metadata": {
        "colab": {
          "base_uri": "https://localhost:8080/"
        },
        "id": "nOYD5ByzcpnR",
        "outputId": "1d9c8f37-47ef-44a5-8644-639aaa72ee9d"
      },
      "execution_count": 127,
      "outputs": [
        {
          "output_type": "stream",
          "name": "stdout",
          "text": [
            "1920 (film)\n",
            "1920: London\n",
            "1920: The Evil Returns\n",
            "1971 (2007 film)\n",
            "2 States (2014 film)\n",
            "22 Yards\n",
            "3 A.M. (2014 film)\n",
            "3 Deewarein\n",
            "3 Idiots\n",
            "3 Storeys\n",
            "31st October (film)\n",
            "36 China Town\n",
            "3G (film)\n",
            "404 (film)\n",
            "5 Weddings\n",
            "68 Pages\n",
            "7 Hours to Go\n",
            "7 Khoon Maaf\n",
            "7½ Phere\n",
            "88 Antop Hill\n",
            "99 (2009 film)\n",
            "99.9 FM (film)\n",
            "?: A Question Mark\n",
            "A Decent Arrangement\n",
            "A Flat (film)\n",
            "A Flying Jatt\n",
            "A Gentleman\n",
            "ABCD 2\n",
            "Aa Dekhen Zara\n",
            "Aa Gaya Hero\n",
            "Aabra Ka Daabra\n",
            "Aag (2007 film)\n",
            "Aagey Se Right\n",
            "Aaj Ka Andha Kanoon\n",
            "Aaja Nachle\n",
            "Aakhari Decision\n",
            "Aakrosh (2010 film)\n",
            "Aalaap (film)\n",
            "Aan: Men at Work\n",
            "Aanch\n",
            "Aankhen (2002 film)\n",
            "Aap Kaa Surroor\n",
            "Aap Ki Khatir (2006 film)\n",
            "Aapko Pehle Bhi Kahin Dekha Hai\n",
            "Aarakshan\n",
            "Aashayein\n",
            "Aashiq Banaya Aapne\n",
            "Aashiqui 2\n",
            "Aashiqui.in\n",
            "Aasma: The Sky Is the Limit\n",
            "Aazaan\n",
            "Ab Tak Chhappan 2\n",
            "Ab Tumhare Hawale Watan Saathiyo\n",
            "Accident on Hill Road\n",
            "Acid Factory\n",
            "Action Jackson (2014 film)\n",
            "Action Replayy\n",
            "Adharm (2006 film)\n",
            "Ae Dil Hai Mushkil\n",
            "Aetbaar\n",
            "Agent Vinod (2012 film)\n",
            "Aggar (film)\n",
            "Agneepath (2012 film)\n",
            "Agnipankh\n",
            "Ahista Ahista (2006 film)\n",
            "Airlift (film)\n",
            "Aisa Kyon Hota Hai?\n",
            "Aisa Yeh Jahaan\n",
            "Aitraaz\n",
            "Aiyaary\n",
            "Aiyyaa\n",
            "Ajab Gazabb Love\n",
            "Ajab Prem Ki Ghazab Kahani\n",
            "Ajji\n",
            "Akaash Vani\n",
            "Aksar\n",
            "Aksar 2\n",
            "Aladin (film)\n",
            "Alag\n",
            "Albert Pinto Ko Gussa Kyun Aata Hai?\n",
            "Aligarh (film)\n",
            "All Is Well (2015 film)\n",
            "All the Best: Fun Begins\n",
            "Allah Ke Banday\n",
            "Alone (2015 Hindi film)\n",
            "Aloo Chaat (film)\n",
            "Always Kabhi Kabhi\n",
            "Amavas\n",
            "Amit Sahni Ki List\n",
            "Anaarkali of Aarah\n",
            "Anamika (2008 film)\n",
            "Andaaz\n",
            "Andaaz\n",
            "Andhadhun\n",
            "Angel (2011 film)\n",
            "Anjaana Anjaani\n",
            "Anjaane (2005 film)\n",
            "Ankahee (2006 film)\n",
            "Ankhon Dekhi\n",
            "Ankur Arora Murder Case\n",
            "Anna (2016 film)\n",
            "Antardwand\n",
            "Anthony Kaun Hai?\n",
            "Anuradha (2014 film)\n",
            "Anwar (2007 film)\n",
            "Apaharan\n",
            "Apartment (film)\n",
            "Apna Asmaan\n",
            "Apna Sapna Money Money\n",
            "Apne\n",
            "Arjun Patiala\n",
            "Arjun: The Warrior Prince\n",
            "Armaan (2003 film)\n",
            "Article 15 (film)\n",
            "Aryan: Unbreakable\n",
            "Asambhav\n",
            "Ata Pata Laapata\n",
            "Aur Pappu Paas Ho Gaya\n",
            "Aurangzeb (film)\n",
            "Aval (2017 film)\n",
            "Awara Paagal Deewana\n",
            "Awarapan\n",
            "Azhar (film)\n",
            "B.A. Pass\n",
            "Baabarr\n",
            "Baabul (2006 film)\n",
            "Baaghi (2016 film)\n",
            "Baaghi 2\n",
            "Baar Baar Dekho\n",
            "Baat Bann Gayi\n",
            "Baaz: A Bird in Danger\n",
            "Baazaar\n",
            "Babloo Happy Hai\n",
            "Babuji Ek Ticket Bambai\n",
            "Babumoshai Bandookbaaz\n",
            "Baby (2015 Hindi film)\n",
            "Bachche Kachche Sachche\n",
            "Bachke Rehna Re Baba\n",
            "Bachna Ae Haseeno\n",
            "Badhaai Ho\n",
            "Badla (2019 film)\n",
            "Badlapur (film)\n",
            "Badlapur Boys\n",
            "Badmashiyaan\n",
            "Badrinath Ki Dulhania\n",
            "Baghban (2003 film)\n",
            "Bajatey Raho\n",
            "Bajirao Mastani\n",
            "Bajrangi Bhaijaan\n",
            "Bala (2019 film)\n",
            "Balwinder Singh Famous Ho Gaya\n",
            "Banaras (2006 film)\n",
            "Band Baaja Baaraat\n",
            "Bandook\n",
            "Bang Bang!\n",
            "Bangistan\n",
            "Banjo (2016 film)\n",
            "Bank Chor\n",
            "Barah Aana\n",
            "Bardaasht\n",
            "Bareilly Ki Barfi\n",
            "Barfi!\n",
            "Barkhaa\n",
            "Barsaat (2005 film)\n",
            "Bas Ek Pal\n",
            "Basti (film)\n",
            "Batla House\n",
            "Battalion 609\n",
            "Batti Gul Meter Chalu\n",
            "Bazaar E Husn\n",
            "Bbuddah... Hoga Terra Baap\n",
            "Befikre\n",
            "Begum Jaan\n",
            "Behen Hogi Teri\n",
            "Beiimaan Love\n",
            "Being Cyrus\n",
            "Bewafaa (2005 film)\n",
            "Bewakoofiyaan\n",
            "Beyond the Clouds (2017 film)\n",
            "Bezubaan Ishq\n",
            "Bhaag Johnny\n",
            "Bhaag Milkha Bhaag\n",
            "Bhagam Bhag\n",
            "Bhagmati (2005 film)\n",
            "Bhaiaji Superhit\n",
            "Bhanwarey\n",
            "Bhavesh Joshi Superhero\n",
            "Bheja Fry (film)\n",
            "Bheja Fry 2\n",
            "Bhola in Bollywood\n",
            "Bhool Bhulaiyaa\n",
            "Bhoomi (film)\n",
            "Bhoot (film)\n",
            "Bhoot Returns\n",
            "Bhoot Unkle\n",
            "Bhoothnath\n",
            "Bhoothnath Returns\n",
            "Bhopal: A Prayer for Rain\n",
            "Bhram\n",
            "Big Brother (2007 film)\n",
            "Billu\n",
            "Bin Bulaye Baraati\n",
            "Bioscopewala\n",
            "Bittoo Boss\n",
            "Black (2005 film)\n",
            "Black Friday (2007 film)\n",
            "Blackmail (2005 film)\n",
            "Blood Brothers (2007 Indian film)\n",
            "Blood Money (2012 film)\n",
            "Bloody Isshq\n",
            "Blue (2009 film)\n",
            "Bluffmaster!\n",
            "Bobby Jasoos\n",
            "Bodyguard (2011 Hindi film)\n",
            "Bol Bachchan\n",
            "Bollywood Diaries\n",
            "Bombairiya\n",
            "Bombay Talkies (film)\n",
            "Bombay Velvet\n",
            "Bombay to Bangkok\n",
            "Bombay to Goa (2007 film)\n",
            "Boom (film)\n",
            "Border (1997 film)\n",
            "Boss (2013 Hindi film)\n",
            "Brahman Naman\n",
            "Break Ke Baad\n",
            "Breakaway (2011 film)\n",
            "Brij Mohan Amar Rahe\n",
            "Brothers (2015 film)\n",
            "Bubble Gum (film)\n",
            "Buddha Mar Gaya\n",
            "Buddha in a Traffic Jam\n",
            "Bullet: Ek Dhamaka\n",
            "Bullett Raja\n",
            "Bumboo\n",
            "Bumm Bumm Bole\n",
            "Bumper Draw\n",
            "Bunty Aur Babli\n",
            "Bypass Road (film)\n",
            "C Kkompany\n",
            "Calapor (film)\n",
            "Calcutta Mail\n",
            "Calendar Girls (2015 film)\n",
            "Cash (2007 film)\n",
            "Chaahat – Ek Nasha\n",
            "Chaalis Chauraasi\n",
            "Chaar Din Ki Chandni\n",
            "Chaarfutiya Chhokare\n",
            "Chak De! India\n",
            "Chakravyuh (2012 film)\n",
            "Chal Chala Chal\n",
            "Chal Pichchur Banate Hain\n",
            "Chalk n Duster\n",
            "Challo Driver\n",
            "Chalo Dilli\n",
            "Chalte Chalte (2003 film)\n",
            "Chameli (film)\n",
            "Chamku\n",
            "Chance Pe Dance\n",
            "Chand Ke Paar Chalo (film)\n",
            "Chand Sa Roshan Chehra\n",
            "Chandni Chowk to China\n",
            "Charas (2004 film)\n",
            "Chargesheet (film)\n",
            "Chase (2010 film)\n",
            "Chashme Baddoor (2013 film)\n",
            "Chatur Singh Two Star\n",
            "Cheeni Kum\n",
            "Chef (2017 film)\n",
            "Chehraa\n",
            "Chennai Express\n",
            "Chetna: The Excitement\n",
            "Chhodon Naa Yaar\n",
            "Chhota Bheem and the Throne of Bali\n",
            "Chicken Curry Law\n",
            "Children of Heaven\n",
            "Children of War (2014 film)\n",
            "Chillar Party\n",
            "Chinar Daastaan-E-Ishq\n",
            "Chingaari\n",
            "Chintu Ji\n",
            "Chittagong (film)\n",
            "Chocolate (2005 film)\n",
            "Chor Chor Super Chor\n",
            "Chori Chori (2003 film)\n",
            "Chup Chup Ke\n",
            "Chura Liyaa Hai Tumne\n",
            "Cigarette Ki Tarah\n",
            "City of Gold (2010 film)\n",
            "CityLights (2014 film)\n",
            "Classic – Dance of Love\n",
            "Click (2010 film)\n",
            "Cocktail (2012 film)\n",
            "Coffee Bloom\n",
            "Coffee with D\n",
            "Commando 3 (film)\n",
            "Commando: A One Man Army\n",
            "Company (film)\n",
            "Contract (2008 film)\n",
            "Corporate (2006 film)\n",
            "Court (film)\n",
            "Crazy Cukkad Family\n",
            "Creature 3D\n",
            "Crook (film)\n",
            "D (film)\n",
            "D-Day (2013 film)\n",
            "Daas Dev\n",
            "Daawat-e-Ishq\n",
            "Dabangg\n",
            "Dabangg 2\n",
            "Dabangg 3\n",
            "Daddy (2017 film)\n",
            "Daddy Cool (2009 Hindi film)\n",
            "Damadamm!\n",
            "Dangal (film)\n",
            "Dangerous Ishhq\n",
            "Darling (2007 Indian film)\n",
            "Darna Mana Hai\n",
            "Darna Zaroori Hai\n",
            "Darr @ the Mall\n",
            "Darwaaza Bandh Rakho\n",
            "Dassehra\n",
            "Dasvidaniya\n",
            "Days of Tafree\n",
            "De Dana Dan\n",
            "De De Pyaar De\n",
            "De Taali\n",
            "Deadline: Sirf 24 Ghante\n",
            "Dear Dad (film)\n",
            "Dear Friend Hitler\n",
            "Dear Maya\n",
            "Dear Zindagi\n",
            "Dedh Ishqiya\n",
            "Deewaar (2004 film)\n",
            "Deewane Huye Paagal\n",
            "Dehraadun Diary\n",
            "Dekh Tamasha Dekh\n",
            "Delhi Belly (film)\n",
            "Delhi Safari\n",
            "Delhi-6\n",
            "Department (film)\n",
            "Deshdrohi\n",
            "Desi Boyz\n",
            "Desi Kattey\n",
            "Detective Byomkesh Bakshy!\n",
            "Dev (2004 film)\n",
            "Devaki (2005 film)\n",
            "Devdas (2002 Hindi film)\n",
            "Devi (2016 film)\n",
            "Dhadak\n",
            "Dhamaal\n",
            "Dhanak\n",
            "Dharam Sankat Mein\n",
            "Dharm (film)\n",
            "Dharti Kahe Pukar Ke (2006 film)\n",
            "Dhobi Ghat (film)\n",
            "Dhokha\n",
            "Dhol (film)\n",
            "Dhoom\n",
            "Dhoom 2\n",
            "Dhoom 3\n",
            "Dhoondte Reh Jaaoge\n",
            "Dhoop\n",
            "Dhund (2003 film)\n",
            "Dil Bechara\n",
            "Dil Bechara Pyaar Ka Maara\n",
            "Dil Bole Hadippa!\n",
            "Dil Dhadakne Do\n",
            "Dil Diya Hai\n",
            "Dil Dosti Etc\n",
            "Dil Jo Bhi Kahey...\n",
            "Dil Jo Na Keh Saka\n",
            "Dil Juunglee\n",
            "Dil Ka Rishta\n",
            "Dil Kabaddi\n",
            "Dil Maange More\n",
            "Dil Ne Jise Apna Kahaa\n",
            "Dil Pardesi Ho Gayaa\n",
            "Dil Toh Baccha Hai Ji\n",
            "Dil Toh Deewana Hai\n",
            "Dilliwali Zaalim Girlfriend\n",
            "Dilwale (2015 film)\n",
            "Direct Ishq\n",
            "Dirty Politics (film)\n",
            "Dishkiyaoon\n",
            "Dishoom\n",
            "Do Dooni Chaar\n",
            "Do Lafzon Ki Kahani (film)\n",
            "Dobaara: See Your Evil\n",
            "Dobara\n",
            "Dolly Ki Doli\n",
            "Don (2006 Hindi film)\n",
            "Don 2\n",
            "Don Muthu Swami\n",
            "Don't Stop Dreaming\n",
            "Dongari Ka Raja\n",
            "Dor (film)\n",
            "Dostana (2008 film)\n",
            "Dosti: Friends Forever\n",
            "Double Cross (2005 film)\n",
            "Double Dhamaal\n",
            "Dream Girl (2019 film)\n",
            "Dreams (2006 film)\n",
            "Drishyam (2015 film)\n",
            "Drona (2008 film)\n",
            "Dude Where's the Party?\n",
            "Dulha Mil Gaya\n",
            "Dum (2003 Hindi film)\n",
            "Dum Laga Ke Haisha\n",
            "Dum Maaro Dum (film)\n",
            "Dunno Y... Na Jaane Kyon\n",
            "Dus\n",
            "Dus Kahaniyaan\n",
            "Eight: The Power of Shani\n",
            "Ek Ajnabee\n",
            "Ek Alag Mausam\n",
            "Ek Aur Ek Gyarah\n",
            "Ek Chalis Ki Last Local\n",
            "Ek Din 24 Ghante\n",
            "Ek Haseena Thi Ek Deewana Tha\n",
            "Ek Hasina Thi (film)\n",
            "Ek Kahani Julie Ki\n",
            "Ek Khiladi Ek Haseena (film)\n",
            "Ek Main Aur Ekk Tu\n",
            "Ek Paheli Leela\n",
            "Ek Se Badhkar Ek (2004 film)\n",
            "Ek Se Bure Do\n",
            "Ek Second... Jo Zindagi Badal De?\n",
            "Ek Tha Tiger\n",
            "Ek Thi Daayan\n",
            "Ek Thi Rani Aisi Bhi\n",
            "Ek Villain\n",
            "Ek Vivaah... Aisa Bhi\n",
            "Ek: The Power of One\n",
            "Ekk Deewana Tha\n",
            "Ekkees Toppon Ki Salaami\n",
            "Eklavya: The Royal Guard\n",
            "Elaan (2005 film)\n",
            "Enemmy\n",
            "English Vinglish\n",
            "Entertainment (2014 film)\n",
            "Escape from Taliban\n",
            "Evening Shadows\n",
            "F.A.L.T.U\n",
            "Family (2006 film)\n",
            "Family of Thakurganj\n",
            "Familywala\n",
            "Fan (film)\n",
            "Fanaa (2006 film)\n",
            "Fareb (2005 film)\n",
            "Fashion (2008 film)\n",
            "Fatso!\n",
            "Ferrari Ki Sawaari\n",
            "Fever (2016 film)\n",
            "Fida\n",
            "Fight Club – Members Only\n",
            "Filmistaan\n",
            "Finding Fanny\n",
            "Firaaq\n",
            "Firangi\n",
            "Fitoor\n",
            "Flat 211\n",
            "Flavors (film)\n",
            "Fool & Final\n",
            "Footpath (2003 film)\n",
            "Force (2011 film)\n",
            "Force 2\n",
            "Fox (film)\n",
            "Fraud Saiyaan\n",
            "Freaky Ali\n",
            "Fredrick (film)\n",
            "From Sydney with Love\n",
            "Fruit and Nut (film)\n",
            "FryDay\n",
            "Fuddu\n",
            "Fugly (film)\n",
            "Fukrey\n",
            "Fukrey Returns\n",
            "Fun – Can Be Dangerous Sometimes\n",
            "Fun2shh... Dudes in the 10th Century\n",
            "G Kutta Se\n",
            "Gabbar Is Back\n",
            "Gabbar Is Back\n",
            "Gali Guleiyan\n",
            "Game (2011 film)\n",
            "Gandhi My Father\n",
            "Gang of Ghosts\n",
            "Gangaajal\n",
            "Gangoobai\n",
            "Gangs of Wasseypur\n",
            "Gangs of Wasseypur – Part 2\n",
            "Gangster (2006 film)\n",
            "Garam Masala (2005 film)\n",
            "Garv: Pride & Honour\n",
            "Gattu\n",
            "Gauri: The Unborn\n",
            "Gayab\n",
            "Genius (2018 Hindi film)\n",
            "Ghajini (2008 film)\n",
            "Ghanchakkar (film)\n",
            "Ghayal: Once Again\n",
            "Ghost (2012 film)\n",
            "Ghost (2019 film)\n",
            "Gippi\n",
            "Girlfriend (2004 film)\n",
            "Global Baba\n",
            "Go (2007 film)\n",
            "Go Goa Gone\n",
            "Goal (2007 Hindi film)\n",
            "God Tussi Great Ho\n",
            "Gold (2018 film)\n",
            "Goliyon Ki Raasleela Ram-Leela\n",
            "Gollu Aur Pappu\n",
            "Golmaal Again\n",
            "Golmaal Returns\n",
            "Golmaal: Fun Unlimited\n",
            "Gone Kesh\n",
            "Good Boy Bad Boy\n",
            "Good Newwz\n",
            "Gori Tere Pyaar Mein\n",
            "Gour Hari Dastaan\n",
            "Grand Masti\n",
            "Great Grand Masti\n",
            "Green Card Fever\n",
            "Guddu Ki Gun\n",
            "Guddu Rangeela\n",
            "Guest iin London\n",
            "Gulaab Gang\n",
            "Gulaal (film)\n",
            "Gulabi Gang (film)\n",
            "Gully Boy\n",
            "Gumnaam – The Mystery\n",
            "Gunday\n",
            "Guru (2007 film)\n",
            "Guzaarish (film)\n",
            "Haal-e-Dil\n",
            "Haasil\n",
            "Hai Apna Dil Toh Awara\n",
            "Haider (film)\n",
            "Half Girlfriend (film)\n",
            "Halkaa\n",
            "Halla Bol\n",
            "Hamari Adhuri Kahani\n",
            "Hamid (film)\n",
            "Hanuman (2005 film)\n",
            "Happy Bhag Jayegi\n",
            "Happy Ending (film)\n",
            "Happy Husbands (2011 film)\n",
            "Happy New Year (2014 film)\n",
            "Happy Phirr Bhag Jayegi\n",
            "Haraamkhor\n",
            "Hari Puttar: A Comedy of Terrors\n",
            "Hasee Toh Phasee\n",
            "Haseena Parkar\n",
            "Hastey Hastey\n",
            "Hate Story\n",
            "Hate Story 2\n",
            "Hate Story 4\n",
            "Hattrick (film)\n",
            "Hatya (2004 film)\n",
            "Haunted – 3D\n",
            "Hava Aney Dey\n",
            "Hawa (film)\n",
            "Hawaa Hawaai\n",
            "Hawaizaada\n",
            "Hawas (2004 film)\n",
            "Hawayein\n",
            "Hazaaron Khwaishein Aisi\n",
            "Heartless (2014 film)\n",
            "Helicopter Eela\n",
            "Hello (2008 film)\n",
            "Hello Darling\n",
            "Help (film)\n",
            "Hero (2015 Hindi film)\n",
            "Heroes (2008 film)\n",
            "Heroine (2012 film)\n",
            "Heropanti\n",
            "Hey Bro\n",
            "Heyy Babyy\n",
            "Hichki\n",
            "High Jack (film)\n",
            "Highway (2014 Hindi film)\n",
            "Himmatwala (2013 film)\n",
            "Hind Ka Napak Ko Jawab: MSG Lion Heart 2\n",
            "Hindi Medium\n",
            "Hisss\n",
            "Holiday (2006 film)\n",
            "Holiday: A Soldier Is Never Off Duty\n",
            "Home Delivery\n",
            "Honeymoon Travels Pvt. Ltd.\n",
            "Honour Killing (film)\n",
            "Hope Aur Hum\n",
            "Horror Story (film)\n",
            "Hostel (2011 film)\n",
            "Hotel Salvation\n",
            "Housefull (2010 film)\n",
            "Housefull 2\n",
            "Housefull 4\n",
            "Hulchul (2004 film)\n",
            "Hum Chaar\n",
            "Hum Hai Raahi Car Ke\n",
            "Hum Tum\n",
            "Hum Tum Aur Ghost\n",
            "Hum Tum Shabana\n",
            "Hum Tumhare Hain Sanam\n",
            "Hume Tumse Pyaar Kitna\n",
            "Humko Deewana Kar Gaye\n",
            "Humko Tumse Pyaar Hai\n",
            "Humne Jeena Seekh Liya\n",
            "Humpty Sharma Ki Dulhania\n",
            "Humshakals\n",
            "Hungama (2003 film)\n",
            "Hunterrr\n",
            "Hyderabad Blues 2\n",
            "I Am (2010 Indian film)\n",
            "I Am Kalam\n",
            "I Hate Luv Storys\n",
            "I Love Desi\n",
            "I Love NY (2015 film)\n",
            "I Proud to Be an Indian\n",
            "I See You (2006 film)\n",
            "Impatient Vivek\n",
            "India's Most Wanted (film)\n",
            "Indian Babu\n",
            "Indu Sarkar\n",
            "Inkaar (2013 film)\n",
            "Insaaf: The Justice\n",
            "Insan\n",
            "Inteha (2003 film)\n",
            "Inteqam: The Perfect Game\n",
            "Iqbal (film)\n",
            "Iqraar by Chance\n",
            "Irada (2017 film)\n",
            "Irudhi Suttru\n",
            "Ishaqzaade\n",
            "Ishkq in Paris\n",
            "Ishq Click\n",
            "Ishq Forever\n",
            "Ishq Hai Tumse\n",
            "Ishq Ke Parindey\n",
            "Ishq Vishk\n",
            "Ishqedarriyaan\n",
            "Ishqeria\n",
            "Ishqiya\n",
            "Isi Life Mein\n",
            "Island City (2015 film)\n",
            "Issaq\n",
            "It's a Wonderful Afterlife\n",
            "JD (film)\n",
            "Jaal: The Trap\n",
            "Jaan-E-Mann\n",
            "Jaane Hoga Kya\n",
            "Jaane Kahan Se Aayi Hai\n",
            "Jaane Kyun De Yaaron\n",
            "Jab Harry Met Sejal\n",
            "Jab Tak Hai Jaan\n",
            "Jab We Met\n",
            "Jabariya Jodi\n",
            "Jack and Dil\n",
            "Jackpot (2013 film)\n",
            "Jagga Jasoos\n",
            "Jahan Jaaeyega Hamen Paaeyega\n",
            "Jai Chiranjeeva\n",
            "Jai Gangaajal\n",
            "Jai Ho (film)\n",
            "Jai Jawaan Jai Kisaan (film)\n",
            "Jai Veeru\n",
            "Jail (2009 film)\n",
            "Jajantaram Mamantaram\n",
            "Jal (film)\n",
            "Jalebi (film)\n",
            "Jalpari: The Desert Mermaid\n",
            "James (2005 film)\n",
            "Janasheen\n",
            "Jannat (film)\n",
            "Jattu Engineer\n",
            "Jawani Diwani: A Youthful Joyride\n",
            "Jayantabhai Ki Luv Story\n",
            "Jazbaa\n",
            "Jeena Hai Toh Thok Daal\n",
            "Jeena Isi Ka Naam Hai (film)\n",
            "Jhalki\n",
            "Jhankaar Beats\n",
            "Jhoom Barabar Jhoom\n",
            "Jhootha Hi Sahi\n",
            "Jhootha Kahin Ka\n",
            "Jia Aur Jia\n",
            "Jigariyaa\n",
            "Jigyaasa\n",
            "Jimmy (2008 film)\n",
            "Jism (2003 film)\n",
            "Jo Bole So Nihaal (film)\n",
            "Jo Hum Chahein\n",
            "Jodhaa Akbar\n",
            "Jodi Breakers\n",
            "Joggers' Park (film)\n",
            "John Day (film)\n",
            "Johnny Gaddaar\n",
            "Joker (2012 film)\n",
            "Jolly LLB\n",
            "Judgementall Hai Kya\n",
            "Judwaa 2\n",
            "Jugni (2016 film)\n",
            "Julie (2004 film)\n",
            "Julie 2\n",
            "Junglee (2019 film)\n",
            "Junooniyat\n",
            "Jurm (2005 film)\n",
            "Just Married (2007 film)\n",
            "Kaabil\n",
            "Kaagaz Ke Fools\n",
            "Kaal (2005 film)\n",
            "Kaalakaandi\n",
            "Kaalo\n",
            "Kaanchi: The Unbreakable\n",
            "Kaante\n",
            "Kaashi in Search of Ganga\n",
            "Kabhi Alvida Naa Kehna\n",
            "Kabir Singh\n",
            "Kabul Express\n",
            "Kadvi Hawa\n",
            "Kagaar: Life on the Edge\n",
            "Kahaani\n",
            "Kahin Hai Mera Pyar\n",
            "Kai Po Che!\n",
            "Kaise Kahoon Ke... Pyaar Hai\n",
            "Kal Ho Naa Ho\n",
            "Kalank\n",
            "Kalyug (2005 film)\n",
            "Kaminey\n",
            "Kapoor & Sons\n",
            "Karam (film)\n",
            "Karar: The Deal\n",
            "Karle Pyaar Karle\n",
            "Karma Aur Holi\n",
            "Karthik Calling Karthik\n",
            "Karwaan\n",
            "Karzzzz\n",
            "Kasak (2005 film)\n",
            "Kash Aap Hamare Hote\n",
            "Katti Batti\n",
            "Kaun Hai Jo Sapno Mein Aaya\n",
            "Kaun Kitne Paani Mein\n",
            "Keep Safe Distance (film)\n",
            "Kesari (film)\n",
            "Khajoor Pe Atke\n",
            "Khakee\n",
            "Khamosh Pani\n",
            "Khamoshh... Khauff Ki Raat\n",
            "Khamoshi (2019 film)\n",
            "Khamoshiyan\n",
            "Khap (film)\n",
            "Khatta Meetha (2010 film)\n",
            "Khel Toh Ab Shuru Hoga\n",
            "Khel – No Ordinary Game\n",
            "Khichdi: The Movie\n",
            "Khoobsurat (2014 film)\n",
            "Khosla Ka Ghosla\n",
            "Khoya Khoya Chand\n",
            "Khuda Kasam\n",
            "Khushi (2003 Hindi film)\n",
            "Khwaabb\n",
            "Khwahish\n",
            "Ki & Ka\n",
            "Kick (2014 film)\n",
            "Kill Dil\n",
            "Kis Kis Ki Kismat\n",
            "Kis Kisko Pyaar Karoon\n",
            "Kisaan\n",
            "Kismat (2004 film)\n",
            "Kismat Konnection\n",
            "Kismat Love Paisa Dilli\n",
            "Kisna: The Warrior Poet\n",
            "Kisse Pyaar Karoon\n",
            "Kites (film)\n",
            "Knock Out (2010 film)\n",
            "Koi Aap Sa\n",
            "Koi Mere Dil Mein Hai\n",
            "Koi... Mil Gaya\n",
            "Koyelaanchal\n",
            "Krazzy 4\n",
            "Krishna Aur Kans\n",
            "Krishna Cottage\n",
            "Krrish\n",
            "Kucch Luv Jaisaa\n",
            "Kucch To Hai\n",
            "Kuch Kuch Locha Hai\n",
            "Kuch Naa Kaho\n",
            "Kuchh Bheege Alfaaz\n",
            "Kuchh Meetha Ho Jaye\n",
            "Kudiyon Ka Hai Zamana\n",
            "Kuku Mathur Ki Jhand Ho Gayi\n",
            "Kurbaan (2009 film)\n",
            "Kushti (film)\n",
            "Kya Dilli Kya Lahore\n",
            "Kya Love Story Hai\n",
            "Kyaa Kool Hai Hum\n",
            "Kyaa Kool Hain Hum 3\n",
            "Kyaa Super Kool Hain Hum\n",
            "Kyon Ki\n",
            "Kyun! Ho Gaya Na...\n",
            "LOC Kargil\n",
            "Laaga Chunari Mein Daag\n",
            "Laal Rang\n",
            "Ladies vs Ricky Bahl\n",
            "Lafangey Parindey\n",
            "Lage Raho Munna Bhai\n",
            "Lahore (film)\n",
            "Laila Majnu (2018 film)\n",
            "Lakeer – Forbidden Lines\n",
            "Lakshmi (2014 film)\n",
            "Lakshya (film)\n",
            "Lamhaa\n",
            "Lekar Hum Deewana Dil\n",
            "Life Express (2010 film)\n",
            "Life Is Beautiful (2014 film)\n",
            "Life Ki Toh Lag Gayi\n",
            "Life Mein Kabhie Kabhiee\n",
            "Life Partner\n",
            "Life in a... Metro\n",
            "Lipstick Under My Burkha\n",
            "Listen... Amaya\n",
            "Little Zizou\n",
            "Login (film)\n",
            "Loins of Punjab Presents\n",
            "London Dreams\n",
            "Lootera\n",
            "Love Aaj Kal\n",
            "Love Breakups Zindagi\n",
            "Love Games (film)\n",
            "Love Ke Chakkar Mein\n",
            "Love Sex Aur Dhokha\n",
            "Love Shagun\n",
            "Love Sonia\n",
            "Love Story 2050\n",
            "Love U...Mr. Kalakaar!\n",
            "Love in Bombay\n",
            "Love per Square Foot\n",
            "Loveshhuda\n",
            "Luck (2009 film)\n",
            "Luck by Chance\n",
            "Luckhnowi Ishq\n",
            "Lucknow Central\n",
            "Lucky Kabootar\n",
            "Lucky: No Time for Love\n",
            "Luv U Alia\n",
            "Luv U Soniyo\n",
            "M Cream\n",
            "M.S. Dhoni: The Untold Story\n",
            "MP3: Mera Pehla Pehla Pyaar\n",
            "MSG-2 The Messenger\n",
            "MSG: The Messenger\n",
            "MSG: The Warrior Lion Heart\n",
            "Maan Gaye Mughal-e-Azam\n",
            "Maatr\n",
            "Maazii\n",
            "Machhli Jal Ki Rani Hai\n",
            "Machine (2017 film)\n",
            "Mad About Dance\n",
            "Madaari\n",
            "Made in China (2019 film)\n",
            "Madhoshi\n",
            "Madras Cafe\n",
            "Magic Magic 3D\n",
            "Mai (2013 film)\n",
            "Main Aisa Hi Hoon\n",
            "Main Aur Mr. Riight\n",
            "Main Aurr Mrs Khanna\n",
            "Main Hoon Na\n",
            "Main Hoon Part-Time Killer\n",
            "Main Krishna Hoon\n",
            "Main Madhuri Dixit Banna Chahti Hoon\n",
            "Main Meri Patni Aur Woh\n",
            "Main Prem Ki Diwani Hoon\n",
            "Main Tera Hero\n",
            "Maine Gandhi Ko Nahin Mara\n",
            "Maine Pyaar Kyun Kiya?\n",
            "Malamaal Weekly\n",
            "Malik Ek\n",
            "Mangal Pandey: The Rising\n",
            "Manikarnika: The Queen of Jhansi\n",
            "Manjhi – The Mountain Man\n",
            "Manjunath (film)\n",
            "Manmarziyaan\n",
            "Manorama Six Feet Under\n",
            "Manto (2018 film)\n",
            "Mantra (2016 film)\n",
            "Maqbool\n",
            "Mard Ko Dard Nahi Hota\n",
            "Mardaani\n",
            "Mardaani 2\n",
            "Margarita with a Straw\n",
            "Marigold (2007 film)\n",
            "Marjaavaan\n",
            "Market (2003 film)\n",
            "Married 2 America\n",
            "Mary Kom (film)\n",
            "Masaan\n",
            "Masti (2004 film)\n",
            "Mastizaade\n",
            "Mastram\n",
            "Matru Ki Bijlee Ka Mandola\n",
            "Matrubhoomi\n",
            "Mausam (2011 film)\n",
            "Maximum (film)\n",
            "Meenaxi: A Tale of Three Cities\n",
            "Meerabai Not Out\n",
            "Meeruthiya Gangsters\n",
            "Meinu Ek Ladki Chaahiye\n",
            "Memories in March\n",
            "Mercury (film)\n",
            "Mere Baap Pehle Aap\n",
            "Mere Brother Ki Dulhan\n",
            "Mere Dad Ki Maruti\n",
            "Mere Dost Picture Abhi Baki Hai\n",
            "Mere Genie Uncle\n",
            "Mere Jeevan Saathi (2006 film)\n",
            "Mere Pyare Prime Minister\n",
            "Meri Biwi Ka Jawaab Nahin\n",
            "Meri Pyaari Bindu\n",
            "Mickey Virus\n",
            "Milenge Milenge\n",
            "Miley Naa Miley Hum\n",
            "Mirch\n",
            "Mirzya (film)\n",
            "Miss Tanakpur Haazir Ho\n",
            "Missing (2018 film)\n",
            "Mission Istaanbul\n",
            "Mission Mangal\n",
            "Mitron\n",
            "Mittal v/s Mittal\n",
            "Moh Maya Money\n",
            "Mohalla Assi\n",
            "Mohenjo Daro (film)\n",
            "Mom (film)\n",
            "Money Hai Toh Honey Hai\n",
            "Monica (film)\n",
            "Monsoon Shootout\n",
            "Morning Raga\n",
            "Motichoor Chaknachoor\n",
            "Motu Patlu: King of Kings\n",
            "Mr Prime Minister\n",
            "Mr. Bhatti on Chutti\n",
            "Mr. Singh Mrs. Mehta\n",
            "Mr. X (2015 film)\n",
            "Mubarakan\n",
            "Mughal-e-Azam\n",
            "Mujhse Fraaandship Karoge\n",
            "Mujhse Shaadi Karogi\n",
            "Mukhbiir\n",
            "Mukkabaaz\n",
            "Mulk (film)\n",
            "Mumbai 125 KM\n",
            "Mumbai Can Dance Saala\n",
            "Mumbai Delhi Mumbai\n",
            "Mumbai Mast Kallander\n",
            "Mumbai Matinee\n",
            "Mumbai Meri Jaan\n",
            "Mumbai Salsa\n",
            "Mumbai Se Aaya Mera Dost\n",
            "Mumbhai Connection\n",
            "Mummy Punjabi\n",
            "Munna Bhai M.B.B.S.\n",
            "Munna Michael\n",
            "Murari the Mad Gentleman\n",
            "Murder (2004 film)\n",
            "Murder 2\n",
            "Murder 3\n",
            "Musafir (2004 film)\n",
            "Muskaan\n",
            "My Birthday Song\n",
            "My Bollywood Bride\n",
            "My Brother…Nikhil\n",
            "My Friend Pinto\n",
            "My Name Is Khan\n",
            "My Wife's Murder\n",
            "NH-8 Road to Nidhivan\n",
            "NH10 (film)\n",
            "Na Ghar Ke Na Ghaat Ke\n",
            "Naach (2004 film)\n",
            "Naam Shabana\n",
            "Naina (2005 film)\n",
            "Naksha\n",
            "Namaste England\n",
            "Namastey London\n",
            "Nanhe Jaisalmer\n",
            "Nanu Ki Jaanu\n",
            "Naqaab\n",
            "Nasha (film)\n",
            "Naughty @ 40\n",
            "Nautanki Saala!\n",
            "Nawabzaade\n",
            "Nayee Padosan\n",
            "Neal 'n' Nikki\n",
            "Neerja\n",
            "Nehlle Pe Dehlla\n",
            "Netaji Subhas Chandra Bose: The Forgotten Hero\n",
            "New York (2009 film)\n",
            "Newton (film)\n",
            "Nil Battey Sannata\n",
            "Nirdosh\n",
            "Nishabd\n",
            "No Entry\n",
            "No One Killed Jessica\n",
            "No Problem (2010 film)\n",
            "No Smoking (2007 film)\n",
            "Noor (film)\n",
            "Not a Love Story (2011 film)\n",
            "Notebook (2019 film)\n",
            "Nothing but Life\n",
            "O Teri\n",
            "OMG – Oh My God!\n",
            "October (2018 film)\n",
            "Oh My God (2008 film)\n",
            "Ok Jaanu\n",
            "Om (2003 film)\n",
            "Om Shanti Om\n",
            "Om-Dar-B-Dar\n",
            "Omerta (film)\n",
            "Omkara (2006 film)\n",
            "Once Upon a Time in Mumbaai\n",
            "Once Upon ay Time in Mumbai Dobaara!\n",
            "One Day: Justice Delivered\n",
            "One Two Three\n",
            "One by Two (2014 film)\n",
            "Out of Control (2003 film)\n",
            "Oye Lucky! Lucky Oye!\n",
            "P Se PM Tak\n",
            "P Se Pyaar F Se Faraar\n",
            "PK (film)\n",
            "PM Narendra Modi\n",
            "Paa (film)\n",
            "Paan Singh Tomar (film)\n",
            "Paanch Ghantey Mien Paanch Crore\n",
            "Paap\n",
            "Paathshaala\n",
            "Padmaavat\n",
            "Padmashree Laloo Prasad Yadav\n",
            "Pagalpanti (2019 film)\n",
            "Page 3 (film)\n",
            "Paheli\n",
            "Paisa Vasool\n",
            "Pal Pal Dil Ke Paas\n",
            "Paltan (film)\n",
            "Panchlait\n",
            "Pankh\n",
            "Paranthe Wali Gali\n",
            "Parched\n",
            "Parineeta (2005 film)\n",
            "Parmanu: The Story of Pokhran\n",
            "Partner (2007 film)\n",
            "Parwana (2003 film)\n",
            "Pataakha\n",
            "Patel Ki Punjabi Shaadi\n",
            "Pati Patni Aur Woh (2019 film)\n",
            "Patiala House (film)\n",
            "Paying Guests\n",
            "Peepli Live\n",
            "Pehchaan: The Face of Truth\n",
            "Phamous\n",
            "Phantom (2015 film)\n",
            "Phas Gaye Re Obama\n",
            "Phata Poster Nikhla Hero\n",
            "Phhir\n",
            "Phillauri (film)\n",
            "Phir Hera Pheri\n",
            "Phir Kabhi\n",
            "Phir Milenge\n",
            "Phobia (2016 film)\n",
            "Phoonk 2\n",
            "Photograph (film)\n",
            "Pihu\n",
            "Piku\n",
            "Pinjar (film)\n",
            "Pink (2016 film)\n",
            "Pizza (2014 film)\n",
            "Plan (film)\n",
            "Players (2012 film)\n",
            "Police Force: An Inside Story\n",
            "Policegiri\n",
            "Popcorn Khao! Mast Ho Jao\n",
            "Poster Boys\n",
            "Praan Jaye Par Shaan Na Jaye\n",
            "Prague (2013 film)\n",
            "Pranaam\n",
            "Prassthanam\n",
            "Prateeksha\n",
            "Prem Kaa Game\n",
            "Prem Ratan Dhan Payo\n",
            "Prince (2010 film)\n",
            "Purani Jeans\n",
            "Pyaar Impossible!\n",
            "Pyaar Ka Punchnama\n",
            "Pyaar Ka Punchnama 2\n",
            "Pyaar Ke Side Effects\n",
            "Pyaar Mein Twist\n",
            "Pyare Mohan\n",
            "Qaidi Band\n",
            "Qarib Qarib Singlle\n",
            "Qayamat: City Under Threat\n",
            "Qissa (film)\n",
            "Queen (2014 film)\n",
            "Quick Gun Murugun\n",
            "Ra.One\n",
            "Raabta (film)\n",
            "Raag Desh (film)\n",
            "Raanjhanaa\n",
            "Raat Gayi Baat Gayi?\n",
            "Raavan\n",
            "Raaz (2002 film)\n",
            "Raaz: Reboot\n",
            "Raaz: The Mystery Continues\n",
            "Raazi\n",
            "Rab Ne Bana Di Jodi\n",
            "Race (2008 film)\n",
            "Race 2\n",
            "Race 3\n",
            "Raees (film)\n",
            "Raghu Romeo\n",
            "Ragini MMS\n",
            "Ragini MMS 2\n",
            "Rahasya\n",
            "Raid (2018 film)\n",
            "Raincoat (film)\n",
            "Raja Bhaiya (film)\n",
            "Raja Natwarlal\n",
            "Rajjo\n",
            "Rajma Chawal\n",
            "Rakht\n",
            "Rakhtbeej\n",
            "Ramaa: The Saviour\n",
            "Ramaiya Vastavaiya\n",
            "Raman Raghav 2.0\n",
            "Ramayana: The Epic\n",
            "Ramji Londonwaley\n",
            "Ramprasad Ki Tehrvi\n",
            "Ranbanka\n",
            "Ranchi Diaries\n",
            "Rang De Basanti\n",
            "Rang Rasiya\n",
            "Rangoon (2017 Hindi film)\n",
            "Rangrezz\n",
            "Rann (film)\n",
            "Raqeeb\n",
            "Rascals (2011 film)\n",
            "Rebellious Flower\n",
            "Red Alert: The War Within\n",
            "Red Swastik\n",
            "Red: The Dark Side\n",
            "Revati (film)\n",
            "Revolver Rani\n",
            "Ribbon (film)\n",
            "Right Here Right Now (film)\n",
            "Right Yaaa Wrong\n",
            "Risk (2007 film)\n",
            "Risknamaa\n",
            "Riyasat (film)\n",
            "Road to Sangam\n",
            "Roadside Romeo\n",
            "Roar: Tigers of the Sundarbans\n",
            "Rock On 2\n",
            "Rock On!!\n",
            "Rocket Singh: Salesman of the Year\n",
            "Rockstar (2011 film)\n",
            "Rocky Handsome\n",
            "Rog\n",
            "Rok Sako To Rok Lo\n",
            "Rokkk\n",
            "Rough Book\n",
            "Roy (film)\n",
            "Rudraksh (film)\n",
            "Rukh (film)\n",
            "Rules: Pyaar Ka Superhit Formula\n",
            "Run (2004 film)\n",
            "Running Shaadi\n",
            "Rush (2012 film)\n",
            "Rustom (film)\n",
            "Saaho\n",
            "Saand Ki Aankh\n",
            "Saankal\n",
            "Saansein\n",
            "Saare Jahaan Se Mehnga\n",
            "Saas Bahu Aur Sensex\n",
            "Saat Uchakkey\n",
            "Saathiya (film)\n",
            "Saawan... The Love Season\n",
            "Saawariya\n",
            "Saaya (2003 film)\n",
            "Sabki Bajegi Band\n",
            "Sachin: A Billion Dreams\n",
            "Sacred Evil – A True Story\n",
            "Sadda Adda\n",
            "Sadiyaan\n",
            "Saheb Biwi Aur Gangster\n",
            "Saheb Biwi Aur Gangster 3\n",
            "Saheb Biwi Aur Gangster Returns\n",
            "Sahi Dhandhe Galat Bande\n",
            "Salaam Namaste\n",
            "Salaam-e-Ishq: A Tribute to Love\n",
            "Sallu Ki Shaadi\n",
            "Samay: When Time Strikes\n",
            "Samrat & Co.\n",
            "Sanam Re\n",
            "Sandwich (2006 film)\n",
            "Sanju\n",
            "Sankat City\n",
            "Santa Banta Pvt Ltd\n",
            "Sarbjit (film)\n",
            "Sarhad Paar\n",
            "Sarkar (2005 film)\n",
            "Sarkar 3\n",
            "Sarkar Raj\n",
            "Satellite Shankar\n",
            "Satrangee Parachute\n",
            "Satta (film)\n",
            "Satya 2\n",
            "Satyagraha (film)\n",
            "Satyameva Jayate (2018 film)\n",
            "Say Salaam India\n",
            "Second Hand Husband\n",
            "Secret Superstar\n",
            "Section 375\n",
            "Sehar\n",
            "Setters (film)\n",
            "Shaadi Ka Laddoo\n",
            "Shaadi Karke Phas Gaya Yaar\n",
            "Shaadi Ke Side Effects\n",
            "Shaadi Mein Zaroor Aana\n",
            "Shaadi No. 1\n",
            "Shaadi Se Pehle\n",
            "Shaandaar\n",
            "Shaapit\n",
            "Shab (film)\n",
            "Shabd (film)\n",
            "Shabnam Mausi\n",
            "Shabri\n",
            "Shagird (2011 film)\n",
            "Shahid (film)\n",
            "Shaitan (film)\n",
            "Shakalaka Boom Boom\n",
            "Shamitabh\n",
            "Shanghai (2012 film)\n",
            "Sharafat Gayi Tel Lene\n",
            "Shart: The Challenge\n",
            "Sheen (film)\n",
            "Sheesha (2005 film)\n",
            "Shikhar (film)\n",
            "Ship of Theseus (film)\n",
            "Shirin Farhad Ki Toh Nikal Padi\n",
            "Shiva (2006 film)\n",
            "Shivaay\n",
            "Sholay\n",
            "Shootout at Lokhandwala\n",
            "Shor in the City\n",
            "Shorgul\n",
            "Shortcut Romeo\n",
            "Shortcut Safari\n",
            "Shortkut\n",
            "Showbiz (film)\n",
            "Shubh Mangal Saavdhan\n",
            "Shuddh Desi Romance\n",
            "Shukriya: Till Death Do Us Apart\n",
            "Siddharth (2013 film)\n",
            "Sikandar (2009 film)\n",
            "Silsiilay\n",
            "Simmba\n",
            "Simran (film)\n",
            "Singh Is Bliing\n",
            "Singh Is Kinng\n",
            "Singh Saab the Great\n",
            "Singham\n",
            "Singham Returns\n",
            "Sirf (film)\n",
            "Sixteen (2013 Indian film)\n",
            "Soch Lo\n",
            "Socha Na Tha\n",
            "Son of Sardaar\n",
            "Sonali Cable\n",
            "Sonchiriya\n",
            "Soni (film)\n",
            "Sons of Ram\n",
            "Sonu Ke Titu Ki Sweety\n",
            "Sooper Se Ooper\n",
            "Sorry Bhai!\n",
            "Sorry Daddy\n",
            "Souten: The Other Woman\n",
            "Spark (2014 film)\n",
            "Special 26\n",
            "Speed (2007 film)\n",
            "Sssshhh...\n",
            "Ssukh\n",
            "Stanley Ka Dabba\n",
            "Station (2014 film)\n",
            "Staying Alive (2012 film)\n",
            "Strangers (2007 Hindi film)\n",
            "Stree (2018 film)\n",
            "Striker (2010 film)\n",
            "Strings of Passion\n",
            "Student of the Year\n",
            "Student of the Year 2\n",
            "Stumped (film)\n",
            "Sui Dhaaga\n",
            "Sukhmani: Hope for Life\n",
            "Sulemani Keeda\n",
            "Sultan (2016 film)\n",
            "Summer 2007\n",
            "Sunday (2008 film)\n",
            "Sunglass (film)\n",
            "Suno Sasurjee\n",
            "Super 30 (film)\n",
            "Super Model (film)\n",
            "Super Nani\n",
            "Swades\n",
            "Swami (2007 film)\n",
            "Sweetiee Weds NRI\n",
            "Ta Ra Rum Pum\n",
            "Taare Zameen Par\n",
            "Taarzan: The Wonder Car\n",
            "Table No. 21\n",
            "Tahaan\n",
            "Taj Mahal: An Eternal Love Story\n",
            "Take It Easy (2015 film)\n",
            "Talaash: The Answer Lies Within\n",
            "Talaash: The Hunt Begins...\n",
            "Talvar (film)\n",
            "Tamanchey\n",
            "Tango Charlie\n",
            "Tanu Weds Manu\n",
            "Tanu Weds Manu: Returns\n",
            "Tanu Weds Manu: Returns\n",
            "Tashan (film)\n",
            "Tathastu\n",
            "Taxi No. 9211\n",
            "Te3n\n",
            "Teen Patti (film)\n",
            "Teen Thay Bhai\n",
            "Tees Maar Khan (2010 film)\n",
            "Teesri Aankh: The Hidden Camera\n",
            "Tehzeeb (2003 film)\n",
            "Tell Me O Kkhuda\n",
            "Tera Kya Hoga Johnny\n",
            "Tere Bin Laden\n",
            "Tere Bin Laden: Dead or Alive\n",
            "Tere Mere Phere\n",
            "Tere Naal Love Ho Gaya\n",
            "Tere Naam\n",
            "Teri Meri Kahaani (film)\n",
            "Tevar\n",
            "Tezz\n",
            "Thackeray (film)\n",
            "Thank You (2011 film)\n",
            "Thanks Maa\n",
            "The Accidental Prime Minister (film)\n",
            "The Blue Umbrella (2005 film)\n",
            "The Blueberry Hunt\n",
            "The Bypass\n",
            "The Dirty Picture\n",
            "The Film\n",
            "The Film Emotional Atyachar\n",
            "The Final Exit\n",
            "The Ghazi Attack\n",
            "The Hero: Love Story of a Spy\n",
            "The Japanese Wife\n",
            "The Journey of Karma\n",
            "The Killer (2006 film)\n",
            "The Last Lear\n",
            "The Lunchbox\n",
            "The Namesake (film)\n",
            "The Pink Mirror\n",
            "The Shaukeens\n",
            "The Silent Heroes\n",
            "The Sky Is Pink\n",
            "The Stoneman Murders\n",
            "The Tashkent Files\n",
            "The Train (2007 film)\n",
            "The Xposé\n",
            "The Zoya Factor (film)\n",
            "Thoda Lutf Thoda Ishq\n",
            "Thoda Pyaar Thoda Magic\n",
            "Thoda Tum Badlo Thoda Hum\n",
            "Thodi Life Thoda Magic\n",
            "Thugs of Hindostan\n",
            "Tiger Zinda Hai\n",
            "Titli (2014 film)\n",
            "Titoo MBA\n",
            "Toh Baat Pakki!\n",
            "Toilet: Ek Prem Katha\n",
            "Tom Dick and Harry (2006 film)\n",
            "Toonpur Ka Super Hero\n",
            "Total Dhamaal\n",
            "Total Siyapaa\n",
            "Traffic (2016 film)\n",
            "Traffic Signal (film)\n",
            "Trapped (2016 Hindi film)\n",
            "Trump Card (film)\n",
            "Tubelight (2017 Hindi film)\n",
            "Tujhe Meri Kasam\n",
            "Tulsi (film)\n",
            "Tum Bin II\n",
            "Tum Mile\n",
            "Tum Milo Toh Sahi\n",
            "Tumbbad\n",
            "Tumhari Sulu\n",
            "Tumsa Nahin Dekha: A Love Story\n",
            "Turning 30\n",
            "U Me Aur Hum\n",
            "U R My Jaan\n",
            "Udaan (2010 film)\n",
            "Udta Punjab\n",
            "Ugly (film)\n",
            "Ujda Chaman\n",
            "Umar (film)\n",
            "Umrao Jaan (2006 film)\n",
            "Umrika\n",
            "Ungli\n",
            "Union Leader (film)\n",
            "United Six\n",
            "Uri: The Surgical Strike\n",
            "Utt Pataang\n",
            "Utthaan\n",
            "Uvaa\n",
            "Vaada (film)\n",
            "Vaada Raha\n",
            "Vaah! Life Ho Toh Aisi!\n",
            "Vaastu Shastra (film)\n",
            "Valentine's Night\n",
            "Veer (2010 film)\n",
            "Veer-Zaara\n",
            "Veerappan (2016 film)\n",
            "Veerey Ki Wedding\n",
            "Via Darjeeling\n",
            "Viceroy's House (film)\n",
            "Vicky Donor\n",
            "Victory (2009 film)\n",
            "Vidyaarthi\n",
            "Viruddh... Family Comes First\n",
            "Vishwaroopam\n",
            "Vivah\n",
            "Vodka Diaries\n",
            "W (2014 film)\n",
            "Waarrior Savitri\n",
            "Wafa: A Deadly Love Story\n",
            "Wah Taj\n",
            "Waisa Bhi Hota Hai Part II\n",
            "Waiting (2015 film)\n",
            "Wajah Tum Ho\n",
            "Wake Up India\n",
            "Wake Up Sid\n",
            "Wanted (2009 film)\n",
            "Waqt: The Race Against Time\n",
            "War Chhod Na Yaar\n",
            "Waris Shah: Ishq Daa Waaris\n",
            "Wedding Anniversary\n",
            "Wedding Pullav\n",
            "Welcome (2007 film)\n",
            "Welcome 2 Karachi\n",
            "Welcome Back (film)\n",
            "Welcome to Sajjanpur\n",
            "Well Done Abba\n",
            "What the Fish\n",
            "What's Your Raashee?\n",
            "Why Cheat India\n",
            "Woh Lamhe...\n",
            "Woodstock Villa\n",
            "Xcuse Me\n",
            "Ya Rab\n",
            "Yaaram (2019 film)\n",
            "Yadvi – The Dignified Princess\n",
            "Yakeen (2005 film)\n",
            "Yamla Pagla Deewana\n",
            "Yamla Pagla Deewana: Phir Se\n",
            "Yatra (2007 film)\n",
            "Yeh Dil\n",
            "Yeh Dooriyan\n",
            "Yeh Hai Bakrapur\n",
            "Yeh Hai India\n",
            "Yeh Jawaani Hai Deewani\n",
            "Yeh Khula Aasmaan\n",
            "Yeh Lamhe Judaai Ke\n",
            "Yeh Mera India\n",
            "Yeh Saali Aashiqui\n",
            "Youngistaan\n",
            "Yun Hota Toh Kya Hota\n",
            "Yuva\n",
            "Yuvvraaj\n",
            "Zamaanat\n",
            "Zameen (2003 film)\n",
            "Zameer: The Fire Within\n",
            "Zed Plus\n",
            "Zeher\n",
            "Zero (2018 film)\n",
            "Zid (2014 film)\n",
            "Zila Ghaziabad\n",
            "Zinda (film)\n",
            "Zindaggi Rocks\n",
            "Zindagi 50-50\n",
            "Zindagi Na Milegi Dobara\n",
            "Zindagi Tere Naam\n",
            "Zokkomon\n",
            "Zor Lagaa Ke...Haiya!\n",
            "2 states(2014 film)]\n"
          ]
        }
      ]
    },
    {
      "cell_type": "code",
      "source": [
        "#Arithematic operation (specialy for broadcasting)\n",
        "marks_series"
      ],
      "metadata": {
        "colab": {
          "base_uri": "https://localhost:8080/"
        },
        "id": "ERJmBPwQcy4_",
        "outputId": "c3aee2ed-2625-49c8-fdf7-6eaeb14c695a"
      },
      "execution_count": 128,
      "outputs": [
        {
          "output_type": "execute_result",
          "data": {
            "text/plain": [
              "math          70\n",
              "nepali       100\n",
              "physics       80\n",
              "chemistry     60\n",
              "sst           90\n",
              "dtype: int64"
            ]
          },
          "metadata": {},
          "execution_count": 128
        }
      ]
    },
    {
      "cell_type": "code",
      "source": [
        "#kati marks le full marks aayena?\n",
        "100> marks_series"
      ],
      "metadata": {
        "colab": {
          "base_uri": "https://localhost:8080/"
        },
        "id": "KdoA6-21c9Sj",
        "outputId": "7f85cf61-4b35-424e-8cb3-30781ee79fc4"
      },
      "execution_count": 133,
      "outputs": [
        {
          "output_type": "execute_result",
          "data": {
            "text/plain": [
              "math          True\n",
              "nepali       False\n",
              "physics       True\n",
              "chemistry     True\n",
              "sst           True\n",
              "dtype: bool"
            ]
          },
          "metadata": {},
          "execution_count": 133
        }
      ]
    },
    {
      "cell_type": "code",
      "source": [
        "vk >= 50"
      ],
      "metadata": {
        "colab": {
          "base_uri": "https://localhost:8080/"
        },
        "id": "iUXOB8b6dNyp",
        "outputId": "6020f3dd-c93f-4e24-b3cd-77ffd76ff90b"
      },
      "execution_count": 136,
      "outputs": [
        {
          "output_type": "execute_result",
          "data": {
            "text/plain": [
              "match_no\n",
              "1      False\n",
              "2      False\n",
              "3      False\n",
              "4      False\n",
              "5      False\n",
              "       ...  \n",
              "211    False\n",
              "212    False\n",
              "213     True\n",
              "214    False\n",
              "215    False\n",
              "Name: runs, Length: 215, dtype: bool"
            ]
          },
          "metadata": {},
          "execution_count": 136
        }
      ]
    },
    {
      "cell_type": "code",
      "source": [
        "#boolean  indexing on series\n",
        "#find no of 50s and 100s scored by virat kholi\n",
        "vk >= 50"
      ],
      "metadata": {
        "colab": {
          "base_uri": "https://localhost:8080/"
        },
        "id": "OFkftLiEdiz5",
        "outputId": "b3bbcd0e-822c-441d-e9c2-c6875907dde7"
      },
      "execution_count": 137,
      "outputs": [
        {
          "output_type": "execute_result",
          "data": {
            "text/plain": [
              "match_no\n",
              "1      False\n",
              "2      False\n",
              "3      False\n",
              "4      False\n",
              "5      False\n",
              "       ...  \n",
              "211    False\n",
              "212    False\n",
              "213     True\n",
              "214    False\n",
              "215    False\n",
              "Name: runs, Length: 215, dtype: bool"
            ]
          },
          "metadata": {},
          "execution_count": 137
        }
      ]
    },
    {
      "cell_type": "code",
      "source": [
        "vk [vk >= 50].size"
      ],
      "metadata": {
        "colab": {
          "base_uri": "https://localhost:8080/"
        },
        "id": "i-hQ5dLkd1i6",
        "outputId": "94ea64c7-7f5d-4d8f-f074-2058f14b9440"
      },
      "execution_count": 138,
      "outputs": [
        {
          "output_type": "execute_result",
          "data": {
            "text/plain": [
              "50"
            ]
          },
          "metadata": {},
          "execution_count": 138
        }
      ]
    },
    {
      "cell_type": "code",
      "source": [
        "#find the number of ducks\n",
        "vk[vk == 0].size"
      ],
      "metadata": {
        "colab": {
          "base_uri": "https://localhost:8080/"
        },
        "id": "011deavVd7dS",
        "outputId": "7ed1ce77-1fea-42b9-9963-45fe656b0828"
      },
      "execution_count": 139,
      "outputs": [
        {
          "output_type": "execute_result",
          "data": {
            "text/plain": [
              "9"
            ]
          },
          "metadata": {},
          "execution_count": 139
        }
      ]
    },
    {
      "cell_type": "code",
      "source": [
        "#count no of days whwn sir ji got 200 subs\n",
        "subs[subs > 200].size"
      ],
      "metadata": {
        "colab": {
          "base_uri": "https://localhost:8080/"
        },
        "id": "Mm9zxa37eDOH",
        "outputId": "f7a998d7-10fb-455d-bab1-a9b022e5c51c"
      },
      "execution_count": 141,
      "outputs": [
        {
          "output_type": "execute_result",
          "data": {
            "text/plain": [
              "59"
            ]
          },
          "metadata": {},
          "execution_count": 141
        }
      ]
    },
    {
      "cell_type": "code",
      "source": [
        "#finf the actors who have done more than 20 movies\n",
        "bolly.value_counts()\n",
        "num_bolly = bolly.values_counts()\n",
        "num_bolly[num_bolly > 20 ]"
      ],
      "metadata": {
        "colab": {
          "base_uri": "https://localhost:8080/",
          "height": 361
        },
        "id": "G6Lg9R8JeOPC",
        "outputId": "0f543140-a2bf-47c4-e27f-58634f02942d"
      },
      "execution_count": 147,
      "outputs": [
        {
          "output_type": "error",
          "ename": "AttributeError",
          "evalue": "ignored",
          "traceback": [
            "\u001b[0;31m---------------------------------------------------------------------------\u001b[0m",
            "\u001b[0;31mAttributeError\u001b[0m                            Traceback (most recent call last)",
            "\u001b[0;32m<ipython-input-147-aab40e00ad59>\u001b[0m in \u001b[0;36m<cell line: 3>\u001b[0;34m()\u001b[0m\n\u001b[1;32m      1\u001b[0m \u001b[0;31m#finf the actors who have done more than 20 movies\u001b[0m\u001b[0;34m\u001b[0m\u001b[0;34m\u001b[0m\u001b[0m\n\u001b[1;32m      2\u001b[0m \u001b[0mbolly\u001b[0m\u001b[0;34m.\u001b[0m\u001b[0mvalue_counts\u001b[0m\u001b[0;34m(\u001b[0m\u001b[0;34m)\u001b[0m\u001b[0;34m\u001b[0m\u001b[0;34m\u001b[0m\u001b[0m\n\u001b[0;32m----> 3\u001b[0;31m \u001b[0mnum_bolly\u001b[0m \u001b[0;34m=\u001b[0m \u001b[0mbolly\u001b[0m\u001b[0;34m.\u001b[0m\u001b[0mvalues_counts\u001b[0m\u001b[0;34m(\u001b[0m\u001b[0;34m)\u001b[0m\u001b[0;34m\u001b[0m\u001b[0;34m\u001b[0m\u001b[0m\n\u001b[0m\u001b[1;32m      4\u001b[0m \u001b[0mnum_bolly\u001b[0m\u001b[0;34m[\u001b[0m\u001b[0mnum_bolly\u001b[0m \u001b[0;34m>\u001b[0m \u001b[0;36m20\u001b[0m \u001b[0;34m]\u001b[0m\u001b[0;34m\u001b[0m\u001b[0;34m\u001b[0m\u001b[0m\n",
            "\u001b[0;32m/usr/local/lib/python3.10/dist-packages/pandas/core/generic.py\u001b[0m in \u001b[0;36m__getattr__\u001b[0;34m(self, name)\u001b[0m\n\u001b[1;32m   5900\u001b[0m         ):\n\u001b[1;32m   5901\u001b[0m             \u001b[0;32mreturn\u001b[0m \u001b[0mself\u001b[0m\u001b[0;34m[\u001b[0m\u001b[0mname\u001b[0m\u001b[0;34m]\u001b[0m\u001b[0;34m\u001b[0m\u001b[0;34m\u001b[0m\u001b[0m\n\u001b[0;32m-> 5902\u001b[0;31m         \u001b[0;32mreturn\u001b[0m \u001b[0mobject\u001b[0m\u001b[0;34m.\u001b[0m\u001b[0m__getattribute__\u001b[0m\u001b[0;34m(\u001b[0m\u001b[0mself\u001b[0m\u001b[0;34m,\u001b[0m \u001b[0mname\u001b[0m\u001b[0;34m)\u001b[0m\u001b[0;34m\u001b[0m\u001b[0;34m\u001b[0m\u001b[0m\n\u001b[0m\u001b[1;32m   5903\u001b[0m \u001b[0;34m\u001b[0m\u001b[0m\n\u001b[1;32m   5904\u001b[0m     \u001b[0;32mdef\u001b[0m \u001b[0m__setattr__\u001b[0m\u001b[0;34m(\u001b[0m\u001b[0mself\u001b[0m\u001b[0;34m,\u001b[0m \u001b[0mname\u001b[0m\u001b[0;34m:\u001b[0m \u001b[0mstr\u001b[0m\u001b[0;34m,\u001b[0m \u001b[0mvalue\u001b[0m\u001b[0;34m)\u001b[0m \u001b[0;34m->\u001b[0m \u001b[0;32mNone\u001b[0m\u001b[0;34m:\u001b[0m\u001b[0;34m\u001b[0m\u001b[0;34m\u001b[0m\u001b[0m\n",
            "\u001b[0;31mAttributeError\u001b[0m: 'Series' object has no attribute 'values_counts'"
          ]
        }
      ]
    },
    {
      "cell_type": "code",
      "source": [
        "#plotinf graphs on\n",
        "#powerful that it can plots a graph as well\n",
        "#365 gained graphs day by day\n",
        "subs.plot()\n",
        "#2D"
      ],
      "metadata": {
        "colab": {
          "base_uri": "https://localhost:8080/",
          "height": 448
        },
        "id": "7abdNZ1weeVf",
        "outputId": "9e2ecf4f-a055-40ca-eb59-1533e1eca744"
      },
      "execution_count": 148,
      "outputs": [
        {
          "output_type": "execute_result",
          "data": {
            "text/plain": [
              "<Axes: >"
            ]
          },
          "metadata": {},
          "execution_count": 148
        },
        {
          "output_type": "display_data",
          "data": {
            "text/plain": [
              "<Figure size 640x480 with 1 Axes>"
            ],
            "image/png": "[encoded data removed]"
          },
          "metadata": {}
        }
      ]
    },
    {
      "cell_type": "code",
      "source": [
        "bolly.value_count()"
      ],
      "metadata": {
        "colab": {
          "base_uri": "https://localhost:8080/",
          "height": 307
        },
        "id": "78MDUv4sfhJV",
        "outputId": "cd167e3e-0227-4ae6-d0c3-bd42faeed2ba"
      },
      "execution_count": 149,
      "outputs": [
        {
          "output_type": "error",
          "ename": "AttributeError",
          "evalue": "ignored",
          "traceback": [
            "\u001b[0;31m---------------------------------------------------------------------------\u001b[0m",
            "\u001b[0;31mAttributeError\u001b[0m                            Traceback (most recent call last)",
            "\u001b[0;32m<ipython-input-149-5fd090be127f>\u001b[0m in \u001b[0;36m<cell line: 1>\u001b[0;34m()\u001b[0m\n\u001b[0;32m----> 1\u001b[0;31m \u001b[0mbolly\u001b[0m\u001b[0;34m.\u001b[0m\u001b[0mvalue_count\u001b[0m\u001b[0;34m(\u001b[0m\u001b[0;34m)\u001b[0m\u001b[0;34m\u001b[0m\u001b[0;34m\u001b[0m\u001b[0m\n\u001b[0m",
            "\u001b[0;32m/usr/local/lib/python3.10/dist-packages/pandas/core/generic.py\u001b[0m in \u001b[0;36m__getattr__\u001b[0;34m(self, name)\u001b[0m\n\u001b[1;32m   5900\u001b[0m         ):\n\u001b[1;32m   5901\u001b[0m             \u001b[0;32mreturn\u001b[0m \u001b[0mself\u001b[0m\u001b[0;34m[\u001b[0m\u001b[0mname\u001b[0m\u001b[0;34m]\u001b[0m\u001b[0;34m\u001b[0m\u001b[0;34m\u001b[0m\u001b[0m\n\u001b[0;32m-> 5902\u001b[0;31m         \u001b[0;32mreturn\u001b[0m \u001b[0mobject\u001b[0m\u001b[0;34m.\u001b[0m\u001b[0m__getattribute__\u001b[0m\u001b[0;34m(\u001b[0m\u001b[0mself\u001b[0m\u001b[0;34m,\u001b[0m \u001b[0mname\u001b[0m\u001b[0;34m)\u001b[0m\u001b[0;34m\u001b[0m\u001b[0;34m\u001b[0m\u001b[0m\n\u001b[0m\u001b[1;32m   5903\u001b[0m \u001b[0;34m\u001b[0m\u001b[0m\n\u001b[1;32m   5904\u001b[0m     \u001b[0;32mdef\u001b[0m \u001b[0m__setattr__\u001b[0m\u001b[0;34m(\u001b[0m\u001b[0mself\u001b[0m\u001b[0;34m,\u001b[0m \u001b[0mname\u001b[0m\u001b[0;34m:\u001b[0m \u001b[0mstr\u001b[0m\u001b[0;34m,\u001b[0m \u001b[0mvalue\u001b[0m\u001b[0;34m)\u001b[0m \u001b[0;34m->\u001b[0m \u001b[0;32mNone\u001b[0m\u001b[0;34m:\u001b[0m\u001b[0;34m\u001b[0m\u001b[0;34m\u001b[0m\u001b[0m\n",
            "\u001b[0;31mAttributeError\u001b[0m: 'Series' object has no attribute 'value_count'"
          ]
        }
      ]
    },
    {
      "cell_type": "code",
      "source": [
        "bolly.value_count.head(20).plot(kind = 'bar')"
      ],
      "metadata": {
        "colab": {
          "base_uri": "https://localhost:8080/",
          "height": 307
        },
        "id": "K_jfsAdmfsJb",
        "outputId": "bb40c50b-2dd3-41b3-8b89-64f685b4d215"
      },
      "execution_count": 152,
      "outputs": [
        {
          "output_type": "error",
          "ename": "AttributeError",
          "evalue": "ignored",
          "traceback": [
            "\u001b[0;31m---------------------------------------------------------------------------\u001b[0m",
            "\u001b[0;31mAttributeError\u001b[0m                            Traceback (most recent call last)",
            "\u001b[0;32m<ipython-input-152-29a741550831>\u001b[0m in \u001b[0;36m<cell line: 1>\u001b[0;34m()\u001b[0m\n\u001b[0;32m----> 1\u001b[0;31m \u001b[0mvk\u001b[0m\u001b[0;34m.\u001b[0m\u001b[0mead\u001b[0m\u001b[0;34m(\u001b[0m\u001b[0;36m20\u001b[0m\u001b[0;34m)\u001b[0m\u001b[0;34m.\u001b[0m\u001b[0mplot\u001b[0m\u001b[0;34m(\u001b[0m\u001b[0mkind\u001b[0m \u001b[0;34m=\u001b[0m \u001b[0;34m'bar'\u001b[0m\u001b[0;34m)\u001b[0m\u001b[0;34m\u001b[0m\u001b[0;34m\u001b[0m\u001b[0m\n\u001b[0m",
            "\u001b[0;32m/usr/local/lib/python3.10/dist-packages/pandas/core/generic.py\u001b[0m in \u001b[0;36m__getattr__\u001b[0;34m(self, name)\u001b[0m\n\u001b[1;32m   5900\u001b[0m         ):\n\u001b[1;32m   5901\u001b[0m             \u001b[0;32mreturn\u001b[0m \u001b[0mself\u001b[0m\u001b[0;34m[\u001b[0m\u001b[0mname\u001b[0m\u001b[0;34m]\u001b[0m\u001b[0;34m\u001b[0m\u001b[0;34m\u001b[0m\u001b[0m\n\u001b[0;32m-> 5902\u001b[0;31m         \u001b[0;32mreturn\u001b[0m \u001b[0mobject\u001b[0m\u001b[0;34m.\u001b[0m\u001b[0m__getattribute__\u001b[0m\u001b[0;34m(\u001b[0m\u001b[0mself\u001b[0m\u001b[0;34m,\u001b[0m \u001b[0mname\u001b[0m\u001b[0;34m)\u001b[0m\u001b[0;34m\u001b[0m\u001b[0;34m\u001b[0m\u001b[0m\n\u001b[0m\u001b[1;32m   5903\u001b[0m \u001b[0;34m\u001b[0m\u001b[0m\n\u001b[1;32m   5904\u001b[0m     \u001b[0;32mdef\u001b[0m \u001b[0m__setattr__\u001b[0m\u001b[0;34m(\u001b[0m\u001b[0mself\u001b[0m\u001b[0;34m,\u001b[0m \u001b[0mname\u001b[0m\u001b[0;34m:\u001b[0m \u001b[0mstr\u001b[0m\u001b[0;34m,\u001b[0m \u001b[0mvalue\u001b[0m\u001b[0;34m)\u001b[0m \u001b[0;34m->\u001b[0m \u001b[0;32mNone\u001b[0m\u001b[0;34m:\u001b[0m\u001b[0;34m\u001b[0m\u001b[0;34m\u001b[0m\u001b[0m\n",
            "\u001b[0;31mAttributeError\u001b[0m: 'Series' object has no attribute 'ead'"
          ]
        }
      ]
    },
    {
      "cell_type": "code",
      "source": [],
      "metadata": {
        "id": "4kirKs6vf4iy"
      },
      "execution_count": null,
      "outputs": []
    }
  ]
}