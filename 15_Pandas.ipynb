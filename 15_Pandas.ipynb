{
  "nbformat": 4,
  "nbformat_minor": 0,
  "metadata": {
    "colab": {
      "provenance": [],
      "authorship_tag": "ABX9TyNSRt4ziGtHaFglUfu3x9Jm",
      "include_colab_link": true
    },
    "kernelspec": {
      "name": "python3",
      "display_name": "Python 3"
    },
    "language_info": {
      "name": "python"
    }
  },
  "cells": [
    {
      "cell_type": "markdown",
      "metadata": {
        "id": "view-in-github",
        "colab_type": "text"
      },
      "source": [
        "<a href=\"https://colab.research.google.com/github/Roshanshres/pandas/blob/main/15_Pandas.ipynb\" target=\"_parent\"><img src=\"https://colab.research.google.com/assets/colab-badge.svg\" alt=\"Open In Colab\"/></a>"
      ]
    },
    {
      "cell_type": "code",
      "execution_count": null,
      "metadata": {
        "id": "t835vPl-2mXw"
      },
      "outputs": [],
      "source": []
    },
    {
      "cell_type": "markdown",
      "source": [
        "Pandas is fast powwerful flexible, and easy to use open source data analysis and manipulation tool, built on the top of the python programming language."
      ],
      "metadata": {
        "id": "X0LUMpGN2sed"
      }
    },
    {
      "cell_type": "markdown",
      "source": [
        "PANDA series are like column in table 1-D array holding data of any type."
      ],
      "metadata": {
        "id": "Q3HMR0_52_lA"
      }
    },
    {
      "cell_type": "markdown",
      "source": [
        "Types of objects\n",
        "\n",
        "\n",
        "1.   Series\n",
        "2.   Dataframe\n",
        "\n"
      ],
      "metadata": {
        "id": "SNPN_bAKONYJ"
      }
    },
    {
      "cell_type": "code",
      "source": [
        "#importing pandas\n",
        "import numpy as np\n",
        "import pandas as pd\n",
        "#series\n",
        "# create array\n",
        "country = ['India', 'Nepal', 'USA', 'SriLanka', 'UK']\n",
        "pd.Series(country)"
      ],
      "metadata": {
        "id": "PfiaHrSl2_Bh",
        "colab": {
          "base_uri": "https://localhost:8080/"
        },
        "outputId": "5d2a749a-a49a-4208-efbd-16150ef00fdf"
      },
      "execution_count": 4,
      "outputs": [
        {
          "output_type": "execute_result",
          "data": {
            "text/plain": [
              "0       India\n",
              "1       Nepal\n",
              "2         USA\n",
              "3    SriLanka\n",
              "4          UK\n",
              "dtype: object"
            ]
          },
          "metadata": {},
          "execution_count": 4
        }
      ]
    },
    {
      "cell_type": "code",
      "source": [
        "runs = [13,24,56,78,99,123,124]\n",
        "pd.Series(runs)"
      ],
      "metadata": {
        "colab": {
          "base_uri": "https://localhost:8080/"
        },
        "id": "S50N4qKHPjiq",
        "outputId": "ba00e6eb-95d8-4608-ed62-90b95b7fa7f4"
      },
      "execution_count": 5,
      "outputs": [
        {
          "output_type": "execute_result",
          "data": {
            "text/plain": [
              "0     13\n",
              "1     24\n",
              "2     56\n",
              "3     78\n",
              "4     99\n",
              "5    123\n",
              "6    124\n",
              "dtype: int64"
            ]
          },
          "metadata": {},
          "execution_count": 5
        }
      ]
    },
    {
      "cell_type": "code",
      "source": [
        "#custom index\n",
        "marks = [90,80,30,40]\n",
        "subject =   ['Physics','math', 'Biology', 'Nepal']\n",
        "pd.Series(marks, index= subject)"
      ],
      "metadata": {
        "colab": {
          "base_uri": "https://localhost:8080/"
        },
        "id": "pKt5FTcARb-b",
        "outputId": "8f70b1b2-2020-4890-d6a1-21d229d72a33"
      },
      "execution_count": 19,
      "outputs": [
        {
          "output_type": "execute_result",
          "data": {
            "text/plain": [
              "Physics    90\n",
              "math       80\n",
              "Biology    30\n",
              "Nepal      40\n",
              "dtype: int64"
            ]
          },
          "metadata": {},
          "execution_count": 19
        }
      ]
    },
    {
      "cell_type": "code",
      "source": [
        "#to give names\n",
        "pd.Series(marks,index = subject, name ='Roshan')\n",
        "#marks = pd.Series(index = subject, name = 'Roshan')"
      ],
      "metadata": {
        "colab": {
          "base_uri": "https://localhost:8080/"
        },
        "id": "aPGpkHI4R7GM",
        "outputId": "3421d5c6-f351-4bd0-f56c-2d6396890790"
      },
      "execution_count": 20,
      "outputs": [
        {
          "output_type": "execute_result",
          "data": {
            "text/plain": [
              "Physics    90\n",
              "math       80\n",
              "Biology    30\n",
              "Nepal      40\n",
              "Name: Roshan, dtype: int64"
            ]
          },
          "metadata": {},
          "execution_count": 20
        }
      ]
    },
    {
      "cell_type": "code",
      "source": [
        "marks = pd.Series(index = subject, name = 'Roshan')\n",
        "marks"
      ],
      "metadata": {
        "colab": {
          "base_uri": "https://localhost:8080/"
        },
        "id": "Ccb2Lzm3UHmT",
        "outputId": "487d580d-d17a-4d7c-a956-23f9f01ac321"
      },
      "execution_count": 21,
      "outputs": [
        {
          "output_type": "stream",
          "name": "stderr",
          "text": [
            "<ipython-input-21-9c2fa23c53ef>:1: FutureWarning: The default dtype for empty Series will be 'object' instead of 'float64' in a future version. Specify a dtype explicitly to silence this warning.\n",
            "  marks = pd.Series(index = subject, name = 'Roshan')\n"
          ]
        },
        {
          "output_type": "execute_result",
          "data": {
            "text/plain": [
              "Physics   NaN\n",
              "math      NaN\n",
              "Biology   NaN\n",
              "Nepal     NaN\n",
              "Name: Roshan, dtype: float64"
            ]
          },
          "metadata": {},
          "execution_count": 21
        }
      ]
    },
    {
      "cell_type": "code",
      "source": [
        "#series from dict\n",
        "marks = {\n",
        "    'math':70,\n",
        "    'nepali':90,\n",
        "    'physics':80,\n",
        "    'chemistry': 60\n",
        "}\n",
        "marks_series = pd.Series(marks)\n",
        "marks"
      ],
      "metadata": {
        "colab": {
          "base_uri": "https://localhost:8080/"
        },
        "id": "Jdum_TUTUgRf",
        "outputId": "a09f0822-7413-40be-dfd4-71b7a9795238"
      },
      "execution_count": 24,
      "outputs": [
        {
          "output_type": "execute_result",
          "data": {
            "text/plain": [
              "{'math': 70, 'nepali': 90, 'physics': 80, 'chemistry': 60}"
            ]
          },
          "metadata": {},
          "execution_count": 24
        }
      ]
    },
    {
      "cell_type": "code",
      "source": [
        "pd.Series(marks, name = 'roshan')"
      ],
      "metadata": {
        "colab": {
          "base_uri": "https://localhost:8080/"
        },
        "id": "kipX9GGDVYqk",
        "outputId": "f47cb8c2-3203-42f7-cc00-d68a75a457f5"
      },
      "execution_count": 27,
      "outputs": [
        {
          "output_type": "execute_result",
          "data": {
            "text/plain": [
              "math         70\n",
              "nepali       90\n",
              "physics      80\n",
              "chemistry    60\n",
              "Name: roshan, dtype: int64"
            ]
          },
          "metadata": {},
          "execution_count": 27
        }
      ]
    },
    {
      "cell_type": "code",
      "source": [],
      "metadata": {
        "id": "27_u6MIfjJcI"
      },
      "execution_count": null,
      "outputs": []
    },
    {
      "cell_type": "code",
      "source": [],
      "metadata": {
        "id": "Rq8z1VNpnrZv"
      },
      "execution_count": null,
      "outputs": []
    },
    {
      "cell_type": "markdown",
      "source": [
        "SERIESE USING READ_CSV\n"
      ],
      "metadata": {
        "id": "PeHpsKitntSh"
      }
    },
    {
      "cell_type": "code",
      "source": [
        "# pd.read_csv('/content/subs.csv')\n",
        "#this is not in series to see type we do\n",
        "type(pd.read_csv('/content/subs.csv'))"
      ],
      "metadata": {
        "colab": {
          "base_uri": "https://localhost:8080/"
        },
        "id": "UyzGLmVXn1Cf",
        "outputId": "0d026296-6c93-4536-daf4-99ff9ca6abcf"
      },
      "execution_count": 29,
      "outputs": [
        {
          "output_type": "execute_result",
          "data": {
            "text/plain": [
              "pandas.core.frame.DataFrame"
            ]
          },
          "metadata": {},
          "execution_count": 29
        }
      ]
    },
    {
      "cell_type": "code",
      "source": [
        "#to convert into serires\n",
        "pd.read_csv('/content/subs.csv', squeeze =True)"
      ],
      "metadata": {
        "colab": {
          "base_uri": "https://localhost:8080/"
        },
        "id": "dQqQETCroZlT",
        "outputId": "72ef250b-cfed-4eeb-f6be-62f3801504b5"
      },
      "execution_count": 31,
      "outputs": [
        {
          "output_type": "stream",
          "name": "stderr",
          "text": [
            "<ipython-input-31-a23808ec79f0>:2: FutureWarning: The squeeze argument has been deprecated and will be removed in a future version. Append .squeeze(\"columns\") to the call to squeeze.\n",
            "\n",
            "\n",
            "  pd.read_csv('/content/subs.csv', squeeze =True)\n"
          ]
        },
        {
          "output_type": "execute_result",
          "data": {
            "text/plain": [
              "0       48\n",
              "1       57\n",
              "2       40\n",
              "3       43\n",
              "4       44\n",
              "      ... \n",
              "360    231\n",
              "361    226\n",
              "362    155\n",
              "363    144\n",
              "364    172\n",
              "Name: Subscribers gained, Length: 365, dtype: int64"
            ]
          },
          "metadata": {},
          "execution_count": 31
        }
      ]
    },
    {
      "cell_type": "code",
      "source": [
        "#insert into variable\n",
        "subs = pd.read_csv('/content/subs.csv', squeeze = True)\n",
        "subs"
      ],
      "metadata": {
        "colab": {
          "base_uri": "https://localhost:8080/"
        },
        "id": "65ydETdopCGj",
        "outputId": "c3be93dc-3a72-4b2e-e91f-aaee39cfd2ca"
      },
      "execution_count": 32,
      "outputs": [
        {
          "output_type": "stream",
          "name": "stderr",
          "text": [
            "<ipython-input-32-65ae27aa4615>:2: FutureWarning: The squeeze argument has been deprecated and will be removed in a future version. Append .squeeze(\"columns\") to the call to squeeze.\n",
            "\n",
            "\n",
            "  subs = pd.read_csv('/content/subs.csv', squeeze = True)\n"
          ]
        },
        {
          "output_type": "execute_result",
          "data": {
            "text/plain": [
              "0       48\n",
              "1       57\n",
              "2       40\n",
              "3       43\n",
              "4       44\n",
              "      ... \n",
              "360    231\n",
              "361    226\n",
              "362    155\n",
              "363    144\n",
              "364    172\n",
              "Name: Subscribers gained, Length: 365, dtype: int64"
            ]
          },
          "metadata": {},
          "execution_count": 32
        }
      ]
    },
    {
      "cell_type": "code",
      "source": [
        "#with 2 column\n",
        "vk = pd.read_csv('/content/kohli_ipl.csv', index_col = 'match_no', squeeze = True)\n",
        "vk"
      ],
      "metadata": {
        "colab": {
          "base_uri": "https://localhost:8080/"
        },
        "id": "I7pLG40CqdU7",
        "outputId": "3db9c772-1d55-4f33-f138-7c0a40212da8"
      },
      "execution_count": 35,
      "outputs": [
        {
          "output_type": "stream",
          "name": "stderr",
          "text": [
            "<ipython-input-35-fa9ec3401079>:2: FutureWarning: The squeeze argument has been deprecated and will be removed in a future version. Append .squeeze(\"columns\") to the call to squeeze.\n",
            "\n",
            "\n",
            "  vk = pd.read_csv('/content/kohli_ipl.csv', index_col = 'match_no', squeeze = True)\n"
          ]
        },
        {
          "output_type": "execute_result",
          "data": {
            "text/plain": [
              "match_no\n",
              "1       1\n",
              "2      23\n",
              "3      13\n",
              "4      12\n",
              "5       1\n",
              "       ..\n",
              "211     0\n",
              "212    20\n",
              "213    73\n",
              "214    25\n",
              "215     7\n",
              "Name: runs, Length: 215, dtype: int64"
            ]
          },
          "metadata": {},
          "execution_count": 35
        }
      ]
    },
    {
      "cell_type": "code",
      "source": [
        "#with 2 column --- bollyhood\n",
        "bolly = pd.read_csv('/content/bollywood.csv', index_col = 'movie', squeeze = True)\n",
        "bolly"
      ],
      "metadata": {
        "colab": {
          "base_uri": "https://localhost:8080/"
        },
        "id": "6g4VOeE-rcaB",
        "outputId": "6681cc76-463b-4740-b919-ae365de44a1c"
      },
      "execution_count": 38,
      "outputs": [
        {
          "output_type": "stream",
          "name": "stderr",
          "text": [
            "<ipython-input-38-b2dabc78fed1>:2: FutureWarning: The squeeze argument has been deprecated and will be removed in a future version. Append .squeeze(\"columns\") to the call to squeeze.\n",
            "\n",
            "\n",
            "  bolly = pd.read_csv('/content/bollywood.csv', index_col = 'movie', squeeze = True)\n"
          ]
        },
        {
          "output_type": "execute_result",
          "data": {
            "text/plain": [
              "movie\n",
              "Uri: The Surgical Strike                   Vicky Kaushal\n",
              "Battalion 609                                Vicky Ahuja\n",
              "The Accidental Prime Minister (film)         Anupam Kher\n",
              "Why Cheat India                            Emraan Hashmi\n",
              "Evening Shadows                         Mona Ambegaonkar\n",
              "                                              ...       \n",
              "Hum Tumhare Hain Sanam                    Shah Rukh Khan\n",
              "Aankhen (2002 film)                     Amitabh Bachchan\n",
              "Saathiya (film)                             Vivek Oberoi\n",
              "Company (film)                                Ajay Devgn\n",
              "Awara Paagal Deewana                        Akshay Kumar\n",
              "Name: lead, Length: 1500, dtype: object"
            ]
          },
          "metadata": {},
          "execution_count": 38
        }
      ]
    }
  ]
}