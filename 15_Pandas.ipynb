{
  "nbformat": 4,
  "nbformat_minor": 0,
  "metadata": {
    "colab": {
      "provenance": [],
      "authorship_tag": "ABX9TyOil4Pn4ikIRk0BsQjtwpA8",
      "include_colab_link": true
    },
    "kernelspec": {
      "name": "python3",
      "display_name": "Python 3"
    },
    "language_info": {
      "name": "python"
    }
  },
  "cells": [
    {
      "cell_type": "markdown",
      "metadata": {
        "id": "view-in-github",
        "colab_type": "text"
      },
      "source": [
        "<a href=\"https://colab.research.google.com/github/Roshanshres/pandas/blob/main/15_Pandas.ipynb\" target=\"_parent\"><img src=\"https://colab.research.google.com/assets/colab-badge.svg\" alt=\"Open In Colab\"/></a>"
      ]
    },
    {
      "cell_type": "code",
      "execution_count": 11,
      "metadata": {
        "id": "t835vPl-2mXw"
      },
      "outputs": [],
      "source": []
    },
    {
      "cell_type": "markdown",
      "source": [
        "Pandas is fast powwerful flexible, and easy to use open source data analysis and manipulation tool, built on the top of the python programming language."
      ],
      "metadata": {
        "id": "X0LUMpGN2sed"
      }
    },
    {
      "cell_type": "markdown",
      "source": [
        "PANDA series are like column in table 1-D array holding data of any type."
      ],
      "metadata": {
        "id": "Q3HMR0_52_lA"
      }
    },
    {
      "cell_type": "markdown",
      "source": [
        "Types of objects\n",
        "\n",
        "\n",
        "1.   Series\n",
        "2.   Dataframe\n",
        "\n"
      ],
      "metadata": {
        "id": "SNPN_bAKONYJ"
      }
    },
    {
      "cell_type": "code",
      "source": [
        "#importing pandas\n",
        "import numpy as np\n",
        "import pandas as pd\n",
        "#series\n",
        "# create array\n",
        "country = ['India', 'Nepal', 'USA', 'SriLanka', 'UK']\n",
        "pd.Series(country)"
      ],
      "metadata": {
        "id": "PfiaHrSl2_Bh",
        "colab": {
          "base_uri": "https://localhost:8080/"
        },
        "outputId": "e360b86d-ea27-4f3c-9202-9e16f6c69019"
      },
      "execution_count": 12,
      "outputs": [
        {
          "output_type": "execute_result",
          "data": {
            "text/plain": [
              "0       India\n",
              "1       Nepal\n",
              "2         USA\n",
              "3    SriLanka\n",
              "4          UK\n",
              "dtype: object"
            ]
          },
          "metadata": {},
          "execution_count": 12
        }
      ]
    },
    {
      "cell_type": "code",
      "source": [
        "runs = [13,24,56,78,99,123,124]\n",
        "pd.Series(runs)"
      ],
      "metadata": {
        "colab": {
          "base_uri": "https://localhost:8080/"
        },
        "id": "S50N4qKHPjiq",
        "outputId": "51e5b6bc-5ff2-4333-ab0e-4e235f489646"
      },
      "execution_count": 13,
      "outputs": [
        {
          "output_type": "execute_result",
          "data": {
            "text/plain": [
              "0     13\n",
              "1     24\n",
              "2     56\n",
              "3     78\n",
              "4     99\n",
              "5    123\n",
              "6    124\n",
              "dtype: int64"
            ]
          },
          "metadata": {},
          "execution_count": 13
        }
      ]
    },
    {
      "cell_type": "code",
      "source": [
        "#custom index\n",
        "marks = [90,80,30,40]\n",
        "subject =   ['Physics','math', 'Biology', 'Nepal']\n",
        "pd.Series(marks, index= subject)"
      ],
      "metadata": {
        "colab": {
          "base_uri": "https://localhost:8080/"
        },
        "id": "pKt5FTcARb-b",
        "outputId": "b38774dc-b5d3-48eb-996f-420caef9fed8"
      },
      "execution_count": 14,
      "outputs": [
        {
          "output_type": "execute_result",
          "data": {
            "text/plain": [
              "Physics    90\n",
              "math       80\n",
              "Biology    30\n",
              "Nepal      40\n",
              "dtype: int64"
            ]
          },
          "metadata": {},
          "execution_count": 14
        }
      ]
    },
    {
      "cell_type": "code",
      "source": [
        "#to give names\n",
        "pd.Series(marks,index = subject, name ='Roshan')\n",
        "#marks = pd.Series(index = subject, name = 'Roshan')"
      ],
      "metadata": {
        "colab": {
          "base_uri": "https://localhost:8080/"
        },
        "id": "aPGpkHI4R7GM",
        "outputId": "024f5002-e892-4b1e-d55c-9b9736980916"
      },
      "execution_count": 15,
      "outputs": [
        {
          "output_type": "execute_result",
          "data": {
            "text/plain": [
              "Physics    90\n",
              "math       80\n",
              "Biology    30\n",
              "Nepal      40\n",
              "Name: Roshan, dtype: int64"
            ]
          },
          "metadata": {},
          "execution_count": 15
        }
      ]
    },
    {
      "cell_type": "code",
      "source": [
        "marks = pd.Series(index = subject, name = 'Roshan')\n",
        "marks"
      ],
      "metadata": {
        "colab": {
          "base_uri": "https://localhost:8080/"
        },
        "id": "Ccb2Lzm3UHmT",
        "outputId": "6621a824-5277-4d6e-b835-30ec6a5bc3b8"
      },
      "execution_count": 16,
      "outputs": [
        {
          "output_type": "stream",
          "name": "stderr",
          "text": [
            "<ipython-input-16-9c2fa23c53ef>:1: FutureWarning: The default dtype for empty Series will be 'object' instead of 'float64' in a future version. Specify a dtype explicitly to silence this warning.\n",
            "  marks = pd.Series(index = subject, name = 'Roshan')\n"
          ]
        },
        {
          "output_type": "execute_result",
          "data": {
            "text/plain": [
              "Physics   NaN\n",
              "math      NaN\n",
              "Biology   NaN\n",
              "Nepal     NaN\n",
              "Name: Roshan, dtype: float64"
            ]
          },
          "metadata": {},
          "execution_count": 16
        }
      ]
    },
    {
      "cell_type": "code",
      "source": [
        "#series from dict\n",
        "marks = {\n",
        "    'math':70,\n",
        "    'nepali':90,\n",
        "    'physics':80,\n",
        "    'chemistry': 60\n",
        "}\n",
        "marks_series = pd.Series(marks)\n",
        "marks"
      ],
      "metadata": {
        "colab": {
          "base_uri": "https://localhost:8080/"
        },
        "id": "Jdum_TUTUgRf",
        "outputId": "48a3ba07-0825-46de-edb9-6b509857c879"
      },
      "execution_count": 17,
      "outputs": [
        {
          "output_type": "execute_result",
          "data": {
            "text/plain": [
              "{'math': 70, 'nepali': 90, 'physics': 80, 'chemistry': 60}"
            ]
          },
          "metadata": {},
          "execution_count": 17
        }
      ]
    },
    {
      "cell_type": "code",
      "source": [
        "pd.Series(marks, name = 'roshan')"
      ],
      "metadata": {
        "colab": {
          "base_uri": "https://localhost:8080/"
        },
        "id": "kipX9GGDVYqk",
        "outputId": "a8e2ddbe-bc0d-4aeb-c0f0-a10e346230ff"
      },
      "execution_count": 18,
      "outputs": [
        {
          "output_type": "execute_result",
          "data": {
            "text/plain": [
              "math         70\n",
              "nepali       90\n",
              "physics      80\n",
              "chemistry    60\n",
              "Name: roshan, dtype: int64"
            ]
          },
          "metadata": {},
          "execution_count": 18
        }
      ]
    },
    {
      "cell_type": "code",
      "source": [],
      "metadata": {
        "id": "27_u6MIfjJcI"
      },
      "execution_count": 18,
      "outputs": []
    },
    {
      "cell_type": "code",
      "source": [],
      "metadata": {
        "id": "Rq8z1VNpnrZv"
      },
      "execution_count": 18,
      "outputs": []
    },
    {
      "cell_type": "markdown",
      "source": [
        "SERIESE USING READ_CSV\n"
      ],
      "metadata": {
        "id": "PeHpsKitntSh"
      }
    },
    {
      "cell_type": "code",
      "source": [
        "# pd.read_csv('/content/subs.csv')\n",
        "#this is not in series to see type we do\n",
        "type(pd.read_csv('/content/subs.csv'))"
      ],
      "metadata": {
        "colab": {
          "base_uri": "https://localhost:8080/"
        },
        "id": "UyzGLmVXn1Cf",
        "outputId": "a44f4698-e0c6-4754-fa02-b2ef4f962ac8"
      },
      "execution_count": 19,
      "outputs": [
        {
          "output_type": "execute_result",
          "data": {
            "text/plain": [
              "pandas.core.frame.DataFrame"
            ]
          },
          "metadata": {},
          "execution_count": 19
        }
      ]
    },
    {
      "cell_type": "code",
      "source": [
        "#to convert into serires\n",
        "pd.read_csv('/content/subs.csv', squeeze =True)"
      ],
      "metadata": {
        "colab": {
          "base_uri": "https://localhost:8080/"
        },
        "id": "dQqQETCroZlT",
        "outputId": "d09f935c-9bca-4e26-9a6e-b69114acc6fe"
      },
      "execution_count": 20,
      "outputs": [
        {
          "output_type": "stream",
          "name": "stderr",
          "text": [
            "<ipython-input-20-a23808ec79f0>:2: FutureWarning: The squeeze argument has been deprecated and will be removed in a future version. Append .squeeze(\"columns\") to the call to squeeze.\n",
            "\n",
            "\n",
            "  pd.read_csv('/content/subs.csv', squeeze =True)\n"
          ]
        },
        {
          "output_type": "execute_result",
          "data": {
            "text/plain": [
              "0       48\n",
              "1       57\n",
              "2       40\n",
              "3       43\n",
              "4       44\n",
              "      ... \n",
              "360    231\n",
              "361    226\n",
              "362    155\n",
              "363    144\n",
              "364    172\n",
              "Name: Subscribers gained, Length: 365, dtype: int64"
            ]
          },
          "metadata": {},
          "execution_count": 20
        }
      ]
    },
    {
      "cell_type": "code",
      "source": [
        "#insert into variable\n",
        "subs = pd.read_csv('/content/subs.csv', squeeze = True)\n",
        "subs"
      ],
      "metadata": {
        "colab": {
          "base_uri": "https://localhost:8080/"
        },
        "id": "65ydETdopCGj",
        "outputId": "06d96989-a33f-40a8-dcee-2cc62c793356"
      },
      "execution_count": 21,
      "outputs": [
        {
          "output_type": "stream",
          "name": "stderr",
          "text": [
            "<ipython-input-21-65ae27aa4615>:2: FutureWarning: The squeeze argument has been deprecated and will be removed in a future version. Append .squeeze(\"columns\") to the call to squeeze.\n",
            "\n",
            "\n",
            "  subs = pd.read_csv('/content/subs.csv', squeeze = True)\n"
          ]
        },
        {
          "output_type": "execute_result",
          "data": {
            "text/plain": [
              "0       48\n",
              "1       57\n",
              "2       40\n",
              "3       43\n",
              "4       44\n",
              "      ... \n",
              "360    231\n",
              "361    226\n",
              "362    155\n",
              "363    144\n",
              "364    172\n",
              "Name: Subscribers gained, Length: 365, dtype: int64"
            ]
          },
          "metadata": {},
          "execution_count": 21
        }
      ]
    },
    {
      "cell_type": "code",
      "source": [
        "#with 2 column\n",
        "vk = pd.read_csv('/content/kohli_ipl.csv', index_col = 'match_no', squeeze = True)\n",
        "vk"
      ],
      "metadata": {
        "colab": {
          "base_uri": "https://localhost:8080/"
        },
        "id": "I7pLG40CqdU7",
        "outputId": "8e096e4d-926f-4ecb-b2e5-45c9f063c522"
      },
      "execution_count": 22,
      "outputs": [
        {
          "output_type": "stream",
          "name": "stderr",
          "text": [
            "<ipython-input-22-fa9ec3401079>:2: FutureWarning: The squeeze argument has been deprecated and will be removed in a future version. Append .squeeze(\"columns\") to the call to squeeze.\n",
            "\n",
            "\n",
            "  vk = pd.read_csv('/content/kohli_ipl.csv', index_col = 'match_no', squeeze = True)\n"
          ]
        },
        {
          "output_type": "execute_result",
          "data": {
            "text/plain": [
              "match_no\n",
              "1       1\n",
              "2      23\n",
              "3      13\n",
              "4      12\n",
              "5       1\n",
              "       ..\n",
              "211     0\n",
              "212    20\n",
              "213    73\n",
              "214    25\n",
              "215     7\n",
              "Name: runs, Length: 215, dtype: int64"
            ]
          },
          "metadata": {},
          "execution_count": 22
        }
      ]
    },
    {
      "cell_type": "code",
      "source": [
        "#with 2 column --- bollyhood\n",
        "bolly = pd.read_csv('/content/bollywood.csv', index_col = 'movie', squeeze = True)\n",
        "bolly"
      ],
      "metadata": {
        "colab": {
          "base_uri": "https://localhost:8080/"
        },
        "id": "6g4VOeE-rcaB",
        "outputId": "4fb01cd2-4dc2-4b0d-e904-06e08e49dd7b"
      },
      "execution_count": 23,
      "outputs": [
        {
          "output_type": "stream",
          "name": "stderr",
          "text": [
            "<ipython-input-23-b2dabc78fed1>:2: FutureWarning: The squeeze argument has been deprecated and will be removed in a future version. Append .squeeze(\"columns\") to the call to squeeze.\n",
            "\n",
            "\n",
            "  bolly = pd.read_csv('/content/bollywood.csv', index_col = 'movie', squeeze = True)\n"
          ]
        },
        {
          "output_type": "execute_result",
          "data": {
            "text/plain": [
              "movie\n",
              "Uri: The Surgical Strike                   Vicky Kaushal\n",
              "Battalion 609                                Vicky Ahuja\n",
              "The Accidental Prime Minister (film)         Anupam Kher\n",
              "Why Cheat India                            Emraan Hashmi\n",
              "Evening Shadows                         Mona Ambegaonkar\n",
              "                                              ...       \n",
              "Hum Tumhare Hain Sanam                    Shah Rukh Khan\n",
              "Aankhen (2002 film)                     Amitabh Bachchan\n",
              "Saathiya (film)                             Vivek Oberoi\n",
              "Company (film)                                Ajay Devgn\n",
              "Awara Paagal Deewana                        Akshay Kumar\n",
              "Name: lead, Length: 1500, dtype: object"
            ]
          },
          "metadata": {},
          "execution_count": 23
        }
      ]
    },
    {
      "cell_type": "code",
      "source": [
        "#head and tail\n",
        "subs.head()"
      ],
      "metadata": {
        "id": "wzVzuagisW-k",
        "colab": {
          "base_uri": "https://localhost:8080/"
        },
        "outputId": "b4c49657-89ff-4caf-8cfb-58c5ffa5e9aa"
      },
      "execution_count": 24,
      "outputs": [
        {
          "output_type": "execute_result",
          "data": {
            "text/plain": [
              "0    48\n",
              "1    57\n",
              "2    40\n",
              "3    43\n",
              "4    44\n",
              "Name: Subscribers gained, dtype: int64"
            ]
          },
          "metadata": {},
          "execution_count": 24
        }
      ]
    },
    {
      "cell_type": "code",
      "source": [
        "#for rows-- 1st 5 rows\n",
        "vk.head()"
      ],
      "metadata": {
        "colab": {
          "base_uri": "https://localhost:8080/"
        },
        "id": "pp8UA2kEs-XG",
        "outputId": "8a0abf20-4a5e-431b-c0b4-79bcdbaa7996"
      },
      "execution_count": 25,
      "outputs": [
        {
          "output_type": "execute_result",
          "data": {
            "text/plain": [
              "match_no\n",
              "1     1\n",
              "2    23\n",
              "3    13\n",
              "4    12\n",
              "5     1\n",
              "Name: runs, dtype: int64"
            ]
          },
          "metadata": {},
          "execution_count": 25
        }
      ]
    },
    {
      "cell_type": "code",
      "source": [
        "#last 5 rows\n",
        "bolly.tail()"
      ],
      "metadata": {
        "colab": {
          "base_uri": "https://localhost:8080/"
        },
        "id": "qsHxnTmDtNSr",
        "outputId": "d1d770a4-60d3-4971-e1b7-ca3777b5a463"
      },
      "execution_count": 26,
      "outputs": [
        {
          "output_type": "execute_result",
          "data": {
            "text/plain": [
              "movie\n",
              "Hum Tumhare Hain Sanam      Shah Rukh Khan\n",
              "Aankhen (2002 film)       Amitabh Bachchan\n",
              "Saathiya (film)               Vivek Oberoi\n",
              "Company (film)                  Ajay Devgn\n",
              "Awara Paagal Deewana          Akshay Kumar\n",
              "Name: lead, dtype: object"
            ]
          },
          "metadata": {},
          "execution_count": 26
        }
      ]
    },
    {
      "cell_type": "code",
      "source": [
        "#randomly takes\n",
        "bolly.sample()"
      ],
      "metadata": {
        "colab": {
          "base_uri": "https://localhost:8080/"
        },
        "id": "yvgAYPl0tIS0",
        "outputId": "717797f1-4641-486e-8fd7-ce70d78250e8"
      },
      "execution_count": 28,
      "outputs": [
        {
          "output_type": "execute_result",
          "data": {
            "text/plain": [
              "movie\n",
              "Ghost (2019 film)    Sanaya Irani\n",
              "Name: lead, dtype: object"
            ]
          },
          "metadata": {},
          "execution_count": 28
        }
      ]
    },
    {
      "cell_type": "code",
      "source": [
        "#value _- counts\n",
        "bolly.value_counts()"
      ],
      "metadata": {
        "colab": {
          "base_uri": "https://localhost:8080/"
        },
        "id": "Pt-crEBTtkCz",
        "outputId": "66fa7dec-bc4d-4278-ba6e-0d4da48ed773"
      },
      "execution_count": 30,
      "outputs": [
        {
          "output_type": "execute_result",
          "data": {
            "text/plain": [
              "Akshay Kumar        48\n",
              "Amitabh Bachchan    45\n",
              "Ajay Devgn          38\n",
              "Salman Khan         31\n",
              "Sanjay Dutt         26\n",
              "                    ..\n",
              "Diganth              1\n",
              "Parveen Kaur         1\n",
              "Seema Azmi           1\n",
              "Akanksha Puri        1\n",
              "Edwin Fernandes      1\n",
              "Name: lead, Length: 566, dtype: int64"
            ]
          },
          "metadata": {},
          "execution_count": 30
        }
      ]
    },
    {
      "cell_type": "code",
      "source": [
        "vk.value_counts()"
      ],
      "metadata": {
        "colab": {
          "base_uri": "https://localhost:8080/"
        },
        "id": "yltMaNc8t3H0",
        "outputId": "0543d816-b1f0-469e-947b-d60b016aafac"
      },
      "execution_count": 33,
      "outputs": [
        {
          "output_type": "execute_result",
          "data": {
            "text/plain": [
              "0     9\n",
              "1     8\n",
              "12    8\n",
              "9     7\n",
              "35    6\n",
              "     ..\n",
              "36    1\n",
              "45    1\n",
              "71    1\n",
              "37    1\n",
              "53    1\n",
              "Name: runs, Length: 78, dtype: int64"
            ]
          },
          "metadata": {},
          "execution_count": 33
        }
      ]
    },
    {
      "cell_type": "code",
      "source": [
        "#sort_values---inplace\n",
        "vk.sort_values()"
      ],
      "metadata": {
        "colab": {
          "base_uri": "https://localhost:8080/"
        },
        "id": "MYvxZxPFuXtD",
        "outputId": "622d2e03-0881-4407-953a-e95244e438ed"
      },
      "execution_count": 34,
      "outputs": [
        {
          "output_type": "execute_result",
          "data": {
            "text/plain": [
              "match_no\n",
              "87       0\n",
              "211      0\n",
              "207      0\n",
              "206      0\n",
              "91       0\n",
              "      ... \n",
              "164    100\n",
              "120    100\n",
              "123    108\n",
              "126    109\n",
              "128    113\n",
              "Name: runs, Length: 215, dtype: int64"
            ]
          },
          "metadata": {},
          "execution_count": 34
        }
      ]
    },
    {
      "cell_type": "code",
      "source": [
        "vk.sort_values(ascending = False)"
      ],
      "metadata": {
        "colab": {
          "base_uri": "https://localhost:8080/"
        },
        "id": "AewV0MFKultw",
        "outputId": "6fe4a225-9e1d-4605-b0b6-b475ef33a6b4"
      },
      "execution_count": 36,
      "outputs": [
        {
          "output_type": "execute_result",
          "data": {
            "text/plain": [
              "match_no\n",
              "128    113\n",
              "126    109\n",
              "123    108\n",
              "164    100\n",
              "120    100\n",
              "      ... \n",
              "93       0\n",
              "211      0\n",
              "130      0\n",
              "8        0\n",
              "135      0\n",
              "Name: runs, Length: 215, dtype: int64"
            ]
          },
          "metadata": {},
          "execution_count": 36
        }
      ]
    }
  ]
}